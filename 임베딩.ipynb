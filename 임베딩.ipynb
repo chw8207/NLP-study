{
  "nbformat": 4,
  "nbformat_minor": 0,
  "metadata": {
    "colab": {
      "provenance": [],
      "mount_file_id": "1crYgN6HZpEq04YX5j6cayU4NbKrdQMCU",
      "authorship_tag": "ABX9TyOrl1eqiPgA1H4dIjsBTyAC",
      "include_colab_link": true
    },
    "kernelspec": {
      "name": "python3",
      "display_name": "Python 3"
    },
    "language_info": {
      "name": "python"
    }
  },
  "cells": [
    {
      "cell_type": "markdown",
      "metadata": {
        "id": "view-in-github",
        "colab_type": "text"
      },
      "source": [
        "<a href=\"https://colab.research.google.com/github/chw8207/NLP-study/blob/main/%EC%9E%84%EB%B2%A0%EB%94%A9.ipynb\" target=\"_parent\"><img src=\"https://colab.research.google.com/assets/colab-badge.svg\" alt=\"Open In Colab\"/></a>"
      ]
    },
    {
      "cell_type": "code",
      "source": [
        "!pip install annoy"
      ],
      "metadata": {
        "colab": {
          "base_uri": "https://localhost:8080/"
        },
        "id": "MPBPDaQpbmAr",
        "outputId": "019f8afb-da27-4a2f-a76c-82d485f30eed"
      },
      "execution_count": 33,
      "outputs": [
        {
          "output_type": "stream",
          "name": "stdout",
          "text": [
            "Looking in indexes: https://pypi.org/simple, https://us-python.pkg.dev/colab-wheels/public/simple/\n",
            "Requirement already satisfied: annoy in /usr/local/lib/python3.10/dist-packages (1.17.2)\n"
          ]
        }
      ]
    },
    {
      "cell_type": "code",
      "source": [
        "import torch\n",
        "import torch.nn as nn\n",
        "from tqdm import tqdm\n",
        "from annoy import AnnoyIndex\n",
        "import numpy as np"
      ],
      "metadata": {
        "id": "lMHnJ6QRpdYS"
      },
      "execution_count": 34,
      "outputs": []
    },
    {
      "cell_type": "code",
      "source": [
        "# 사전 훈련된 단어 임베딩 사용하기\n",
        "class PreTrainedEmbeddings(object) : \n",
        "  def __init__(self, word_to_index, word_vectors) : \n",
        "      \"\"\"\n",
        "        매개변수:\n",
        "            word_to_index (dict): 단어에서 정수로 매핑\n",
        "            word_vectors (numpy 배열의 리스트)\n",
        "      \"\"\"\n",
        "      self.word_to_index = word_to_index\n",
        "      self.word_vectors = word_vectors\n",
        "      self.index_to_word = {v:k for k, v in self.word_to_index.items()}\n",
        "      # AnnoyIndex(len(word_vectors[0]), metric='거리척도')\n",
        "      # 근사 최근접 이웃 탐색을 제공함\n",
        "      # len(word_vectors[0]) : 첫 번째 단어 벡터의 길이 활용 \n",
        "      #                        모든 단어의 벡터 길이가 동일해야하기 때문\n",
        "      self.index = AnnoyIndex(f=100, metric='euclidean') \n",
        "      print(\"인덱스 만드는 중!\")\n",
        "      # i = 0\n",
        "      for _,i in word_to_index.items() : \n",
        "        self.index.add_item(i, word_vectors[i])\n",
        "      self.index.build(50)\n",
        "      print(\"완료!\")\n",
        "\n",
        "  @classmethod\n",
        "  def from_embeddings_file(cls, embedding_file) : \n",
        "    \"\"\"사전 훈련된 벡터 파일에서 객체를 만듭니다.\n",
        "        \n",
        "        벡터 파일은 다음과 같은 포맷입니다:\n",
        "            word0 x0_0 x0_1 x0_2 x0_3 ... x0_N\n",
        "            word1 x1_0 x1_1 x1_2 x1_3 ... x1_N\n",
        "        \n",
        "        매개변수:\n",
        "            embedding_file (str): 파일 위치\n",
        "        반환값:\n",
        "            PretrainedEmbeddings의 인스턴스\n",
        "    \"\"\"\n",
        "    word_to_index = {}\n",
        "    word_vectors = []\n",
        "    with open(embedding_file) as fp : \n",
        "      for line in fp.readlines() : \n",
        "        line = line.split(' ')\n",
        "        word = line[0]\n",
        "        # 리스트의 나머지 요소들을 실수로 변환 후\n",
        "        # 넘파이 배열로 변환 후 벡터를 생성함\n",
        "        vec = np.array([float(x) for x in line[1:]])\n",
        "        # 해당 단어가 주어지면 이 단어를 딕셔너리의 키로 사용\n",
        "        # 딕셔너리의 현재 값을 해당 단어의 인덱스로 설정\n",
        "        word_to_index[word] = len(word_to_index)\n",
        "        word_vectors.append(vec)\n",
        "    return cls(word_to_index, word_vectors)\n",
        "\n",
        "# 단어 임베딩을 활용한 유추 작업\n",
        "  def get_embedding(self, word) : \n",
        "    \"\"\"\n",
        "        매개변수:\n",
        "            word (str)\n",
        "        반환값\n",
        "            임베딩 (numpy.ndarray)\n",
        "    \"\"\"\n",
        "    return self.word_vectors[self.word_to_index[word]]\n",
        "\n",
        "  def get_closets_to_vector(self, vector, n=1) : \n",
        "    \"\"\"벡터가 주어지면 n 개의 최근접 이웃을 반환합니다\n",
        "        매개변수:\n",
        "            vector (np.ndarray): Annoy 인덱스에 있는 벡터의 크기와 같아야 합니다\n",
        "            n (int): 반환될 이웃의 개수\n",
        "        반환값:\n",
        "            [str, str, ...]: 주어진 벡터와 가장 가까운 단어\n",
        "                단어는 거리순으로 정렬되어 있지 않습니다.\n",
        "    \"\"\"\n",
        "    nn_indices = self.index.get_nns_by_vector(vector, n)\n",
        "    return [self.index_to_word[neighbor] for neighbor in nn_indices]\n",
        "\n",
        "  def compute_and_print_analogy(self, word1, word2, word3) : \n",
        "    \"\"\"단어 임베딩을 사용한 유추 결과를 출력합니다\n",
        "\n",
        "        word1이 word2일 때 word3은 __입니다.\n",
        "        이 메서드는 word1 : word2 :: word3 : word4를 출력합니다\n",
        "        \n",
        "        매개변수:\n",
        "            word1 (str)\n",
        "            word2 (str)\n",
        "            word3 (str)\n",
        "    \"\"\"\n",
        "    vec1 = self.get_embedding(word1)\n",
        "    vec2 = self.get_embedding(word2)\n",
        "    vec3 = self.get_embedding(word3)\n",
        "\n",
        "    # 네 번째 단어 임베딩 계산\n",
        "    # 단순 가정 : 이 유추는 공간적 관계(spatial_relationship)\n",
        "    spatial_relationship = vec2 - vec1\n",
        "    vec4 = vec3 + spatial_relationship\n",
        "\n",
        "    closet_words = self.get_closets_to_vector(vec4, n=4)\n",
        "    existing_words = set([word1, word2, word3])\n",
        "    closet_words = [word for word in closet_words if word not in existing_words]\n",
        "\n",
        "    if len(closet_words) == 0 :\n",
        "      print('계산된 벡터와 가장 가까운 이웃을 찾을 수 없습니다.')\n",
        "      return\n",
        "\n",
        "    for word4 in closet_words : \n",
        "      print(f'{word1} : {word2} :: {word3} : {word4}')"
      ],
      "metadata": {
        "id": "KAaSSh-EsGAn"
      },
      "execution_count": 51,
      "outputs": []
    },
    {
      "cell_type": "code",
      "source": [
        "!wget http://nlp.stanford.edu/data/glove.6B.zip\n",
        "!unzip glove.6B.zip"
      ],
      "metadata": {
        "colab": {
          "base_uri": "https://localhost:8080/"
        },
        "id": "-OQpSuRlzVjx",
        "outputId": "1931a002-edb0-4086-a2b4-6cfe6b2982ed"
      },
      "execution_count": 31,
      "outputs": [
        {
          "output_type": "stream",
          "name": "stdout",
          "text": [
            "--2023-06-09 05:06:58--  http://nlp.stanford.edu/data/glove.6B.zip\n",
            "Resolving nlp.stanford.edu (nlp.stanford.edu)... 171.64.67.140\n",
            "Connecting to nlp.stanford.edu (nlp.stanford.edu)|171.64.67.140|:80... connected.\n",
            "HTTP request sent, awaiting response... 302 Found\n",
            "Location: https://nlp.stanford.edu/data/glove.6B.zip [following]\n",
            "--2023-06-09 05:06:58--  https://nlp.stanford.edu/data/glove.6B.zip\n",
            "Connecting to nlp.stanford.edu (nlp.stanford.edu)|171.64.67.140|:443... connected.\n",
            "HTTP request sent, awaiting response... 301 Moved Permanently\n",
            "Location: https://downloads.cs.stanford.edu/nlp/data/glove.6B.zip [following]\n",
            "--2023-06-09 05:06:58--  https://downloads.cs.stanford.edu/nlp/data/glove.6B.zip\n",
            "Resolving downloads.cs.stanford.edu (downloads.cs.stanford.edu)... 171.64.64.22\n",
            "Connecting to downloads.cs.stanford.edu (downloads.cs.stanford.edu)|171.64.64.22|:443... connected.\n",
            "HTTP request sent, awaiting response... 200 OK\n",
            "Length: 862182613 (822M) [application/zip]\n",
            "Saving to: ‘glove.6B.zip.1’\n",
            "\n",
            "glove.6B.zip.1        0%[                    ]       0  --.-KB/s               ^C\n",
            "Archive:  glove.6B.zip\n",
            "replace glove.6B.50d.txt? [y]es, [n]o, [A]ll, [N]one, [r]ename: "
          ]
        }
      ]
    },
    {
      "cell_type": "code",
      "source": [
        "embeddings = PreTrainedEmbeddings.from_embeddings_file('/content/drive/MyDrive/Colab Notebooks/자연어처리공부/NLP-study/NLP-study/data/glove/glove.6B.100d.txt')"
      ],
      "metadata": {
        "colab": {
          "base_uri": "https://localhost:8080/"
        },
        "id": "cSj5KnmlylQX",
        "outputId": "fb67ad6a-d264-4fab-bcec-54472c36b00c"
      },
      "execution_count": 52,
      "outputs": [
        {
          "output_type": "stream",
          "name": "stdout",
          "text": [
            "인덱스 만드는 중!\n",
            "완료!\n"
          ]
        }
      ]
    },
    {
      "cell_type": "code",
      "source": [
        "# 관계 1 : 성별 명사와 대명사의 관계\n",
        "embeddings.compute_and_print_analogy('man', 'he', 'woman')"
      ],
      "metadata": {
        "colab": {
          "base_uri": "https://localhost:8080/"
        },
        "id": "-7ghggJjDllG",
        "outputId": "fa55ea8f-356d-4ac0-9b21-ce6d1afcc6b6"
      },
      "execution_count": 53,
      "outputs": [
        {
          "output_type": "stream",
          "name": "stdout",
          "text": [
            "man : he :: woman : she\n",
            "man : he :: woman : never\n"
          ]
        }
      ]
    },
    {
      "cell_type": "code",
      "source": [
        "# 동사-명사 관계\n",
        "embeddings.compute_and_print_analogy('fly', 'plane', 'sail')"
      ],
      "metadata": {
        "colab": {
          "base_uri": "https://localhost:8080/"
        },
        "id": "md96e1MPEg7q",
        "outputId": "af323461-9edb-4e90-f38e-b433b919aeb9"
      },
      "execution_count": 54,
      "outputs": [
        {
          "output_type": "stream",
          "name": "stdout",
          "text": [
            "fly : plane :: sail : ship\n",
            "fly : plane :: sail : vessel\n"
          ]
        }
      ]
    },
    {
      "cell_type": "code",
      "source": [
        "# 상위어(Hypernymy)(더 넓은 범주)\n",
        "embeddings.compute_and_print_analogy('blue', 'color', 'dog')"
      ],
      "metadata": {
        "colab": {
          "base_uri": "https://localhost:8080/"
        },
        "id": "9lsPpOInEtca",
        "outputId": "17253695-25d4-4604-b7ac-0132e7358d49"
      },
      "execution_count": 55,
      "outputs": [
        {
          "output_type": "stream",
          "name": "stdout",
          "text": [
            "blue : color :: dog : animal\n",
            "blue : color :: dog : breed\n",
            "blue : color :: dog : pet\n"
          ]
        }
      ]
    },
    {
      "cell_type": "code",
      "source": [
        "# 부분에서 전체(Meronymy)\n",
        "embeddings.compute_and_print_analogy('toe', 'foot', 'finger')"
      ],
      "metadata": {
        "colab": {
          "base_uri": "https://localhost:8080/"
        },
        "id": "ozxXFhcCFD8g",
        "outputId": "a27de329-0d49-4bc2-a3fa-7e7e461dbda2"
      },
      "execution_count": 56,
      "outputs": [
        {
          "output_type": "stream",
          "name": "stdout",
          "text": [
            "toe : foot :: finger : hand\n",
            "toe : foot :: finger : attached\n",
            "toe : foot :: finger : apart\n"
          ]
        }
      ]
    },
    {
      "cell_type": "code",
      "source": [
        "# 비교급\n",
        "embeddings.compute_and_print_analogy('fast', 'fastest', 'young')"
      ],
      "metadata": {
        "colab": {
          "base_uri": "https://localhost:8080/"
        },
        "id": "TKp6RAYGFPi7",
        "outputId": "7ebb295c-05f9-4b2d-e25c-56862c02ffb6"
      },
      "execution_count": 57,
      "outputs": [
        {
          "output_type": "stream",
          "name": "stdout",
          "text": [
            "fast : fastest :: young : youngest\n",
            "fast : fastest :: young : sixth\n",
            "fast : fastest :: young : fifth\n",
            "fast : fastest :: young : third\n"
          ]
        }
      ]
    },
    {
      "cell_type": "code",
      "source": [
        "# 문화적 성별 편견\n",
        "embeddings.compute_and_print_analogy('man', 'doctor', 'woman')"
      ],
      "metadata": {
        "colab": {
          "base_uri": "https://localhost:8080/"
        },
        "id": "XRu_dtbhHfRV",
        "outputId": "d49af8b5-eb5f-4a24-bc32-ba6a870aca77"
      },
      "execution_count": 58,
      "outputs": [
        {
          "output_type": "stream",
          "name": "stdout",
          "text": [
            "man : doctor :: woman : nurse\n",
            "man : doctor :: woman : physician\n"
          ]
        }
      ]
    }
  ]
}