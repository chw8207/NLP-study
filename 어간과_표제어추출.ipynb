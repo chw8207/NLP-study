{
  "nbformat": 4,
  "nbformat_minor": 0,
  "metadata": {
    "colab": {
      "provenance": [],
      "mount_file_id": "1RZora2nxIDPvSawotxTYdsRzkVV1DXHD",
      "authorship_tag": "ABX9TyP6amJabg9nLLy0OUP1jnhe",
      "include_colab_link": true
    },
    "kernelspec": {
      "name": "python3",
      "display_name": "Python 3"
    },
    "language_info": {
      "name": "python"
    }
  },
  "cells": [
    {
      "cell_type": "markdown",
      "metadata": {
        "id": "view-in-github",
        "colab_type": "text"
      },
      "source": [
        "<a href=\"https://colab.research.google.com/github/chw8207/NLP-study/blob/main/%EC%96%B4%EA%B0%84%EA%B3%BC_%ED%91%9C%EC%A0%9C%EC%96%B4%EC%B6%94%EC%B6%9C.ipynb\" target=\"_parent\"><img src=\"https://colab.research.google.com/assets/colab-badge.svg\" alt=\"Open In Colab\"/></a>"
      ]
    },
    {
      "cell_type": "markdown",
      "source": [
        "### 표제어 추출\n",
        " - 뿌리 단어 찾기"
      ],
      "metadata": {
        "id": "O1wzPrTEgJCq"
      }
    },
    {
      "cell_type": "code",
      "execution_count": 4,
      "metadata": {
        "id": "FR7rcIoDf_Df"
      },
      "outputs": [],
      "source": [
        "# 형태학적 파싱\n",
        "from nltk.stem import WordNetLemmatizer\n",
        "\n",
        "lemmatizer = WordNetLemmatizer()\n",
        "\n"
      ]
    }
  ]
}