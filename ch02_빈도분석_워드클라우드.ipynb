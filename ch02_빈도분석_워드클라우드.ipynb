{
  "nbformat": 4,
  "nbformat_minor": 0,
  "metadata": {
    "colab": {
      "provenance": [],
      "mount_file_id": "1mn9pD0iArvYYgvI_0yzs34XPbkpqlcvH",
      "authorship_tag": "ABX9TyNjSVjz7gz2JfBYPc7JjvPE",
      "include_colab_link": true
    },
    "kernelspec": {
      "name": "python3",
      "display_name": "Python 3"
    },
    "language_info": {
      "name": "python"
    }
  },
  "cells": [
    {
      "cell_type": "markdown",
      "metadata": {
        "id": "view-in-github",
        "colab_type": "text"
      },
      "source": [
        "<a href=\"https://colab.research.google.com/github/chw8207/NLP-study/blob/main/ch02_%EB%B9%88%EB%8F%84%EB%B6%84%EC%84%9D_%EC%9B%8C%EB%93%9C%ED%81%B4%EB%9D%BC%EC%9A%B0%EB%93%9C.ipynb\" target=\"_parent\"><img src=\"https://colab.research.google.com/assets/colab-badge.svg\" alt=\"Open In Colab\"/></a>"
      ]
    },
    {
      "cell_type": "markdown",
      "source": [
        "### 1. 필요한 라이브러리 다운로드"
      ],
      "metadata": {
        "id": "VRopkI2akSSR"
      }
    },
    {
      "cell_type": "code",
      "execution_count": 1,
      "metadata": {
        "id": "xiEBGlSIkLJE",
        "colab": {
          "base_uri": "https://localhost:8080/"
        },
        "outputId": "3db4f267-a700-4ccf-af93-7c48db278557"
      },
      "outputs": [
        {
          "output_type": "stream",
          "name": "stdout",
          "text": [
            "Looking in indexes: https://pypi.org/simple, https://us-python.pkg.dev/colab-wheels/public/simple/\n",
            "Requirement already satisfied: konlpy in /usr/local/lib/python3.9/dist-packages (0.6.0)\n",
            "Requirement already satisfied: lxml>=4.1.0 in /usr/local/lib/python3.9/dist-packages (from konlpy) (4.9.2)\n",
            "Requirement already satisfied: numpy>=1.6 in /usr/local/lib/python3.9/dist-packages (from konlpy) (1.22.4)\n",
            "Requirement already satisfied: JPype1>=0.7.0 in /usr/local/lib/python3.9/dist-packages (from konlpy) (1.4.1)\n",
            "Requirement already satisfied: packaging in /usr/local/lib/python3.9/dist-packages (from JPype1>=0.7.0->konlpy) (23.0)\n"
          ]
        }
      ],
      "source": [
        "!pip install konlpy"
      ]
    },
    {
      "cell_type": "code",
      "source": [
        "!pip install wordcloud"
      ],
      "metadata": {
        "colab": {
          "base_uri": "https://localhost:8080/"
        },
        "id": "5oYY2K-js4Zz",
        "outputId": "d0981a3d-2e6f-431d-aca2-38ca01cccde2"
      },
      "execution_count": 2,
      "outputs": [
        {
          "output_type": "stream",
          "name": "stdout",
          "text": [
            "Looking in indexes: https://pypi.org/simple, https://us-python.pkg.dev/colab-wheels/public/simple/\n",
            "Requirement already satisfied: wordcloud in /usr/local/lib/python3.9/dist-packages (1.8.2.2)\n",
            "Requirement already satisfied: pillow in /usr/local/lib/python3.9/dist-packages (from wordcloud) (8.4.0)\n",
            "Requirement already satisfied: numpy>=1.6.1 in /usr/local/lib/python3.9/dist-packages (from wordcloud) (1.22.4)\n",
            "Requirement already satisfied: matplotlib in /usr/local/lib/python3.9/dist-packages (from wordcloud) (3.7.1)\n",
            "Requirement already satisfied: packaging>=20.0 in /usr/local/lib/python3.9/dist-packages (from matplotlib->wordcloud) (23.0)\n",
            "Requirement already satisfied: python-dateutil>=2.7 in /usr/local/lib/python3.9/dist-packages (from matplotlib->wordcloud) (2.8.2)\n",
            "Requirement already satisfied: importlib-resources>=3.2.0 in /usr/local/lib/python3.9/dist-packages (from matplotlib->wordcloud) (5.12.0)\n",
            "Requirement already satisfied: cycler>=0.10 in /usr/local/lib/python3.9/dist-packages (from matplotlib->wordcloud) (0.11.0)\n",
            "Requirement already satisfied: pyparsing>=2.3.1 in /usr/local/lib/python3.9/dist-packages (from matplotlib->wordcloud) (3.0.9)\n",
            "Requirement already satisfied: kiwisolver>=1.0.1 in /usr/local/lib/python3.9/dist-packages (from matplotlib->wordcloud) (1.4.4)\n",
            "Requirement already satisfied: contourpy>=1.0.1 in /usr/local/lib/python3.9/dist-packages (from matplotlib->wordcloud) (1.0.7)\n",
            "Requirement already satisfied: fonttools>=4.22.0 in /usr/local/lib/python3.9/dist-packages (from matplotlib->wordcloud) (4.39.3)\n",
            "Requirement already satisfied: zipp>=3.1.0 in /usr/local/lib/python3.9/dist-packages (from importlib-resources>=3.2.0->matplotlib->wordcloud) (3.15.0)\n",
            "Requirement already satisfied: six>=1.5 in /usr/local/lib/python3.9/dist-packages (from python-dateutil>=2.7->matplotlib->wordcloud) (1.16.0)\n"
          ]
        }
      ]
    },
    {
      "cell_type": "markdown",
      "source": [
        "### 2. matplotlib에 한글 폰트 사용 설정"
      ],
      "metadata": {
        "id": "jy5MVGYOs8AP"
      }
    },
    {
      "cell_type": "code",
      "source": [
        "!apt -qq -y install fonts-nanum"
      ],
      "metadata": {
        "colab": {
          "base_uri": "https://localhost:8080/"
        },
        "id": "xJsYGm1ms7DZ",
        "outputId": "9060767d-c648-4098-e64b-54bd3a6d6acd"
      },
      "execution_count": 3,
      "outputs": [
        {
          "output_type": "stream",
          "name": "stdout",
          "text": [
            "fonts-nanum is already the newest version (20180306-3).\n",
            "0 upgraded, 0 newly installed, 0 to remove and 24 not upgraded.\n"
          ]
        }
      ]
    },
    {
      "cell_type": "code",
      "source": [
        "import matplotlib.font_manager as fm\n",
        "from pathlib import Path\n",
        "from matplotlib import rc\n",
        "\n",
        "font_path = Path('/usr/share/fonts/truetype/nanum/NanumGothic.ttf') \n",
        "fontprop = fm.FontProperties(fname=font_path)\n",
        "rc('font', family=fontprop.get_name(), size=16)\n",
        "# fm._rebuild()"
      ],
      "metadata": {
        "id": "N-UqXUOWtAOV"
      },
      "execution_count": 4,
      "outputs": []
    },
    {
      "cell_type": "markdown",
      "source": [
        "### 3. pandas를 활용하여 엑셀파일 데이터 읽기기"
      ],
      "metadata": {
        "id": "SMj5rdWS0wQY"
      }
    },
    {
      "cell_type": "code",
      "source": [
        "from glob import glob\n",
        "glob('/content/drive/MyDrive/Colab Notebooks/자연어처리공부/NLP-study/NLP-study/data/*')"
      ],
      "metadata": {
        "colab": {
          "base_uri": "https://localhost:8080/"
        },
        "id": "47awkPOr0zfG",
        "outputId": "bbd6877c-d42b-461b-990f-54791d6772c2"
      },
      "execution_count": 5,
      "outputs": [
        {
          "output_type": "execute_result",
          "data": {
            "text/plain": [
              "['/content/drive/MyDrive/Colab Notebooks/자연어처리공부/NLP-study/NLP-study/data/spam.csv',\n",
              " '/content/drive/MyDrive/Colab Notebooks/자연어처리공부/NLP-study/NLP-study/data/영화_위키피디아_최근5년.xlsx']"
            ]
          },
          "metadata": {},
          "execution_count": 5
        }
      ]
    },
    {
      "cell_type": "code",
      "source": [
        "import pandas as pd\n",
        "ROOT_PATH = '/content/drive/MyDrive/Colab Notebooks/자연어처리공부/NLP-study/NLP-study/data/'\n",
        "df = pd.read_excel(ROOT_PATH + '영화_위키피디아_최근5년.xlsx', sheet_name='2021')\n",
        "df.head()"
      ],
      "metadata": {
        "colab": {
          "base_uri": "https://localhost:8080/",
          "height": 354
        },
        "id": "QGow7ZkL0-5w",
        "outputId": "8fbb6c9f-bfa5-4f86-9a2f-42555ec77bf8"
      },
      "execution_count": 6,
      "outputs": [
        {
          "output_type": "execute_result",
          "data": {
            "text/plain": [
              "   순위              영화명        개봉일  \\\n",
              "0   1    스파이더맨: 노 웨이 홈 2021-12-15   \n",
              "1   2             모가디슈 2021-07-28   \n",
              "2   3             이터널스 2021-11-03   \n",
              "3   4           블랙 위도우 2021-07-07   \n",
              "4   5  분노의 질주: 더 얼티메이트 2021-05-19   \n",
              "\n",
              "                                                  개요  \\\n",
              "0  《스파이더맨: 노 웨이 홈》(영어: Spider-Man: No Way Home)은 ...   \n",
              "1  《모가디슈》는 2021년에 개봉한 대한민국의 영화이다. 류승완 감독의 작품으로, 7...   \n",
              "2  《이터널스》(영어: The Eternals)는 2021년 공개된 미국의 슈퍼히어로 ...   \n",
              "3  《블랙 위도우》(영어: Black Widow)는 2021년 개봉한 미국의 슈퍼히어로...   \n",
              "4  \"분노의 질주: 더 얼티메이트\"(영어: F9)는 2021년 공개된 미국의 액션 영화...   \n",
              "\n",
              "                                                 줄거리  \n",
              "0  전작 《스파이더맨: 파 프롬 홈》에서 미스테리오가 스파이더맨이 살인자라고 누명을 씌...  \n",
              "1                                                NaN  \n",
              "2  데비안츠라는 괴물들로부터 인류를 지키고 인류를 진화시키기 위해 신과 같은 존재인 셀...  \n",
              "3                                                NaN  \n",
              "4  도미닉(빈 디젤)은 자신과 가장 가까웠던 형제 제이콥(존 시나)이 사이퍼(샤를리즈 ...  "
            ],
            "text/html": [
              "\n",
              "  <div id=\"df-b6d9c42a-b182-4cfd-a69a-c2921e508e0f\">\n",
              "    <div class=\"colab-df-container\">\n",
              "      <div>\n",
              "<style scoped>\n",
              "    .dataframe tbody tr th:only-of-type {\n",
              "        vertical-align: middle;\n",
              "    }\n",
              "\n",
              "    .dataframe tbody tr th {\n",
              "        vertical-align: top;\n",
              "    }\n",
              "\n",
              "    .dataframe thead th {\n",
              "        text-align: right;\n",
              "    }\n",
              "</style>\n",
              "<table border=\"1\" class=\"dataframe\">\n",
              "  <thead>\n",
              "    <tr style=\"text-align: right;\">\n",
              "      <th></th>\n",
              "      <th>순위</th>\n",
              "      <th>영화명</th>\n",
              "      <th>개봉일</th>\n",
              "      <th>개요</th>\n",
              "      <th>줄거리</th>\n",
              "    </tr>\n",
              "  </thead>\n",
              "  <tbody>\n",
              "    <tr>\n",
              "      <th>0</th>\n",
              "      <td>1</td>\n",
              "      <td>스파이더맨: 노 웨이 홈</td>\n",
              "      <td>2021-12-15</td>\n",
              "      <td>《스파이더맨: 노 웨이 홈》(영어: Spider-Man: No Way Home)은 ...</td>\n",
              "      <td>전작 《스파이더맨: 파 프롬 홈》에서 미스테리오가 스파이더맨이 살인자라고 누명을 씌...</td>\n",
              "    </tr>\n",
              "    <tr>\n",
              "      <th>1</th>\n",
              "      <td>2</td>\n",
              "      <td>모가디슈</td>\n",
              "      <td>2021-07-28</td>\n",
              "      <td>《모가디슈》는 2021년에 개봉한 대한민국의 영화이다. 류승완 감독의 작품으로, 7...</td>\n",
              "      <td>NaN</td>\n",
              "    </tr>\n",
              "    <tr>\n",
              "      <th>2</th>\n",
              "      <td>3</td>\n",
              "      <td>이터널스</td>\n",
              "      <td>2021-11-03</td>\n",
              "      <td>《이터널스》(영어: The Eternals)는 2021년 공개된 미국의 슈퍼히어로 ...</td>\n",
              "      <td>데비안츠라는 괴물들로부터 인류를 지키고 인류를 진화시키기 위해 신과 같은 존재인 셀...</td>\n",
              "    </tr>\n",
              "    <tr>\n",
              "      <th>3</th>\n",
              "      <td>4</td>\n",
              "      <td>블랙 위도우</td>\n",
              "      <td>2021-07-07</td>\n",
              "      <td>《블랙 위도우》(영어: Black Widow)는 2021년 개봉한 미국의 슈퍼히어로...</td>\n",
              "      <td>NaN</td>\n",
              "    </tr>\n",
              "    <tr>\n",
              "      <th>4</th>\n",
              "      <td>5</td>\n",
              "      <td>분노의 질주: 더 얼티메이트</td>\n",
              "      <td>2021-05-19</td>\n",
              "      <td>\"분노의 질주: 더 얼티메이트\"(영어: F9)는 2021년 공개된 미국의 액션 영화...</td>\n",
              "      <td>도미닉(빈 디젤)은 자신과 가장 가까웠던 형제 제이콥(존 시나)이 사이퍼(샤를리즈 ...</td>\n",
              "    </tr>\n",
              "  </tbody>\n",
              "</table>\n",
              "</div>\n",
              "      <button class=\"colab-df-convert\" onclick=\"convertToInteractive('df-b6d9c42a-b182-4cfd-a69a-c2921e508e0f')\"\n",
              "              title=\"Convert this dataframe to an interactive table.\"\n",
              "              style=\"display:none;\">\n",
              "        \n",
              "  <svg xmlns=\"http://www.w3.org/2000/svg\" height=\"24px\"viewBox=\"0 0 24 24\"\n",
              "       width=\"24px\">\n",
              "    <path d=\"M0 0h24v24H0V0z\" fill=\"none\"/>\n",
              "    <path d=\"M18.56 5.44l.94 2.06.94-2.06 2.06-.94-2.06-.94-.94-2.06-.94 2.06-2.06.94zm-11 1L8.5 8.5l.94-2.06 2.06-.94-2.06-.94L8.5 2.5l-.94 2.06-2.06.94zm10 10l.94 2.06.94-2.06 2.06-.94-2.06-.94-.94-2.06-.94 2.06-2.06.94z\"/><path d=\"M17.41 7.96l-1.37-1.37c-.4-.4-.92-.59-1.43-.59-.52 0-1.04.2-1.43.59L10.3 9.45l-7.72 7.72c-.78.78-.78 2.05 0 2.83L4 21.41c.39.39.9.59 1.41.59.51 0 1.02-.2 1.41-.59l7.78-7.78 2.81-2.81c.8-.78.8-2.07 0-2.86zM5.41 20L4 18.59l7.72-7.72 1.47 1.35L5.41 20z\"/>\n",
              "  </svg>\n",
              "      </button>\n",
              "      \n",
              "  <style>\n",
              "    .colab-df-container {\n",
              "      display:flex;\n",
              "      flex-wrap:wrap;\n",
              "      gap: 12px;\n",
              "    }\n",
              "\n",
              "    .colab-df-convert {\n",
              "      background-color: #E8F0FE;\n",
              "      border: none;\n",
              "      border-radius: 50%;\n",
              "      cursor: pointer;\n",
              "      display: none;\n",
              "      fill: #1967D2;\n",
              "      height: 32px;\n",
              "      padding: 0 0 0 0;\n",
              "      width: 32px;\n",
              "    }\n",
              "\n",
              "    .colab-df-convert:hover {\n",
              "      background-color: #E2EBFA;\n",
              "      box-shadow: 0px 1px 2px rgba(60, 64, 67, 0.3), 0px 1px 3px 1px rgba(60, 64, 67, 0.15);\n",
              "      fill: #174EA6;\n",
              "    }\n",
              "\n",
              "    [theme=dark] .colab-df-convert {\n",
              "      background-color: #3B4455;\n",
              "      fill: #D2E3FC;\n",
              "    }\n",
              "\n",
              "    [theme=dark] .colab-df-convert:hover {\n",
              "      background-color: #434B5C;\n",
              "      box-shadow: 0px 1px 3px 1px rgba(0, 0, 0, 0.15);\n",
              "      filter: drop-shadow(0px 1px 2px rgba(0, 0, 0, 0.3));\n",
              "      fill: #FFFFFF;\n",
              "    }\n",
              "  </style>\n",
              "\n",
              "      <script>\n",
              "        const buttonEl =\n",
              "          document.querySelector('#df-b6d9c42a-b182-4cfd-a69a-c2921e508e0f button.colab-df-convert');\n",
              "        buttonEl.style.display =\n",
              "          google.colab.kernel.accessAllowed ? 'block' : 'none';\n",
              "\n",
              "        async function convertToInteractive(key) {\n",
              "          const element = document.querySelector('#df-b6d9c42a-b182-4cfd-a69a-c2921e508e0f');\n",
              "          const dataTable =\n",
              "            await google.colab.kernel.invokeFunction('convertToInteractive',\n",
              "                                                     [key], {});\n",
              "          if (!dataTable) return;\n",
              "\n",
              "          const docLinkHtml = 'Like what you see? Visit the ' +\n",
              "            '<a target=\"_blank\" href=https://colab.research.google.com/notebooks/data_table.ipynb>data table notebook</a>'\n",
              "            + ' to learn more about interactive tables.';\n",
              "          element.innerHTML = '';\n",
              "          dataTable['output_type'] = 'display_data';\n",
              "          await google.colab.output.renderOutput(dataTable, element);\n",
              "          const docLink = document.createElement('div');\n",
              "          docLink.innerHTML = docLinkHtml;\n",
              "          element.appendChild(docLink);\n",
              "        }\n",
              "      </script>\n",
              "    </div>\n",
              "  </div>\n",
              "  "
            ]
          },
          "metadata": {},
          "execution_count": 6
        }
      ]
    },
    {
      "cell_type": "code",
      "source": [
        "df.info()"
      ],
      "metadata": {
        "colab": {
          "base_uri": "https://localhost:8080/"
        },
        "id": "xoZJAfU81kPn",
        "outputId": "8406d068-ea1a-46f3-86ee-fc963bbc9559"
      },
      "execution_count": 7,
      "outputs": [
        {
          "output_type": "stream",
          "name": "stdout",
          "text": [
            "<class 'pandas.core.frame.DataFrame'>\n",
            "RangeIndex: 30 entries, 0 to 29\n",
            "Data columns (total 5 columns):\n",
            " #   Column  Non-Null Count  Dtype         \n",
            "---  ------  --------------  -----         \n",
            " 0   순위      30 non-null     int64         \n",
            " 1   영화명     30 non-null     object        \n",
            " 2   개봉일     30 non-null     datetime64[ns]\n",
            " 3   개요      30 non-null     object        \n",
            " 4   줄거리     26 non-null     object        \n",
            "dtypes: datetime64[ns](1), int64(1), object(3)\n",
            "memory usage: 1.3+ KB\n"
          ]
        }
      ]
    },
    {
      "cell_type": "code",
      "source": [
        "# 5개년 데이터 가져오기기\n",
        "df_list = []\n",
        "for year in ['2021', '2020', '2019', '2018', '2017'] : \n",
        "  df_tmp = pd.read_excel(ROOT_PATH + '영화_위키피디아_최근5년.xlsx', sheet_name=year)\n",
        "  df_list.append(df_tmp)\n",
        "len(df_list)"
      ],
      "metadata": {
        "colab": {
          "base_uri": "https://localhost:8080/"
        },
        "id": "nm9zVMcq11wq",
        "outputId": "0cb19e30-4f8f-4970-9a05-1243018a6f4c"
      },
      "execution_count": 8,
      "outputs": [
        {
          "output_type": "execute_result",
          "data": {
            "text/plain": [
              "5"
            ]
          },
          "metadata": {},
          "execution_count": 8
        }
      ]
    },
    {
      "cell_type": "code",
      "source": [
        "df_list[4].head()"
      ],
      "metadata": {
        "colab": {
          "base_uri": "https://localhost:8080/",
          "height": 354
        },
        "id": "rnCAxvQe2YqP",
        "outputId": "788c1698-383f-4d7f-c4fe-d472ac7c71cf"
      },
      "execution_count": 9,
      "outputs": [
        {
          "output_type": "execute_result",
          "data": {
            "text/plain": [
              "   순위          영화명        개봉일  \\\n",
              "0   1        택시운전사 2017-08-02   \n",
              "1   2    신과함께-죄와 벌 2017-12-20   \n",
              "2   3           공조 2017-01-18   \n",
              "3   4  스파이더맨: 홈 커밍 2017-07-05   \n",
              "4   5         범죄도시 2017-10-03   \n",
              "\n",
              "                                                  개요  \\\n",
              "0  《택시운전사》는 2017년에 개봉한 대한민국의 영화이다. 실화를 바탕으로 하였으며,...   \n",
              "1  《신과함께-죄와 벌》은 2017년 12월 20일에 개봉한 대한민국의 영화로, 주호민...   \n",
              "2                       《공조》는 2017년에 개봉한 대한민국의 영화이다.   \n",
              "3  《스파이더맨: 홈커밍》(영어: Spider-Man: Homecoming)은 마블 코...   \n",
              "4  \"범죄도시\"는 2017년에 개봉한 대한민국의 영화이다.\\n\\n서울 구로구 가리봉동 ...   \n",
              "\n",
              "                                                 줄거리  \n",
              "0  1980년 5월, 서울에서 택시기사일을 하며 하나 뿐인 딸과 착실하게 살아가는 만섭...  \n",
              "1  김자홍(차태현)이 삼차사와 49일 동안 7개의 지옥에서 7개의 재판을 받으며 자신의...  \n",
              "2  특수부대 출신 형사 림철령은 작전수행 도중 지원을 기다리자는 동료들의 말도 무시하고...  \n",
              "3                                                  -  \n",
              "4  통쾌하고, 화끈하고, 살벌하게 나쁜놈들 때려잡는 강력반 형사들의 ‘조폭소탕작전’ 이...  "
            ],
            "text/html": [
              "\n",
              "  <div id=\"df-232b7bbb-2569-452b-9104-2b5113388a90\">\n",
              "    <div class=\"colab-df-container\">\n",
              "      <div>\n",
              "<style scoped>\n",
              "    .dataframe tbody tr th:only-of-type {\n",
              "        vertical-align: middle;\n",
              "    }\n",
              "\n",
              "    .dataframe tbody tr th {\n",
              "        vertical-align: top;\n",
              "    }\n",
              "\n",
              "    .dataframe thead th {\n",
              "        text-align: right;\n",
              "    }\n",
              "</style>\n",
              "<table border=\"1\" class=\"dataframe\">\n",
              "  <thead>\n",
              "    <tr style=\"text-align: right;\">\n",
              "      <th></th>\n",
              "      <th>순위</th>\n",
              "      <th>영화명</th>\n",
              "      <th>개봉일</th>\n",
              "      <th>개요</th>\n",
              "      <th>줄거리</th>\n",
              "    </tr>\n",
              "  </thead>\n",
              "  <tbody>\n",
              "    <tr>\n",
              "      <th>0</th>\n",
              "      <td>1</td>\n",
              "      <td>택시운전사</td>\n",
              "      <td>2017-08-02</td>\n",
              "      <td>《택시운전사》는 2017년에 개봉한 대한민국의 영화이다. 실화를 바탕으로 하였으며,...</td>\n",
              "      <td>1980년 5월, 서울에서 택시기사일을 하며 하나 뿐인 딸과 착실하게 살아가는 만섭...</td>\n",
              "    </tr>\n",
              "    <tr>\n",
              "      <th>1</th>\n",
              "      <td>2</td>\n",
              "      <td>신과함께-죄와 벌</td>\n",
              "      <td>2017-12-20</td>\n",
              "      <td>《신과함께-죄와 벌》은 2017년 12월 20일에 개봉한 대한민국의 영화로, 주호민...</td>\n",
              "      <td>김자홍(차태현)이 삼차사와 49일 동안 7개의 지옥에서 7개의 재판을 받으며 자신의...</td>\n",
              "    </tr>\n",
              "    <tr>\n",
              "      <th>2</th>\n",
              "      <td>3</td>\n",
              "      <td>공조</td>\n",
              "      <td>2017-01-18</td>\n",
              "      <td>《공조》는 2017년에 개봉한 대한민국의 영화이다.</td>\n",
              "      <td>특수부대 출신 형사 림철령은 작전수행 도중 지원을 기다리자는 동료들의 말도 무시하고...</td>\n",
              "    </tr>\n",
              "    <tr>\n",
              "      <th>3</th>\n",
              "      <td>4</td>\n",
              "      <td>스파이더맨: 홈 커밍</td>\n",
              "      <td>2017-07-05</td>\n",
              "      <td>《스파이더맨: 홈커밍》(영어: Spider-Man: Homecoming)은 마블 코...</td>\n",
              "      <td>-</td>\n",
              "    </tr>\n",
              "    <tr>\n",
              "      <th>4</th>\n",
              "      <td>5</td>\n",
              "      <td>범죄도시</td>\n",
              "      <td>2017-10-03</td>\n",
              "      <td>\"범죄도시\"는 2017년에 개봉한 대한민국의 영화이다.\\n\\n서울 구로구 가리봉동 ...</td>\n",
              "      <td>통쾌하고, 화끈하고, 살벌하게 나쁜놈들 때려잡는 강력반 형사들의 ‘조폭소탕작전’ 이...</td>\n",
              "    </tr>\n",
              "  </tbody>\n",
              "</table>\n",
              "</div>\n",
              "      <button class=\"colab-df-convert\" onclick=\"convertToInteractive('df-232b7bbb-2569-452b-9104-2b5113388a90')\"\n",
              "              title=\"Convert this dataframe to an interactive table.\"\n",
              "              style=\"display:none;\">\n",
              "        \n",
              "  <svg xmlns=\"http://www.w3.org/2000/svg\" height=\"24px\"viewBox=\"0 0 24 24\"\n",
              "       width=\"24px\">\n",
              "    <path d=\"M0 0h24v24H0V0z\" fill=\"none\"/>\n",
              "    <path d=\"M18.56 5.44l.94 2.06.94-2.06 2.06-.94-2.06-.94-.94-2.06-.94 2.06-2.06.94zm-11 1L8.5 8.5l.94-2.06 2.06-.94-2.06-.94L8.5 2.5l-.94 2.06-2.06.94zm10 10l.94 2.06.94-2.06 2.06-.94-2.06-.94-.94-2.06-.94 2.06-2.06.94z\"/><path d=\"M17.41 7.96l-1.37-1.37c-.4-.4-.92-.59-1.43-.59-.52 0-1.04.2-1.43.59L10.3 9.45l-7.72 7.72c-.78.78-.78 2.05 0 2.83L4 21.41c.39.39.9.59 1.41.59.51 0 1.02-.2 1.41-.59l7.78-7.78 2.81-2.81c.8-.78.8-2.07 0-2.86zM5.41 20L4 18.59l7.72-7.72 1.47 1.35L5.41 20z\"/>\n",
              "  </svg>\n",
              "      </button>\n",
              "      \n",
              "  <style>\n",
              "    .colab-df-container {\n",
              "      display:flex;\n",
              "      flex-wrap:wrap;\n",
              "      gap: 12px;\n",
              "    }\n",
              "\n",
              "    .colab-df-convert {\n",
              "      background-color: #E8F0FE;\n",
              "      border: none;\n",
              "      border-radius: 50%;\n",
              "      cursor: pointer;\n",
              "      display: none;\n",
              "      fill: #1967D2;\n",
              "      height: 32px;\n",
              "      padding: 0 0 0 0;\n",
              "      width: 32px;\n",
              "    }\n",
              "\n",
              "    .colab-df-convert:hover {\n",
              "      background-color: #E2EBFA;\n",
              "      box-shadow: 0px 1px 2px rgba(60, 64, 67, 0.3), 0px 1px 3px 1px rgba(60, 64, 67, 0.15);\n",
              "      fill: #174EA6;\n",
              "    }\n",
              "\n",
              "    [theme=dark] .colab-df-convert {\n",
              "      background-color: #3B4455;\n",
              "      fill: #D2E3FC;\n",
              "    }\n",
              "\n",
              "    [theme=dark] .colab-df-convert:hover {\n",
              "      background-color: #434B5C;\n",
              "      box-shadow: 0px 1px 3px 1px rgba(0, 0, 0, 0.15);\n",
              "      filter: drop-shadow(0px 1px 2px rgba(0, 0, 0, 0.3));\n",
              "      fill: #FFFFFF;\n",
              "    }\n",
              "  </style>\n",
              "\n",
              "      <script>\n",
              "        const buttonEl =\n",
              "          document.querySelector('#df-232b7bbb-2569-452b-9104-2b5113388a90 button.colab-df-convert');\n",
              "        buttonEl.style.display =\n",
              "          google.colab.kernel.accessAllowed ? 'block' : 'none';\n",
              "\n",
              "        async function convertToInteractive(key) {\n",
              "          const element = document.querySelector('#df-232b7bbb-2569-452b-9104-2b5113388a90');\n",
              "          const dataTable =\n",
              "            await google.colab.kernel.invokeFunction('convertToInteractive',\n",
              "                                                     [key], {});\n",
              "          if (!dataTable) return;\n",
              "\n",
              "          const docLinkHtml = 'Like what you see? Visit the ' +\n",
              "            '<a target=\"_blank\" href=https://colab.research.google.com/notebooks/data_table.ipynb>data table notebook</a>'\n",
              "            + ' to learn more about interactive tables.';\n",
              "          element.innerHTML = '';\n",
              "          dataTable['output_type'] = 'display_data';\n",
              "          await google.colab.output.renderOutput(dataTable, element);\n",
              "          const docLink = document.createElement('div');\n",
              "          docLink.innerHTML = docLinkHtml;\n",
              "          element.appendChild(docLink);\n",
              "        }\n",
              "      </script>\n",
              "    </div>\n",
              "  </div>\n",
              "  "
            ]
          },
          "metadata": {},
          "execution_count": 9
        }
      ]
    },
    {
      "cell_type": "code",
      "source": [
        "# 5개년 데이터 하나로 합치기 \n",
        "df = pd.concat(df_list)\n",
        "df.shape"
      ],
      "metadata": {
        "colab": {
          "base_uri": "https://localhost:8080/"
        },
        "id": "fDiMOztX2heG",
        "outputId": "7f84de9a-58cf-472c-c2b3-31807ae76121"
      },
      "execution_count": 10,
      "outputs": [
        {
          "output_type": "execute_result",
          "data": {
            "text/plain": [
              "(150, 5)"
            ]
          },
          "metadata": {},
          "execution_count": 10
        }
      ]
    },
    {
      "cell_type": "code",
      "source": [
        "df.info()"
      ],
      "metadata": {
        "colab": {
          "base_uri": "https://localhost:8080/"
        },
        "id": "0aFhWk8B3lFD",
        "outputId": "f953f0ed-c6f0-44b8-e56f-92b6cedf01fd"
      },
      "execution_count": 11,
      "outputs": [
        {
          "output_type": "stream",
          "name": "stdout",
          "text": [
            "<class 'pandas.core.frame.DataFrame'>\n",
            "Int64Index: 150 entries, 0 to 29\n",
            "Data columns (total 5 columns):\n",
            " #   Column  Non-Null Count  Dtype         \n",
            "---  ------  --------------  -----         \n",
            " 0   순위      150 non-null    int64         \n",
            " 1   영화명     150 non-null    object        \n",
            " 2   개봉일     150 non-null    datetime64[ns]\n",
            " 3   개요      150 non-null    object        \n",
            " 4   줄거리     146 non-null    object        \n",
            "dtypes: datetime64[ns](1), int64(1), object(3)\n",
            "memory usage: 7.0+ KB\n"
          ]
        }
      ]
    },
    {
      "cell_type": "code",
      "source": [
        "# null값 제거하기\n",
        "# 개요와 줄거리 구분하지 않기\n",
        "df.dropna(inplace=True)\n",
        "# drop=True : 이전에 있었던 인덱스가 칼럼으로 들어가는데 사용하지 않음\n",
        "df.reset_index(drop=True, inplace=True)  \n",
        "df.info()"
      ],
      "metadata": {
        "colab": {
          "base_uri": "https://localhost:8080/"
        },
        "id": "m5_YrMMR22xb",
        "outputId": "095ac4a3-ab81-45b3-8320-a3f75f4712c3"
      },
      "execution_count": 12,
      "outputs": [
        {
          "output_type": "stream",
          "name": "stdout",
          "text": [
            "<class 'pandas.core.frame.DataFrame'>\n",
            "RangeIndex: 146 entries, 0 to 145\n",
            "Data columns (total 5 columns):\n",
            " #   Column  Non-Null Count  Dtype         \n",
            "---  ------  --------------  -----         \n",
            " 0   순위      146 non-null    int64         \n",
            " 1   영화명     146 non-null    object        \n",
            " 2   개봉일     146 non-null    datetime64[ns]\n",
            " 3   개요      146 non-null    object        \n",
            " 4   줄거리     146 non-null    object        \n",
            "dtypes: datetime64[ns](1), int64(1), object(3)\n",
            "memory usage: 5.8+ KB\n"
          ]
        }
      ]
    },
    {
      "cell_type": "code",
      "source": [
        "df['text'] = df['개요'] + df['줄거리']\n",
        "df.head()"
      ],
      "metadata": {
        "colab": {
          "base_uri": "https://localhost:8080/",
          "height": 424
        },
        "id": "cZ087JQy3rsi",
        "outputId": "4e0fc13a-943d-45bb-de5f-00e60fbde788"
      },
      "execution_count": 13,
      "outputs": [
        {
          "output_type": "execute_result",
          "data": {
            "text/plain": [
              "   순위                영화명        개봉일  \\\n",
              "0   1      스파이더맨: 노 웨이 홈 2021-12-15   \n",
              "1   3               이터널스 2021-11-03   \n",
              "2   5    분노의 질주: 더 얼티메이트 2021-05-19   \n",
              "3   6                싱크홀 2021-08-11   \n",
              "4   7  극장판 귀멸의 칼날: 무한열차편 2021-01-27   \n",
              "\n",
              "                                                  개요  \\\n",
              "0  《스파이더맨: 노 웨이 홈》(영어: Spider-Man: No Way Home)은 ...   \n",
              "1  《이터널스》(영어: The Eternals)는 2021년 공개된 미국의 슈퍼히어로 ...   \n",
              "2  \"분노의 질주: 더 얼티메이트\"(영어: F9)는 2021년 공개된 미국의 액션 영화...   \n",
              "3                                                  -   \n",
              "4  《극장판 귀멸의 칼날: 무한열차편》(일본어: 劇場版「鬼滅の刃」無限列車編 영어: De...   \n",
              "\n",
              "                                                 줄거리  \\\n",
              "0  전작 《스파이더맨: 파 프롬 홈》에서 미스테리오가 스파이더맨이 살인자라고 누명을 씌...   \n",
              "1  데비안츠라는 괴물들로부터 인류를 지키고 인류를 진화시키기 위해 신과 같은 존재인 셀...   \n",
              "2  도미닉(빈 디젤)은 자신과 가장 가까웠던 형제 제이콥(존 시나)이 사이퍼(샤를리즈 ...   \n",
              "3                                                  -   \n",
              "4  혈귀술로 사람들을 잠에 빠뜨리는 오니인 엔무(하현 1)가 무한열차에 나타나 탑승자들...   \n",
              "\n",
              "                                                text  \n",
              "0  《스파이더맨: 노 웨이 홈》(영어: Spider-Man: No Way Home)은 ...  \n",
              "1  《이터널스》(영어: The Eternals)는 2021년 공개된 미국의 슈퍼히어로 ...  \n",
              "2  \"분노의 질주: 더 얼티메이트\"(영어: F9)는 2021년 공개된 미국의 액션 영화...  \n",
              "3                                                 --  \n",
              "4  《극장판 귀멸의 칼날: 무한열차편》(일본어: 劇場版「鬼滅の刃」無限列車編 영어: De...  "
            ],
            "text/html": [
              "\n",
              "  <div id=\"df-4f78bd38-291a-4699-8cff-aa56cfa8faca\">\n",
              "    <div class=\"colab-df-container\">\n",
              "      <div>\n",
              "<style scoped>\n",
              "    .dataframe tbody tr th:only-of-type {\n",
              "        vertical-align: middle;\n",
              "    }\n",
              "\n",
              "    .dataframe tbody tr th {\n",
              "        vertical-align: top;\n",
              "    }\n",
              "\n",
              "    .dataframe thead th {\n",
              "        text-align: right;\n",
              "    }\n",
              "</style>\n",
              "<table border=\"1\" class=\"dataframe\">\n",
              "  <thead>\n",
              "    <tr style=\"text-align: right;\">\n",
              "      <th></th>\n",
              "      <th>순위</th>\n",
              "      <th>영화명</th>\n",
              "      <th>개봉일</th>\n",
              "      <th>개요</th>\n",
              "      <th>줄거리</th>\n",
              "      <th>text</th>\n",
              "    </tr>\n",
              "  </thead>\n",
              "  <tbody>\n",
              "    <tr>\n",
              "      <th>0</th>\n",
              "      <td>1</td>\n",
              "      <td>스파이더맨: 노 웨이 홈</td>\n",
              "      <td>2021-12-15</td>\n",
              "      <td>《스파이더맨: 노 웨이 홈》(영어: Spider-Man: No Way Home)은 ...</td>\n",
              "      <td>전작 《스파이더맨: 파 프롬 홈》에서 미스테리오가 스파이더맨이 살인자라고 누명을 씌...</td>\n",
              "      <td>《스파이더맨: 노 웨이 홈》(영어: Spider-Man: No Way Home)은 ...</td>\n",
              "    </tr>\n",
              "    <tr>\n",
              "      <th>1</th>\n",
              "      <td>3</td>\n",
              "      <td>이터널스</td>\n",
              "      <td>2021-11-03</td>\n",
              "      <td>《이터널스》(영어: The Eternals)는 2021년 공개된 미국의 슈퍼히어로 ...</td>\n",
              "      <td>데비안츠라는 괴물들로부터 인류를 지키고 인류를 진화시키기 위해 신과 같은 존재인 셀...</td>\n",
              "      <td>《이터널스》(영어: The Eternals)는 2021년 공개된 미국의 슈퍼히어로 ...</td>\n",
              "    </tr>\n",
              "    <tr>\n",
              "      <th>2</th>\n",
              "      <td>5</td>\n",
              "      <td>분노의 질주: 더 얼티메이트</td>\n",
              "      <td>2021-05-19</td>\n",
              "      <td>\"분노의 질주: 더 얼티메이트\"(영어: F9)는 2021년 공개된 미국의 액션 영화...</td>\n",
              "      <td>도미닉(빈 디젤)은 자신과 가장 가까웠던 형제 제이콥(존 시나)이 사이퍼(샤를리즈 ...</td>\n",
              "      <td>\"분노의 질주: 더 얼티메이트\"(영어: F9)는 2021년 공개된 미국의 액션 영화...</td>\n",
              "    </tr>\n",
              "    <tr>\n",
              "      <th>3</th>\n",
              "      <td>6</td>\n",
              "      <td>싱크홀</td>\n",
              "      <td>2021-08-11</td>\n",
              "      <td>-</td>\n",
              "      <td>-</td>\n",
              "      <td>--</td>\n",
              "    </tr>\n",
              "    <tr>\n",
              "      <th>4</th>\n",
              "      <td>7</td>\n",
              "      <td>극장판 귀멸의 칼날: 무한열차편</td>\n",
              "      <td>2021-01-27</td>\n",
              "      <td>《극장판 귀멸의 칼날: 무한열차편》(일본어: 劇場版「鬼滅の刃」無限列車編 영어: De...</td>\n",
              "      <td>혈귀술로 사람들을 잠에 빠뜨리는 오니인 엔무(하현 1)가 무한열차에 나타나 탑승자들...</td>\n",
              "      <td>《극장판 귀멸의 칼날: 무한열차편》(일본어: 劇場版「鬼滅の刃」無限列車編 영어: De...</td>\n",
              "    </tr>\n",
              "  </tbody>\n",
              "</table>\n",
              "</div>\n",
              "      <button class=\"colab-df-convert\" onclick=\"convertToInteractive('df-4f78bd38-291a-4699-8cff-aa56cfa8faca')\"\n",
              "              title=\"Convert this dataframe to an interactive table.\"\n",
              "              style=\"display:none;\">\n",
              "        \n",
              "  <svg xmlns=\"http://www.w3.org/2000/svg\" height=\"24px\"viewBox=\"0 0 24 24\"\n",
              "       width=\"24px\">\n",
              "    <path d=\"M0 0h24v24H0V0z\" fill=\"none\"/>\n",
              "    <path d=\"M18.56 5.44l.94 2.06.94-2.06 2.06-.94-2.06-.94-.94-2.06-.94 2.06-2.06.94zm-11 1L8.5 8.5l.94-2.06 2.06-.94-2.06-.94L8.5 2.5l-.94 2.06-2.06.94zm10 10l.94 2.06.94-2.06 2.06-.94-2.06-.94-.94-2.06-.94 2.06-2.06.94z\"/><path d=\"M17.41 7.96l-1.37-1.37c-.4-.4-.92-.59-1.43-.59-.52 0-1.04.2-1.43.59L10.3 9.45l-7.72 7.72c-.78.78-.78 2.05 0 2.83L4 21.41c.39.39.9.59 1.41.59.51 0 1.02-.2 1.41-.59l7.78-7.78 2.81-2.81c.8-.78.8-2.07 0-2.86zM5.41 20L4 18.59l7.72-7.72 1.47 1.35L5.41 20z\"/>\n",
              "  </svg>\n",
              "      </button>\n",
              "      \n",
              "  <style>\n",
              "    .colab-df-container {\n",
              "      display:flex;\n",
              "      flex-wrap:wrap;\n",
              "      gap: 12px;\n",
              "    }\n",
              "\n",
              "    .colab-df-convert {\n",
              "      background-color: #E8F0FE;\n",
              "      border: none;\n",
              "      border-radius: 50%;\n",
              "      cursor: pointer;\n",
              "      display: none;\n",
              "      fill: #1967D2;\n",
              "      height: 32px;\n",
              "      padding: 0 0 0 0;\n",
              "      width: 32px;\n",
              "    }\n",
              "\n",
              "    .colab-df-convert:hover {\n",
              "      background-color: #E2EBFA;\n",
              "      box-shadow: 0px 1px 2px rgba(60, 64, 67, 0.3), 0px 1px 3px 1px rgba(60, 64, 67, 0.15);\n",
              "      fill: #174EA6;\n",
              "    }\n",
              "\n",
              "    [theme=dark] .colab-df-convert {\n",
              "      background-color: #3B4455;\n",
              "      fill: #D2E3FC;\n",
              "    }\n",
              "\n",
              "    [theme=dark] .colab-df-convert:hover {\n",
              "      background-color: #434B5C;\n",
              "      box-shadow: 0px 1px 3px 1px rgba(0, 0, 0, 0.15);\n",
              "      filter: drop-shadow(0px 1px 2px rgba(0, 0, 0, 0.3));\n",
              "      fill: #FFFFFF;\n",
              "    }\n",
              "  </style>\n",
              "\n",
              "      <script>\n",
              "        const buttonEl =\n",
              "          document.querySelector('#df-4f78bd38-291a-4699-8cff-aa56cfa8faca button.colab-df-convert');\n",
              "        buttonEl.style.display =\n",
              "          google.colab.kernel.accessAllowed ? 'block' : 'none';\n",
              "\n",
              "        async function convertToInteractive(key) {\n",
              "          const element = document.querySelector('#df-4f78bd38-291a-4699-8cff-aa56cfa8faca');\n",
              "          const dataTable =\n",
              "            await google.colab.kernel.invokeFunction('convertToInteractive',\n",
              "                                                     [key], {});\n",
              "          if (!dataTable) return;\n",
              "\n",
              "          const docLinkHtml = 'Like what you see? Visit the ' +\n",
              "            '<a target=\"_blank\" href=https://colab.research.google.com/notebooks/data_table.ipynb>data table notebook</a>'\n",
              "            + ' to learn more about interactive tables.';\n",
              "          element.innerHTML = '';\n",
              "          dataTable['output_type'] = 'display_data';\n",
              "          await google.colab.output.renderOutput(dataTable, element);\n",
              "          const docLink = document.createElement('div');\n",
              "          docLink.innerHTML = docLinkHtml;\n",
              "          element.appendChild(docLink);\n",
              "        }\n",
              "      </script>\n",
              "    </div>\n",
              "  </div>\n",
              "  "
            ]
          },
          "metadata": {},
          "execution_count": 13
        }
      ]
    },
    {
      "cell_type": "code",
      "source": [
        "df['개요'][0]"
      ],
      "metadata": {
        "colab": {
          "base_uri": "https://localhost:8080/",
          "height": 72
        },
        "id": "-T3gIkP551mK",
        "outputId": "1cea12cc-b8ed-467e-d967-b39707c318ea"
      },
      "execution_count": 14,
      "outputs": [
        {
          "output_type": "execute_result",
          "data": {
            "text/plain": [
              "'《스파이더맨: 노 웨이 홈》(영어: Spider-Man: No Way Home)은 2021년 개봉한 미국의 슈퍼히어로 영화이다. 2019년 영화 《스파이더맨: 파 프롬 홈》의 후속작이자, 마블 시네마틱 유니버스(MCU)의 27번째 작품이다. 감독은 전편과 같은 존 왓츠가 맡았으며, 각본 역시 전편에 참여했던 크리스 매케나와 에릭 소머즈가 맡았다.'"
            ],
            "application/vnd.google.colaboratory.intrinsic+json": {
              "type": "string"
            }
          },
          "metadata": {},
          "execution_count": 14
        }
      ]
    },
    {
      "cell_type": "code",
      "source": [
        "df['줄거리'][0]"
      ],
      "metadata": {
        "colab": {
          "base_uri": "https://localhost:8080/",
          "height": 256
        },
        "id": "V-MS66QT53wl",
        "outputId": "7187ba41-44e0-43aa-815e-d8bb8c8d5a07"
      },
      "execution_count": 15,
      "outputs": [
        {
          "output_type": "execute_result",
          "data": {
            "text/plain": [
              "'전작 《스파이더맨: 파 프롬 홈》에서 미스테리오가 스파이더맨이 살인자라고 누명을 씌우고, 정체를 공개한 장면부터 시작된다. 주변 사람들로부터 관심이 쏠린 피터 파커와 MJ는 웹스윙으로 현장을 벗어나 집으로 가지만, 집 근처에도 많은 사람들이 온다. 이후, 피터, MJ, 네드, 큰엄마 메이는 경찰에 조사받는다. 변호사 맷 머독이 증거불충분으로 기소되지는 않는다고 말하지만 대중들은 스파이더맨을 살인자라며 비난한다.\\n\\n미스테리오 때문에 자신의 일상이 엉망이 된 피터, 자신이 끌어들인 네드와 MJ까지 논란으로 인해 MIT 진학이 좌절되자 피터는 닥터 스트레인지를 찾아가 과거를 바꿔달라고 하지만 그는 거절한다. 대신 다른 사람들이 피터 파커가 스파이더맨이었다는 기억을 없애주기로 한다. 그러나 피터는 폭로 이전에 자신의 정체를 알던 이들은 예외로 해달라며 주문을 방해하고 스트레인지의 마법은 실패한다. 이로 인해 오히려 스파이더맨의 정체를 알던 평행우주의 인물들이 넘어오게 된다.\\n\\n피터는 플래시 톰슨의 도움으로 MIT에 한 번 더 기회를 요청하기 위해 공항으로 가던 부총장보를 만나려 한다. 부총장보를 만났지만 갑자기 도로에서 스파이더맨: 트릴로지2의 닥터 옥토퍼스가 나타난다. 피터는 닥터 옥토퍼스를 제압하고 부총장보에게 입학 허가를 받았지만, 2002년 작 스파이더맨의 그린 고블린이 나타난다. 그 때 닥터 스트레인지의 도움으로 생텀으로 온 피터는 닥터 옥토퍼스와 함께 잡혀 있던 어메이징 스파이더맨의 리저드도 보게 된다. 스트레인지는 평행우주의 인물들을 막으려 했지만 일부가 우리 차원으로 넘어왔다고 말하며 피터에게 사건 해결을 촉구한다.\\n\\n네드와 MJ의 도움으로 스파이더맨 3의 샌드맨과 어메이징 스파이더맨 2의 일렉트로를 만나고 둘을 모두 잡게 된다. 사악한 그린 고블린의 인격에서 잠시 벗어난 노먼 오스본은 메이의 일터로 가고, 피터와 함께 생텀의 지하로 간다. 닥터 스트레인지는 그들을 되돌려 보내려고 하지만, 죽을 운명이었던 스파이더맨의 숙적들을 지키기 위해 피터와 스트레인지는 마법 상자를 놓고 싸운다. 스트레인지를 미러 디멘션에 고립시키기에 성공한 피터는 빌런들을 풀어주고 그들의 신체적/정신적 이상을 해결하고 돌려보내기위한 연구를 진행하고 닥터 옥토퍼스를 기계팔의 지배로부터 해방시킨다.\\n\\n그러나 그린 고블린, 일렉트로, 리저드, 샌드맨은 스파이더맨을 공격하고 그 결과 그린 고블린에 의해 메이가 죽는다. 그린 고블린은 피터에게 메이가 말하는 도덕적 의무를 지키면서 자신의 재능을 썩힌다고 조롱하고 피터는 분노한다. 메이는 죽기 전에, 피터에게 \"큰 힘에는 큰 책임이 따른다.\"라는 말을 하고 숨을 거둔다. 데일리 뷰글의 J 조나 제임슨은 스파이더맨이 지나간 자리에는 혼란만이 있다며 비난한다. 피터는 자신을 쫓아 온 데미지 컨트롤의 요원들을 피해 도망간다.\\n\\n한편, MJ와 네드는 피터가 준 닥터 스트레인지의 슬링링으로 피터를 찾으려고 한다. 그렇게 찾은 키가 훤칠한 피터 파커는 그들이 알던 피터가 아닌 어메이징 스파이더맨 시리즈의 앤드류 가필드 버전의 스파이더맨이었다. 다시 피터를 찾기 위해 슬링링을 사용하니, 샘 레이미의 스파이더맨 3부작의 토비 맥과이어 버전의 스파이더맨이 등장한다. 두 스파이더맨은 네드와 MJ의 말을 듣고 피터가 힘들 때 도피처로 쓰던 공간을 찾아간다.\\n\\n피터를 찾아간 친구들과 두 스파이더맨의 도움으로 피터는 다시 일어나고 세 스파이더맨은 데일리 뷰글을 통해 빌런들을 자유의 여신상에서 치료시키려는 계획을 세운다. 그리고 벌어진 세 스파이더맨과 샌드맨, 일렉트로, 리저드의 전투를 벌이고 난입한 닥터 옥토퍼스의 도움으로 셋 모두를 치료하게 된다.\\n\\n네드가 슬링링을 돌리다가 다시 현실로 돌아온 닥터 스트레인지는 이방인들을 원래 차원으로 되돌리려 하지만 그린 고블린이 나타난다. 복수심에 가득 찬 피터는 그린 고블린을 죽일 기세로 때리고 그린 고블린의 글라이더로 그를 찔러 죽이려 하지만 토비 맥과이어의 스파이더맨이 저지한다. 그린 고블린은 피터를 막고 있는 토비 맥과이어의 스파이더맨의 등을 찌르지만 다른 스파이더맨의 호흡으로 모든 숙적들을 치료한다.\\n\\n이방인들의 치료는 끝났지만 닥터 스트레인지는 마법 주문을 억누를 수 없는 상황에 처하고 피터는 피터 파커의 존재를 모든 사람들이 잊는다면 더 이상의 불청객이 오지 않게 될 것이라 스트레인지에게 말한다. 스트레인지는 이를 받아들여 모든 사람들에게서 피터 파커라는 존재의 기억을 지우는 마법을 사용한다. 피터는 다른 세계에서 온 스파이더맨들과 두 친구와 작별인사를 나누고 자신의 존재를 다시 말해주겠다고 약속한다. 다른 세계에서 온 사람들도 원래 세계로 돌아간다.\\n\\n그 후, 모두가 피터를 잊게 되었고 피터는 자취를 시작한다. 메이의 무덤에서 그의 기억을 잊은 해피 호건과 대화를 나누고, 네드와 MJ에게 자신에 대해 말하려 하지만 MJ의 이마에 난 상처를 보고 친구들을 위해 진실을 말하기를 포기한다. 피터 파커는 자신만의 새 스파이더맨 슈트를 만들고 스파이더맨으로서 다시 활약한다.'"
            ],
            "application/vnd.google.colaboratory.intrinsic+json": {
              "type": "string"
            }
          },
          "metadata": {},
          "execution_count": 15
        }
      ]
    },
    {
      "cell_type": "code",
      "source": [
        "df['text'][0]"
      ],
      "metadata": {
        "colab": {
          "base_uri": "https://localhost:8080/",
          "height": 256
        },
        "id": "xavmjep657qr",
        "outputId": "c4e21c27-fa23-4212-81ae-1b2581e4d1ab"
      },
      "execution_count": 16,
      "outputs": [
        {
          "output_type": "execute_result",
          "data": {
            "text/plain": [
              "'《스파이더맨: 노 웨이 홈》(영어: Spider-Man: No Way Home)은 2021년 개봉한 미국의 슈퍼히어로 영화이다. 2019년 영화 《스파이더맨: 파 프롬 홈》의 후속작이자, 마블 시네마틱 유니버스(MCU)의 27번째 작품이다. 감독은 전편과 같은 존 왓츠가 맡았으며, 각본 역시 전편에 참여했던 크리스 매케나와 에릭 소머즈가 맡았다.전작 《스파이더맨: 파 프롬 홈》에서 미스테리오가 스파이더맨이 살인자라고 누명을 씌우고, 정체를 공개한 장면부터 시작된다. 주변 사람들로부터 관심이 쏠린 피터 파커와 MJ는 웹스윙으로 현장을 벗어나 집으로 가지만, 집 근처에도 많은 사람들이 온다. 이후, 피터, MJ, 네드, 큰엄마 메이는 경찰에 조사받는다. 변호사 맷 머독이 증거불충분으로 기소되지는 않는다고 말하지만 대중들은 스파이더맨을 살인자라며 비난한다.\\n\\n미스테리오 때문에 자신의 일상이 엉망이 된 피터, 자신이 끌어들인 네드와 MJ까지 논란으로 인해 MIT 진학이 좌절되자 피터는 닥터 스트레인지를 찾아가 과거를 바꿔달라고 하지만 그는 거절한다. 대신 다른 사람들이 피터 파커가 스파이더맨이었다는 기억을 없애주기로 한다. 그러나 피터는 폭로 이전에 자신의 정체를 알던 이들은 예외로 해달라며 주문을 방해하고 스트레인지의 마법은 실패한다. 이로 인해 오히려 스파이더맨의 정체를 알던 평행우주의 인물들이 넘어오게 된다.\\n\\n피터는 플래시 톰슨의 도움으로 MIT에 한 번 더 기회를 요청하기 위해 공항으로 가던 부총장보를 만나려 한다. 부총장보를 만났지만 갑자기 도로에서 스파이더맨: 트릴로지2의 닥터 옥토퍼스가 나타난다. 피터는 닥터 옥토퍼스를 제압하고 부총장보에게 입학 허가를 받았지만, 2002년 작 스파이더맨의 그린 고블린이 나타난다. 그 때 닥터 스트레인지의 도움으로 생텀으로 온 피터는 닥터 옥토퍼스와 함께 잡혀 있던 어메이징 스파이더맨의 리저드도 보게 된다. 스트레인지는 평행우주의 인물들을 막으려 했지만 일부가 우리 차원으로 넘어왔다고 말하며 피터에게 사건 해결을 촉구한다.\\n\\n네드와 MJ의 도움으로 스파이더맨 3의 샌드맨과 어메이징 스파이더맨 2의 일렉트로를 만나고 둘을 모두 잡게 된다. 사악한 그린 고블린의 인격에서 잠시 벗어난 노먼 오스본은 메이의 일터로 가고, 피터와 함께 생텀의 지하로 간다. 닥터 스트레인지는 그들을 되돌려 보내려고 하지만, 죽을 운명이었던 스파이더맨의 숙적들을 지키기 위해 피터와 스트레인지는 마법 상자를 놓고 싸운다. 스트레인지를 미러 디멘션에 고립시키기에 성공한 피터는 빌런들을 풀어주고 그들의 신체적/정신적 이상을 해결하고 돌려보내기위한 연구를 진행하고 닥터 옥토퍼스를 기계팔의 지배로부터 해방시킨다.\\n\\n그러나 그린 고블린, 일렉트로, 리저드, 샌드맨은 스파이더맨을 공격하고 그 결과 그린 고블린에 의해 메이가 죽는다. 그린 고블린은 피터에게 메이가 말하는 도덕적 의무를 지키면서 자신의 재능을 썩힌다고 조롱하고 피터는 분노한다. 메이는 죽기 전에, 피터에게 \"큰 힘에는 큰 책임이 따른다.\"라는 말을 하고 숨을 거둔다. 데일리 뷰글의 J 조나 제임슨은 스파이더맨이 지나간 자리에는 혼란만이 있다며 비난한다. 피터는 자신을 쫓아 온 데미지 컨트롤의 요원들을 피해 도망간다.\\n\\n한편, MJ와 네드는 피터가 준 닥터 스트레인지의 슬링링으로 피터를 찾으려고 한다. 그렇게 찾은 키가 훤칠한 피터 파커는 그들이 알던 피터가 아닌 어메이징 스파이더맨 시리즈의 앤드류 가필드 버전의 스파이더맨이었다. 다시 피터를 찾기 위해 슬링링을 사용하니, 샘 레이미의 스파이더맨 3부작의 토비 맥과이어 버전의 스파이더맨이 등장한다. 두 스파이더맨은 네드와 MJ의 말을 듣고 피터가 힘들 때 도피처로 쓰던 공간을 찾아간다.\\n\\n피터를 찾아간 친구들과 두 스파이더맨의 도움으로 피터는 다시 일어나고 세 스파이더맨은 데일리 뷰글을 통해 빌런들을 자유의 여신상에서 치료시키려는 계획을 세운다. 그리고 벌어진 세 스파이더맨과 샌드맨, 일렉트로, 리저드의 전투를 벌이고 난입한 닥터 옥토퍼스의 도움으로 셋 모두를 치료하게 된다.\\n\\n네드가 슬링링을 돌리다가 다시 현실로 돌아온 닥터 스트레인지는 이방인들을 원래 차원으로 되돌리려 하지만 그린 고블린이 나타난다. 복수심에 가득 찬 피터는 그린 고블린을 죽일 기세로 때리고 그린 고블린의 글라이더로 그를 찔러 죽이려 하지만 토비 맥과이어의 스파이더맨이 저지한다. 그린 고블린은 피터를 막고 있는 토비 맥과이어의 스파이더맨의 등을 찌르지만 다른 스파이더맨의 호흡으로 모든 숙적들을 치료한다.\\n\\n이방인들의 치료는 끝났지만 닥터 스트레인지는 마법 주문을 억누를 수 없는 상황에 처하고 피터는 피터 파커의 존재를 모든 사람들이 잊는다면 더 이상의 불청객이 오지 않게 될 것이라 스트레인지에게 말한다. 스트레인지는 이를 받아들여 모든 사람들에게서 피터 파커라는 존재의 기억을 지우는 마법을 사용한다. 피터는 다른 세계에서 온 스파이더맨들과 두 친구와 작별인사를 나누고 자신의 존재를 다시 말해주겠다고 약속한다. 다른 세계에서 온 사람들도 원래 세계로 돌아간다.\\n\\n그 후, 모두가 피터를 잊게 되었고 피터는 자취를 시작한다. 메이의 무덤에서 그의 기억을 잊은 해피 호건과 대화를 나누고, 네드와 MJ에게 자신에 대해 말하려 하지만 MJ의 이마에 난 상처를 보고 친구들을 위해 진실을 말하기를 포기한다. 피터 파커는 자신만의 새 스파이더맨 슈트를 만들고 스파이더맨으로서 다시 활약한다.'"
            ],
            "application/vnd.google.colaboratory.intrinsic+json": {
              "type": "string"
            }
          },
          "metadata": {},
          "execution_count": 16
        }
      ]
    },
    {
      "cell_type": "markdown",
      "source": [
        "### 4. 분리하지 않기 원하는 단어 설정"
      ],
      "metadata": {
        "id": "XEG1H25T2x3k"
      }
    },
    {
      "cell_type": "code",
      "source": [
        "from konlpy.tag import Okt\n",
        "okt = Okt()\n",
        "# pos(part of speech) : 품사를 할당해주는 함수\n",
        "okt.pos('닥터 스트레인지는 스파이더맨에 나온다.')"
      ],
      "metadata": {
        "colab": {
          "base_uri": "https://localhost:8080/"
        },
        "id": "t22SEo9T22c3",
        "outputId": "87d51b6c-52d1-49f5-dd85-d303dd978186"
      },
      "execution_count": 17,
      "outputs": [
        {
          "output_type": "execute_result",
          "data": {
            "text/plain": [
              "[('닥터', 'Noun'),\n",
              " ('스트레인지', 'Noun'),\n",
              " ('는', 'Josa'),\n",
              " ('스파이더맨', 'Noun'),\n",
              " ('에', 'Josa'),\n",
              " ('나온다', 'Verb'),\n",
              " ('.', 'Punctuation')]"
            ]
          },
          "metadata": {},
          "execution_count": 17
        }
      ]
    },
    {
      "cell_type": "code",
      "source": [
        "# 경로 확인\n",
        "import konlpy\n",
        "konlpy.__path__"
      ],
      "metadata": {
        "colab": {
          "base_uri": "https://localhost:8080/"
        },
        "id": "ZlN9Oyu6iTdA",
        "outputId": "51f83739-6273-410c-be20-5ee1144f10a2"
      },
      "execution_count": 20,
      "outputs": [
        {
          "output_type": "execute_result",
          "data": {
            "text/plain": [
              "['/usr/local/lib/python3.9/dist-packages/konlpy']"
            ]
          },
          "metadata": {},
          "execution_count": 20
        }
      ]
    },
    {
      "cell_type": "code",
      "source": [
        "import os\n",
        "os.chdir('/usr/local/lib/python3.9/dist-packages/konlpy/java')\n",
        "os.getcwd()"
      ],
      "metadata": {
        "colab": {
          "base_uri": "https://localhost:8080/",
          "height": 35
        },
        "id": "iBp5yOVlpysg",
        "outputId": "d2056149-5913-4608-e508-a786c4abe775"
      },
      "execution_count": 21,
      "outputs": [
        {
          "output_type": "execute_result",
          "data": {
            "text/plain": [
              "'/usr/local/lib/python3.9/dist-packages/konlpy/java'"
            ],
            "application/vnd.google.colaboratory.intrinsic+json": {
              "type": "string"
            }
          },
          "metadata": {},
          "execution_count": 21
        }
      ]
    },
    {
      "cell_type": "code",
      "source": [
        "# 임시 폴더 생성\n",
        "!mkdir tmp"
      ],
      "metadata": {
        "id": "Yqg5257hnUq2"
      },
      "execution_count": 22,
      "outputs": []
    },
    {
      "cell_type": "code",
      "source": [
        "import os\n",
        "os.chdir('/usr/local/lib/python3.9/dist-packages/konlpy/java/tmp')\n",
        "os.getcwd()"
      ],
      "metadata": {
        "colab": {
          "base_uri": "https://localhost:8080/",
          "height": 35
        },
        "id": "qrbuidTU6i6b",
        "outputId": "920f1665-05e0-4ae0-ded1-1246ef7c1b31"
      },
      "execution_count": 23,
      "outputs": [
        {
          "output_type": "execute_result",
          "data": {
            "text/plain": [
              "'/usr/local/lib/python3.9/dist-packages/konlpy/java/tmp'"
            ],
            "application/vnd.google.colaboratory.intrinsic+json": {
              "type": "string"
            }
          },
          "metadata": {},
          "execution_count": 23
        }
      ]
    },
    {
      "cell_type": "code",
      "source": [
        "# 상위 폴더 확인하기\n",
        "!ls ../"
      ],
      "metadata": {
        "colab": {
          "base_uri": "https://localhost:8080/"
        },
        "id": "w0KCoYzZnxhY",
        "outputId": "f6ce7af1-e8ea-4370-be2e-ad479c669d1d"
      },
      "execution_count": 24,
      "outputs": [
        {
          "output_type": "stream",
          "name": "stdout",
          "text": [
            "aho-corasick.jar     kkma-2.0.jar\t\t shineware-ds-1.0.jar\n",
            "bin\t\t     komoran-3.0.jar\t\t snakeyaml-1.12.jar\n",
            "conf\t\t     open-korean-text-2.1.0.jar  tmp\n",
            "data\t\t     scala-library-2.12.3.jar\t twitter-text-1.14.7.jar\n",
            "jhannanum-0.8.4.jar  shineware-common-1.0.jar\n"
          ]
        }
      ]
    },
    {
      "cell_type": "code",
      "source": [
        "!jar xvf ../open-korean-text-2.1.0.jar"
      ],
      "metadata": {
        "colab": {
          "base_uri": "https://localhost:8080/"
        },
        "id": "RdL200Hzn56m",
        "outputId": "868272dc-878c-471d-9ac3-436ba4503709"
      },
      "execution_count": 25,
      "outputs": [
        {
          "output_type": "stream",
          "name": "stdout",
          "text": [
            "  created: META-INF/\n",
            " inflated: META-INF/MANIFEST.MF\n",
            "  created: org/\n",
            "  created: org/openkoreantext/\n",
            "  created: org/openkoreantext/processor/\n",
            "  created: org/openkoreantext/processor/normalizer/\n",
            "  created: org/openkoreantext/processor/phrase_extractor/\n",
            "  created: org/openkoreantext/processor/qa/\n",
            "  created: org/openkoreantext/processor/stemmer/\n",
            "  created: org/openkoreantext/processor/tokenizer/\n",
            "  created: org/openkoreantext/processor/tools/\n",
            "  created: org/openkoreantext/processor/util/\n",
            "  created: org/openkoreantext/processor/util/adjective/\n",
            "  created: org/openkoreantext/processor/util/adverb/\n",
            "  created: org/openkoreantext/processor/util/auxiliary/\n",
            "  created: org/openkoreantext/processor/util/freq/\n",
            "  created: org/openkoreantext/processor/util/josa/\n",
            "  created: org/openkoreantext/processor/util/noun/\n",
            "  created: org/openkoreantext/processor/util/substantives/\n",
            "  created: org/openkoreantext/processor/util/typos/\n",
            "  created: org/openkoreantext/processor/util/verb/\n",
            " inflated: org/openkoreantext/processor/KoreanPosJava.class\n",
            " inflated: org/openkoreantext/processor/KoreanTokenJava.class\n",
            " inflated: org/openkoreantext/processor/normalizer/KoreanNormalizer$.class\n",
            " inflated: org/openkoreantext/processor/normalizer/KoreanNormalizer$Segment$.class\n",
            " inflated: org/openkoreantext/processor/normalizer/KoreanNormalizer$Segment.class\n",
            " inflated: org/openkoreantext/processor/normalizer/KoreanNormalizer.class\n",
            " inflated: org/openkoreantext/processor/OpenKoreanTextProcessor$.class\n",
            " inflated: org/openkoreantext/processor/OpenKoreanTextProcessor.class\n",
            " inflated: org/openkoreantext/processor/OpenKoreanTextProcessorJava.class\n",
            " inflated: org/openkoreantext/processor/phrase_extractor/KoreanPhraseExtractor$.class\n",
            " inflated: org/openkoreantext/processor/phrase_extractor/KoreanPhraseExtractor$KoreanPhrase$.class\n",
            " inflated: org/openkoreantext/processor/phrase_extractor/KoreanPhraseExtractor$KoreanPhrase.class\n",
            " inflated: org/openkoreantext/processor/phrase_extractor/KoreanPhraseExtractor$PhraseBuffer$.class\n",
            " inflated: org/openkoreantext/processor/phrase_extractor/KoreanPhraseExtractor$PhraseBuffer.class\n",
            " inflated: org/openkoreantext/processor/phrase_extractor/KoreanPhraseExtractor.class\n",
            " inflated: org/openkoreantext/processor/qa/BatchGetUnknownNouns$.class\n",
            " inflated: org/openkoreantext/processor/qa/BatchGetUnknownNouns$ChunkWithTweet$.class\n",
            " inflated: org/openkoreantext/processor/qa/BatchGetUnknownNouns$ChunkWithTweet.class\n",
            " inflated: org/openkoreantext/processor/qa/BatchGetUnknownNouns.class\n",
            " inflated: org/openkoreantext/processor/qa/BatchTokenizeTweets$.class\n",
            " inflated: org/openkoreantext/processor/qa/BatchTokenizeTweets$ParseTime$.class\n",
            " inflated: org/openkoreantext/processor/qa/BatchTokenizeTweets$ParseTime.class\n",
            " inflated: org/openkoreantext/processor/qa/BatchTokenizeTweets.class\n",
            " inflated: org/openkoreantext/processor/qa/KoreanProcessorSandbox$.class\n",
            " inflated: org/openkoreantext/processor/qa/KoreanProcessorSandbox.class\n",
            " inflated: org/openkoreantext/processor/stemmer/KoreanStemmer$.class\n",
            " inflated: org/openkoreantext/processor/stemmer/KoreanStemmer.class\n",
            " inflated: org/openkoreantext/processor/tokenizer/KoreanChunk$.class\n",
            " inflated: org/openkoreantext/processor/tokenizer/KoreanChunk.class\n",
            " inflated: org/openkoreantext/processor/tokenizer/KoreanChunker$.class\n",
            " inflated: org/openkoreantext/processor/tokenizer/KoreanChunker$ChunkMatch$.class\n",
            " inflated: org/openkoreantext/processor/tokenizer/KoreanChunker$ChunkMatch.class\n",
            " inflated: org/openkoreantext/processor/tokenizer/KoreanChunker.class\n",
            " inflated: org/openkoreantext/processor/tokenizer/KoreanDetokenizer$.class\n",
            " inflated: org/openkoreantext/processor/tokenizer/KoreanDetokenizer.class\n",
            " inflated: org/openkoreantext/processor/tokenizer/KoreanSentenceSplitter$.class\n",
            " inflated: org/openkoreantext/processor/tokenizer/KoreanSentenceSplitter.class\n",
            " inflated: org/openkoreantext/processor/tokenizer/KoreanTokenizer$.class\n",
            " inflated: org/openkoreantext/processor/tokenizer/KoreanTokenizer$CandidateParse$.class\n",
            " inflated: org/openkoreantext/processor/tokenizer/KoreanTokenizer$CandidateParse.class\n",
            " inflated: org/openkoreantext/processor/tokenizer/KoreanTokenizer$KoreanToken$.class\n",
            " inflated: org/openkoreantext/processor/tokenizer/KoreanTokenizer$KoreanToken.class\n",
            " inflated: org/openkoreantext/processor/tokenizer/KoreanTokenizer$PossibleTrie$.class\n",
            " inflated: org/openkoreantext/processor/tokenizer/KoreanTokenizer$PossibleTrie.class\n",
            " inflated: org/openkoreantext/processor/tokenizer/KoreanTokenizer.class\n",
            " inflated: org/openkoreantext/processor/tokenizer/ParsedChunk$.class\n",
            " inflated: org/openkoreantext/processor/tokenizer/ParsedChunk.class\n",
            " inflated: org/openkoreantext/processor/tokenizer/Sentence$.class\n",
            " inflated: org/openkoreantext/processor/tokenizer/Sentence.class\n",
            " inflated: org/openkoreantext/processor/tokenizer/TokenizerProfile$.class\n",
            " inflated: org/openkoreantext/processor/tokenizer/TokenizerProfile.class\n",
            " inflated: org/openkoreantext/processor/tools/CreateChunkParsingCandidates$.class\n",
            " inflated: org/openkoreantext/processor/tools/CreateChunkParsingCandidates.class\n",
            " inflated: org/openkoreantext/processor/tools/CreateConjugationExamples$.class\n",
            " inflated: org/openkoreantext/processor/tools/CreateConjugationExamples$ConjugationExample$.class\n",
            " inflated: org/openkoreantext/processor/tools/CreateConjugationExamples$ConjugationExample.class\n",
            " inflated: org/openkoreantext/processor/tools/CreateConjugationExamples.class\n",
            " inflated: org/openkoreantext/processor/tools/CreateParsingExamples$.class\n",
            " inflated: org/openkoreantext/processor/tools/CreateParsingExamples$ParsingExample$.class\n",
            " inflated: org/openkoreantext/processor/tools/CreateParsingExamples$ParsingExample.class\n",
            " inflated: org/openkoreantext/processor/tools/CreateParsingExamples.class\n",
            " inflated: org/openkoreantext/processor/tools/CreatePhraseExtractionExamples$.class\n",
            " inflated: org/openkoreantext/processor/tools/CreatePhraseExtractionExamples$PhraseExample$.class\n",
            " inflated: org/openkoreantext/processor/tools/CreatePhraseExtractionExamples$PhraseExample.class\n",
            " inflated: org/openkoreantext/processor/tools/CreatePhraseExtractionExamples.class\n",
            " inflated: org/openkoreantext/processor/tools/DeduplicateAndSortDictionaries$.class\n",
            " inflated: org/openkoreantext/processor/tools/DeduplicateAndSortDictionaries.class\n",
            " inflated: org/openkoreantext/processor/tools/Runnable.class\n",
            " inflated: org/openkoreantext/processor/tools/UpdateAllTheExamples$.class\n",
            " inflated: org/openkoreantext/processor/tools/UpdateAllTheExamples.class\n",
            " inflated: org/openkoreantext/processor/util/adjective/adjective.txt\n",
            " inflated: org/openkoreantext/processor/util/adverb/adverb.txt\n",
            " inflated: org/openkoreantext/processor/util/auxiliary/conjunctions.txt\n",
            " inflated: org/openkoreantext/processor/util/auxiliary/determiner.txt\n",
            " inflated: org/openkoreantext/processor/util/auxiliary/exclamation.txt\n",
            " inflated: org/openkoreantext/processor/util/CharacterUtils$CharacterBuffer.class\n",
            " inflated: org/openkoreantext/processor/util/CharacterUtils$Java4CharacterUtils.class\n",
            " inflated: org/openkoreantext/processor/util/CharacterUtils$Java5CharacterUtils.class\n",
            " inflated: org/openkoreantext/processor/util/CharacterUtils.class\n",
            " inflated: org/openkoreantext/processor/util/CharArrayMap$1.class\n",
            " inflated: org/openkoreantext/processor/util/CharArrayMap$EmptyCharArrayMap.class\n",
            " inflated: org/openkoreantext/processor/util/CharArrayMap$EntryIterator.class\n",
            " inflated: org/openkoreantext/processor/util/CharArrayMap$EntrySet.class\n",
            " inflated: org/openkoreantext/processor/util/CharArrayMap$MapEntry.class\n",
            " inflated: org/openkoreantext/processor/util/CharArrayMap$UnmodifiableCharArrayMap.class\n",
            " inflated: org/openkoreantext/processor/util/CharArrayMap.class\n",
            " inflated: org/openkoreantext/processor/util/CharArraySet.class\n",
            " inflated: org/openkoreantext/processor/util/example_chunks.txt\n",
            " inflated: org/openkoreantext/processor/util/example_tweets.txt\n",
            " inflated: org/openkoreantext/processor/util/freq/entity-freq.txt.gz\n",
            " inflated: org/openkoreantext/processor/util/Hangul$.class\n",
            " inflated: org/openkoreantext/processor/util/Hangul$DoubleCoda$.class\n",
            " inflated: org/openkoreantext/processor/util/Hangul$DoubleCoda.class\n",
            " inflated: org/openkoreantext/processor/util/Hangul$HangulChar$.class\n",
            " inflated: org/openkoreantext/processor/util/Hangul$HangulChar.class\n",
            " inflated: org/openkoreantext/processor/util/Hangul.class\n",
            " inflated: org/openkoreantext/processor/util/josa/josa.txt\n",
            " inflated: org/openkoreantext/processor/util/KoreanConjugation$.class\n",
            " inflated: org/openkoreantext/processor/util/KoreanConjugation.class\n",
            " inflated: org/openkoreantext/processor/util/KoreanDictionaryProvider$.class\n",
            " inflated: org/openkoreantext/processor/util/KoreanDictionaryProvider.class\n",
            " inflated: org/openkoreantext/processor/util/KoreanPos$.class\n",
            " inflated: org/openkoreantext/processor/util/KoreanPos$KoreanPosTrie$.class\n",
            " inflated: org/openkoreantext/processor/util/KoreanPos$KoreanPosTrie.class\n",
            " inflated: org/openkoreantext/processor/util/KoreanPos.class\n",
            " inflated: org/openkoreantext/processor/util/KoreanSubstantive$.class\n",
            " inflated: org/openkoreantext/processor/util/KoreanSubstantive.class\n",
            " inflated: org/openkoreantext/processor/util/noun/bible.txt\n",
            " inflated: org/openkoreantext/processor/util/noun/company_names.txt\n",
            " inflated: org/openkoreantext/processor/util/noun/congress.txt\n",
            " inflated: org/openkoreantext/processor/util/noun/entities.txt\n",
            " inflated: org/openkoreantext/processor/util/noun/foreign.txt\n",
            " inflated: org/openkoreantext/processor/util/noun/geolocations.txt\n",
            " inflated: org/openkoreantext/processor/util/noun/kpop.txt\n",
            " inflated: org/openkoreantext/processor/util/noun/lol.txt\n",
            " inflated: org/openkoreantext/processor/util/noun/names.txt\n",
            " inflated: org/openkoreantext/processor/util/noun/nouns.txt\n",
            " inflated: org/openkoreantext/processor/util/noun/pokemon.txt\n",
            " inflated: org/openkoreantext/processor/util/noun/profane.txt\n",
            " inflated: org/openkoreantext/processor/util/noun/slangs.txt\n",
            " inflated: org/openkoreantext/processor/util/noun/spam.txt\n",
            " inflated: org/openkoreantext/processor/util/noun/twitter.txt\n",
            " inflated: org/openkoreantext/processor/util/noun/wikipedia_title_nouns.txt\n",
            " inflated: org/openkoreantext/processor/util/substantives/family_names.txt\n",
            " inflated: org/openkoreantext/processor/util/substantives/given_names.txt\n",
            " inflated: org/openkoreantext/processor/util/substantives/modifier.txt\n",
            " inflated: org/openkoreantext/processor/util/substantives/suffix.txt\n",
            " inflated: org/openkoreantext/processor/util/typos/typos.txt\n",
            " inflated: org/openkoreantext/processor/util/verb/eomi.txt\n",
            " inflated: org/openkoreantext/processor/util/verb/pre_eomi.txt\n",
            " inflated: org/openkoreantext/processor/util/verb/verb.txt\n",
            " inflated: org/openkoreantext/processor/util/verb/verb_prefix.txt\n",
            "  created: META-INF/maven/\n",
            "  created: META-INF/maven/org.openkoreantext/\n",
            "  created: META-INF/maven/org.openkoreantext/open-korean-text/\n",
            " inflated: META-INF/maven/org.openkoreantext/open-korean-text/pom.xml\n",
            " inflated: META-INF/maven/org.openkoreantext/open-korean-text/pom.properties\n"
          ]
        }
      ]
    },
    {
      "cell_type": "code",
      "source": [
        "with open('/usr/local/lib/python3.9/dist-packages/konlpy/java/tmp/org/openkoreantext/processor/util/noun/names.txt') as f :\n",
        "  names = f.read()\n",
        "names"
      ],
      "metadata": {
        "id": "wIBZZXhGoLBV",
        "colab": {
          "base_uri": "https://localhost:8080/",
          "height": 127
        },
        "outputId": "1a8240f4-335d-477f-89a5-e6ad01ae5557"
      },
      "execution_count": 26,
      "outputs": [
        {
          "output_type": "execute_result",
          "data": {
            "text/plain": [
              "'가몽\\n가온\\n갓세븐\\n강새이\\n게임닉가\\n관우\\n귀여미\\n규\\n김유이\\n김준면\\n까까런\\n노컷\\n누너예\\n니노\\n다마고치\\n다이무스\\n대학생\\n데이브\\n도요토미\\n동운\\n동이\\n두주니\\n디시인사이드\\n디오\\n라몹\\n라스\\n라옵\\n멍구\\n메이든\\n명덕\\n명량\\n문민정부\\n미네\\n방엘리\\n병헌\\n붓다\\n비정상회담\\n빼빼로\\n삼풍\\n샤인온미\\n성식\\n성열\\n세라문\\n세라복\\n세종대왕\\n손권\\n손책\\n쇼미더머니\\n쇼챔\\n순규\\n스라소니\\n신동아\\n신쓰패밀리\\n신아라\\n아베\\n안상홍\\n안홍준\\n여누\\n여랑\\n여포\\n연합\\n오꾸닭\\n요섭\\n웃찾사\\n원식\\n유병언\\n유비\\n유이\\n윤기형\\n이나단\\n이명박\\n이완용\\n임창용\\n자괴\\n자니윤\\n자대련\\n자유\\n재중이\\n전교조\\n정윤회\\n제갈량\\n조자룡\\n조조\\n준면\\n지오디\\n지존파\\n진영오\\n차작가\\n차트\\n창섭\\n챠트\\n첸\\n코르사주\\n하무열\\n하용파쿠\\n혁재\\n현이\\n현태\\n혜미\\n'"
            ],
            "application/vnd.google.colaboratory.intrinsic+json": {
              "type": "string"
            }
          },
          "metadata": {},
          "execution_count": 26
        }
      ]
    },
    {
      "cell_type": "code",
      "source": [
        "names += '스트레인지\\n'"
      ],
      "metadata": {
        "id": "20NCLikbq3S5"
      },
      "execution_count": 27,
      "outputs": []
    },
    {
      "cell_type": "code",
      "source": [
        "with open('/usr/local/lib/python3.9/dist-packages/konlpy/java/tmp/org/openkoreantext/processor/util/noun/names.txt', 'w') as f :\n",
        "  f.write(names)"
      ],
      "metadata": {
        "id": "XuPqVB_yrAFX"
      },
      "execution_count": 28,
      "outputs": []
    },
    {
      "cell_type": "code",
      "source": [
        "names"
      ],
      "metadata": {
        "colab": {
          "base_uri": "https://localhost:8080/",
          "height": 127
        },
        "id": "7wqdPMjqyJoe",
        "outputId": "0824c0e5-c5d9-4451-9edc-b2ed81f9010c"
      },
      "execution_count": 29,
      "outputs": [
        {
          "output_type": "execute_result",
          "data": {
            "text/plain": [
              "'가몽\\n가온\\n갓세븐\\n강새이\\n게임닉가\\n관우\\n귀여미\\n규\\n김유이\\n김준면\\n까까런\\n노컷\\n누너예\\n니노\\n다마고치\\n다이무스\\n대학생\\n데이브\\n도요토미\\n동운\\n동이\\n두주니\\n디시인사이드\\n디오\\n라몹\\n라스\\n라옵\\n멍구\\n메이든\\n명덕\\n명량\\n문민정부\\n미네\\n방엘리\\n병헌\\n붓다\\n비정상회담\\n빼빼로\\n삼풍\\n샤인온미\\n성식\\n성열\\n세라문\\n세라복\\n세종대왕\\n손권\\n손책\\n쇼미더머니\\n쇼챔\\n순규\\n스라소니\\n신동아\\n신쓰패밀리\\n신아라\\n아베\\n안상홍\\n안홍준\\n여누\\n여랑\\n여포\\n연합\\n오꾸닭\\n요섭\\n웃찾사\\n원식\\n유병언\\n유비\\n유이\\n윤기형\\n이나단\\n이명박\\n이완용\\n임창용\\n자괴\\n자니윤\\n자대련\\n자유\\n재중이\\n전교조\\n정윤회\\n제갈량\\n조자룡\\n조조\\n준면\\n지오디\\n지존파\\n진영오\\n차작가\\n차트\\n창섭\\n챠트\\n첸\\n코르사주\\n하무열\\n하용파쿠\\n혁재\\n현이\\n현태\\n혜미\\n스트레인지\\n'"
            ],
            "application/vnd.google.colaboratory.intrinsic+json": {
              "type": "string"
            }
          },
          "metadata": {},
          "execution_count": 29
        }
      ]
    },
    {
      "cell_type": "code",
      "source": [
        "import os\n",
        "os.getcwd()"
      ],
      "metadata": {
        "colab": {
          "base_uri": "https://localhost:8080/",
          "height": 35
        },
        "id": "iJUOxiH_rQjo",
        "outputId": "d3c90abd-e392-42d7-b1ba-068ef64cce68"
      },
      "execution_count": 30,
      "outputs": [
        {
          "output_type": "execute_result",
          "data": {
            "text/plain": [
              "'/usr/local/lib/python3.9/dist-packages/konlpy/java/tmp'"
            ],
            "application/vnd.google.colaboratory.intrinsic+json": {
              "type": "string"
            }
          },
          "metadata": {},
          "execution_count": 30
        }
      ]
    },
    {
      "cell_type": "code",
      "source": [
        "# tmp변경 내용을 jar파일에 넣어주는 작업\n",
        "!jar cvf ../open-korean-text-2.1.0.jar *"
      ],
      "metadata": {
        "id": "rH4Mj9FjrT4_",
        "colab": {
          "base_uri": "https://localhost:8080/"
        },
        "outputId": "e0a879b9-664c-48dd-f82f-dbbf8aa7809c"
      },
      "execution_count": 31,
      "outputs": [
        {
          "output_type": "stream",
          "name": "stdout",
          "text": [
            "added manifest\n",
            "ignoring entry META-INF/\n",
            "ignoring entry META-INF/MANIFEST.MF\n",
            "adding: META-INF/maven/(in = 0) (out= 0)(stored 0%)\n",
            "adding: META-INF/maven/org.openkoreantext/(in = 0) (out= 0)(stored 0%)\n",
            "adding: META-INF/maven/org.openkoreantext/open-korean-text/(in = 0) (out= 0)(stored 0%)\n",
            "adding: META-INF/maven/org.openkoreantext/open-korean-text/pom.properties(in = 119) (out= 110)(deflated 7%)\n",
            "adding: META-INF/maven/org.openkoreantext/open-korean-text/pom.xml(in = 9127) (out= 2208)(deflated 75%)\n",
            "adding: org/(in = 0) (out= 0)(stored 0%)\n",
            "adding: org/openkoreantext/(in = 0) (out= 0)(stored 0%)\n",
            "adding: org/openkoreantext/processor/(in = 0) (out= 0)(stored 0%)\n",
            "adding: org/openkoreantext/processor/qa/(in = 0) (out= 0)(stored 0%)\n",
            "adding: org/openkoreantext/processor/qa/BatchGetUnknownNouns$ChunkWithTweet$.class(in = 2376) (out= 952)(deflated 59%)\n",
            "adding: org/openkoreantext/processor/qa/BatchGetUnknownNouns$ChunkWithTweet.class(in = 3080) (out= 1338)(deflated 56%)\n",
            "adding: org/openkoreantext/processor/qa/BatchTokenizeTweets$ParseTime.class(in = 3153) (out= 1446)(deflated 54%)\n",
            "adding: org/openkoreantext/processor/qa/BatchTokenizeTweets$.class(in = 10867) (out= 4401)(deflated 59%)\n",
            "adding: org/openkoreantext/processor/qa/KoreanProcessorSandbox.class(in = 824) (out= 575)(deflated 30%)\n",
            "adding: org/openkoreantext/processor/qa/KoreanProcessorSandbox$.class(in = 1464) (out= 823)(deflated 43%)\n",
            "adding: org/openkoreantext/processor/qa/BatchGetUnknownNouns$.class(in = 8751) (out= 3532)(deflated 59%)\n",
            "adding: org/openkoreantext/processor/qa/BatchTokenizeTweets$ParseTime$.class(in = 2418) (out= 1015)(deflated 58%)\n",
            "adding: org/openkoreantext/processor/qa/BatchTokenizeTweets.class(in = 2720) (out= 2031)(deflated 25%)\n",
            "adding: org/openkoreantext/processor/qa/BatchGetUnknownNouns.class(in = 2307) (out= 1702)(deflated 26%)\n",
            "adding: org/openkoreantext/processor/phrase_extractor/(in = 0) (out= 0)(stored 0%)\n",
            "adding: org/openkoreantext/processor/phrase_extractor/KoreanPhraseExtractor$.class(in = 37855) (out= 12404)(deflated 67%)\n",
            "adding: org/openkoreantext/processor/phrase_extractor/KoreanPhraseExtractor$PhraseBuffer$.class(in = 3564) (out= 1087)(deflated 69%)\n",
            "adding: org/openkoreantext/processor/phrase_extractor/KoreanPhraseExtractor$PhraseBuffer.class(in = 4857) (out= 1609)(deflated 66%)\n",
            "adding: org/openkoreantext/processor/phrase_extractor/KoreanPhraseExtractor$KoreanPhrase.class(in = 6942) (out= 2591)(deflated 62%)\n",
            "adding: org/openkoreantext/processor/phrase_extractor/KoreanPhraseExtractor.class(in = 6005) (out= 3967)(deflated 33%)\n",
            "adding: org/openkoreantext/processor/phrase_extractor/KoreanPhraseExtractor$KoreanPhrase$.class(in = 3358) (out= 1148)(deflated 65%)\n",
            "adding: org/openkoreantext/processor/OpenKoreanTextProcessorJava.class(in = 5901) (out= 1995)(deflated 66%)\n",
            "adding: org/openkoreantext/processor/util/(in = 0) (out= 0)(stored 0%)\n",
            "adding: org/openkoreantext/processor/util/KoreanSubstantive.class(in = 1336) (out= 1087)(deflated 18%)\n",
            "adding: org/openkoreantext/processor/util/auxiliary/(in = 0) (out= 0)(stored 0%)\n",
            "adding: org/openkoreantext/processor/util/auxiliary/determiner.txt(in = 63) (out= 63)(deflated 0%)\n",
            "adding: org/openkoreantext/processor/util/auxiliary/conjunctions.txt(in = 398) (out= 189)(deflated 52%)\n",
            "adding: org/openkoreantext/processor/util/auxiliary/exclamation.txt(in = 1759) (out= 757)(deflated 56%)\n",
            "adding: org/openkoreantext/processor/util/example_tweets.txt(in = 86271) (out= 38336)(deflated 55%)\n",
            "adding: org/openkoreantext/processor/util/KoreanPos$KoreanPosTrie$.class(in = 3157) (out= 1089)(deflated 65%)\n",
            "adding: org/openkoreantext/processor/util/substantives/(in = 0) (out= 0)(stored 0%)\n",
            "adding: org/openkoreantext/processor/util/substantives/suffix.txt(in = 325) (out= 224)(deflated 31%)\n",
            "adding: org/openkoreantext/processor/util/substantives/family_names.txt(in = 299) (out= 197)(deflated 34%)\n",
            "adding: org/openkoreantext/processor/util/substantives/given_names.txt(in = 1407) (out= 609)(deflated 56%)\n",
            "adding: org/openkoreantext/processor/util/substantives/modifier.txt(in = 3395) (out= 1346)(deflated 60%)\n",
            "adding: org/openkoreantext/processor/util/KoreanPos$KoreanPosTrie.class(in = 4390) (out= 1610)(deflated 63%)\n",
            "adding: org/openkoreantext/processor/util/Hangul.class(in = 3981) (out= 2731)(deflated 31%)\n",
            "adding: org/openkoreantext/processor/util/Hangul$HangulChar$.class(in = 2389) (out= 1022)(deflated 57%)\n",
            "adding: org/openkoreantext/processor/util/KoreanConjugation$.class(in = 22440) (out= 7972)(deflated 64%)\n",
            "adding: org/openkoreantext/processor/util/KoreanDictionaryProvider$.class(in = 20197) (out= 7488)(deflated 62%)\n",
            "adding: org/openkoreantext/processor/util/typos/(in = 0) (out= 0)(stored 0%)\n",
            "adding: org/openkoreantext/processor/util/typos/typos.txt(in = 5146) (out= 2300)(deflated 55%)\n",
            "adding: org/openkoreantext/processor/util/Hangul$HangulChar.class(in = 3185) (out= 1421)(deflated 55%)\n",
            "adding: org/openkoreantext/processor/util/freq/(in = 0) (out= 0)(stored 0%)\n",
            "adding: org/openkoreantext/processor/util/freq/entity-freq.txt.gz(in = 385753) (out= 385873)(deflated 0%)\n",
            "adding: org/openkoreantext/processor/util/Hangul$.class(in = 7625) (out= 3114)(deflated 59%)\n",
            "adding: org/openkoreantext/processor/util/example_chunks.txt(in = 522978) (out= 163253)(deflated 68%)\n",
            "adding: org/openkoreantext/processor/util/adjective/(in = 0) (out= 0)(stored 0%)\n",
            "adding: org/openkoreantext/processor/util/adjective/adjective.txt(in = 27250) (out= 9357)(deflated 65%)\n",
            "adding: org/openkoreantext/processor/util/CharArrayMap$1.class(in = 1531) (out= 571)(deflated 62%)\n",
            "adding: org/openkoreantext/processor/util/CharacterUtils$Java4CharacterUtils.class(in = 2577) (out= 1282)(deflated 50%)\n",
            "adding: org/openkoreantext/processor/util/josa/(in = 0) (out= 0)(stored 0%)\n",
            "adding: org/openkoreantext/processor/util/josa/josa.txt(in = 5219) (out= 1476)(deflated 71%)\n",
            "adding: org/openkoreantext/processor/util/KoreanSubstantive$.class(in = 14990) (out= 6195)(deflated 58%)\n",
            "adding: org/openkoreantext/processor/util/KoreanDictionaryProvider.class(in = 3430) (out= 2003)(deflated 41%)\n",
            "adding: org/openkoreantext/processor/util/CharacterUtils$CharacterBuffer.class(in = 1634) (out= 659)(deflated 59%)\n",
            "adding: org/openkoreantext/processor/util/verb/(in = 0) (out= 0)(stored 0%)\n",
            "adding: org/openkoreantext/processor/util/verb/verb.txt(in = 32758) (out= 10723)(deflated 67%)\n",
            "adding: org/openkoreantext/processor/util/verb/pre_eomi.txt(in = 285) (out= 185)(deflated 35%)\n",
            "adding: org/openkoreantext/processor/util/verb/verb_prefix.txt(in = 47) (out= 52)(deflated -10%)\n",
            "adding: org/openkoreantext/processor/util/verb/eomi.txt(in = 12618) (out= 3556)(deflated 71%)\n",
            "adding: org/openkoreantext/processor/util/CharArraySet.class(in = 4886) (out= 1944)(deflated 60%)\n",
            "adding: org/openkoreantext/processor/util/CharArrayMap$EntryIterator.class(in = 3118) (out= 1270)(deflated 59%)\n",
            "adding: org/openkoreantext/processor/util/KoreanPos$.class(in = 12173) (out= 4669)(deflated 61%)\n",
            "adding: org/openkoreantext/processor/util/KoreanPos.class(in = 6890) (out= 3877)(deflated 43%)\n",
            "adding: org/openkoreantext/processor/util/KoreanConjugation.class(in = 1550) (out= 1237)(deflated 20%)\n",
            "adding: org/openkoreantext/processor/util/CharacterUtils.class(in = 3703) (out= 1716)(deflated 53%)\n",
            "adding: org/openkoreantext/processor/util/CharArrayMap$EmptyCharArrayMap.class(in = 2053) (out= 725)(deflated 64%)\n",
            "adding: org/openkoreantext/processor/util/Hangul$DoubleCoda.class(in = 2930) (out= 1348)(deflated 53%)\n",
            "adding: org/openkoreantext/processor/util/noun/(in = 0) (out= 0)(stored 0%)\n",
            "adding: org/openkoreantext/processor/util/noun/nouns.txt(in = 219319) (out= 84134)(deflated 61%)\n",
            "adding: org/openkoreantext/processor/util/noun/company_names.txt(in = 1631) (out= 905)(deflated 44%)\n",
            "adding: org/openkoreantext/processor/util/noun/spam.txt(in = 202) (out= 157)(deflated 22%)\n",
            "adding: org/openkoreantext/processor/util/noun/wikipedia_title_nouns.txt(in = 1971964) (out= 686708)(deflated 65%)\n",
            "adding: org/openkoreantext/processor/util/noun/kpop.txt(in = 5371) (out= 2495)(deflated 53%)\n",
            "adding: org/openkoreantext/processor/util/noun/twitter.txt(in = 254) (out= 162)(deflated 36%)\n",
            "adding: org/openkoreantext/processor/util/noun/pokemon.txt(in = 1781) (out= 965)(deflated 45%)\n",
            "adding: org/openkoreantext/processor/util/noun/lol.txt(in = 1337) (out= 744)(deflated 44%)\n",
            "adding: org/openkoreantext/processor/util/noun/profane.txt(in = 569) (out= 337)(deflated 40%)\n",
            "adding: org/openkoreantext/processor/util/noun/foreign.txt(in = 10485) (out= 4686)(deflated 55%)\n",
            "adding: org/openkoreantext/processor/util/noun/bible.txt(in = 2032) (out= 1005)(deflated 50%)\n",
            "adding: org/openkoreantext/processor/util/noun/slangs.txt(in = 1565) (out= 921)(deflated 41%)\n",
            "adding: org/openkoreantext/processor/util/noun/geolocations.txt(in = 5423) (out= 2267)(deflated 58%)\n",
            "adding: org/openkoreantext/processor/util/noun/congress.txt(in = 26494) (out= 9351)(deflated 64%)\n",
            "adding: org/openkoreantext/processor/util/noun/entities.txt(in = 108142) (out= 44095)(deflated 59%)\n",
            "adding: org/openkoreantext/processor/util/noun/names.txt(in = 919) (out= 558)(deflated 39%)\n",
            "adding: org/openkoreantext/processor/util/CharArrayMap$MapEntry.class(in = 2433) (out= 1078)(deflated 55%)\n",
            "adding: org/openkoreantext/processor/util/Hangul$DoubleCoda$.class(in = 2155) (out= 963)(deflated 55%)\n",
            "adding: org/openkoreantext/processor/util/CharArrayMap$UnmodifiableCharArrayMap.class(in = 3062) (out= 859)(deflated 71%)\n",
            "adding: org/openkoreantext/processor/util/CharArrayMap.class(in = 11923) (out= 4878)(deflated 59%)\n",
            "adding: org/openkoreantext/processor/util/CharacterUtils$Java5CharacterUtils.class(in = 2824) (out= 1393)(deflated 50%)\n",
            "adding: org/openkoreantext/processor/util/CharArrayMap$EntrySet.class(in = 2788) (out= 1181)(deflated 57%)\n",
            "adding: org/openkoreantext/processor/util/adverb/(in = 0) (out= 0)(stored 0%)\n",
            "adding: org/openkoreantext/processor/util/adverb/adverb.txt(in = 65572) (out= 18741)(deflated 71%)\n",
            "adding: org/openkoreantext/processor/KoreanTokenJava.class(in = 1976) (out= 931)(deflated 52%)\n",
            "adding: org/openkoreantext/processor/tokenizer/(in = 0) (out= 0)(stored 0%)\n",
            "adding: org/openkoreantext/processor/tokenizer/TokenizerProfile.class(in = 16403) (out= 6666)(deflated 59%)\n",
            "adding: org/openkoreantext/processor/tokenizer/KoreanTokenizer$CandidateParse$.class(in = 3459) (out= 1111)(deflated 67%)\n",
            "adding: org/openkoreantext/processor/tokenizer/KoreanTokenizer$PossibleTrie.class(in = 3399) (out= 1429)(deflated 57%)\n",
            "adding: org/openkoreantext/processor/tokenizer/KoreanChunk$.class(in = 2361) (out= 1010)(deflated 57%)\n",
            "adding: org/openkoreantext/processor/tokenizer/KoreanTokenizer$PossibleTrie$.class(in = 2862) (out= 1067)(deflated 62%)\n",
            "adding: org/openkoreantext/processor/tokenizer/KoreanTokenizer.class(in = 6968) (out= 4384)(deflated 37%)\n",
            "adding: org/openkoreantext/processor/tokenizer/ParsedChunk$.class(in = 3973) (out= 1500)(deflated 62%)\n",
            "adding: org/openkoreantext/processor/tokenizer/KoreanChunker$.class(in = 17975) (out= 6790)(deflated 62%)\n",
            "adding: org/openkoreantext/processor/tokenizer/KoreanDetokenizer$.class(in = 9889) (out= 4174)(deflated 57%)\n",
            "adding: org/openkoreantext/processor/tokenizer/KoreanSentenceSplitter$.class(in = 3359) (out= 1497)(deflated 55%)\n",
            "adding: org/openkoreantext/processor/tokenizer/Sentence$.class(in = 2339) (out= 1012)(deflated 56%)\n",
            "adding: org/openkoreantext/processor/tokenizer/KoreanTokenizer$.class(in = 25564) (out= 8451)(deflated 66%)\n",
            "adding: org/openkoreantext/processor/tokenizer/TokenizerProfile$.class(in = 8169) (out= 2408)(deflated 70%)\n",
            "adding: org/openkoreantext/processor/tokenizer/KoreanTokenizer$KoreanToken.class(in = 6336) (out= 2633)(deflated 58%)\n",
            "adding: org/openkoreantext/processor/tokenizer/ParsedChunk.class(in = 20517) (out= 8914)(deflated 56%)\n",
            "adding: org/openkoreantext/processor/tokenizer/KoreanTokenizer$CandidateParse.class(in = 4616) (out= 1645)(deflated 64%)\n",
            "adding: org/openkoreantext/processor/tokenizer/KoreanTokenizer$KoreanToken$.class(in = 3976) (out= 1402)(deflated 64%)\n",
            "adding: org/openkoreantext/processor/tokenizer/KoreanChunker$ChunkMatch.class(in = 4043) (out= 1704)(deflated 57%)\n",
            "adding: org/openkoreantext/processor/tokenizer/KoreanChunk.class(in = 5611) (out= 2907)(deflated 48%)\n",
            "adding: org/openkoreantext/processor/tokenizer/KoreanChunker$ChunkMatch$.class(in = 2893) (out= 1136)(deflated 60%)\n",
            "adding: org/openkoreantext/processor/tokenizer/KoreanDetokenizer.class(in = 1660) (out= 1133)(deflated 31%)\n",
            "adding: org/openkoreantext/processor/tokenizer/KoreanChunker.class(in = 4232) (out= 2887)(deflated 31%)\n",
            "adding: org/openkoreantext/processor/tokenizer/KoreanSentenceSplitter.class(in = 1092) (out= 712)(deflated 34%)\n",
            "adding: org/openkoreantext/processor/tokenizer/Sentence.class(in = 5985) (out= 3125)(deflated 47%)\n",
            "adding: org/openkoreantext/processor/OpenKoreanTextProcessor$.class(in = 7716) (out= 2400)(deflated 68%)\n",
            "adding: org/openkoreantext/processor/stemmer/(in = 0) (out= 0)(stored 0%)\n",
            "adding: org/openkoreantext/processor/stemmer/KoreanStemmer.class(in = 1439) (out= 972)(deflated 32%)\n",
            "adding: org/openkoreantext/processor/stemmer/KoreanStemmer$.class(in = 7044) (out= 2892)(deflated 58%)\n",
            "adding: org/openkoreantext/processor/OpenKoreanTextProcessor.class(in = 4428) (out= 1997)(deflated 54%)\n",
            "adding: org/openkoreantext/processor/normalizer/(in = 0) (out= 0)(stored 0%)\n",
            "adding: org/openkoreantext/processor/normalizer/KoreanNormalizer$.class(in = 11553) (out= 5102)(deflated 55%)\n",
            "adding: org/openkoreantext/processor/normalizer/KoreanNormalizer$Segment.class(in = 3470) (out= 1422)(deflated 59%)\n",
            "adding: org/openkoreantext/processor/normalizer/KoreanNormalizer.class(in = 2980) (out= 2181)(deflated 26%)\n",
            "adding: org/openkoreantext/processor/normalizer/KoreanNormalizer$Segment$.class(in = 2577) (out= 989)(deflated 61%)\n",
            "adding: org/openkoreantext/processor/tools/(in = 0) (out= 0)(stored 0%)\n",
            "adding: org/openkoreantext/processor/tools/DeduplicateAndSortDictionaries.class(in = 1117) (out= 823)(deflated 26%)\n",
            "adding: org/openkoreantext/processor/tools/CreateParsingExamples$ParsingExample$.class(in = 2842) (out= 1010)(deflated 64%)\n",
            "adding: org/openkoreantext/processor/tools/CreateConjugationExamples.class(in = 2367) (out= 1659)(deflated 29%)\n",
            "adding: org/openkoreantext/processor/tools/DeduplicateAndSortDictionaries$.class(in = 7154) (out= 3133)(deflated 56%)\n",
            "adding: org/openkoreantext/processor/tools/UpdateAllTheExamples$.class(in = 4383) (out= 1794)(deflated 59%)\n",
            "adding: org/openkoreantext/processor/tools/Runnable.class(in = 964) (out= 694)(deflated 28%)\n",
            "adding: org/openkoreantext/processor/tools/CreateParsingExamples$ParsingExample.class(in = 3718) (out= 1429)(deflated 61%)\n",
            "adding: org/openkoreantext/processor/tools/CreatePhraseExtractionExamples$PhraseExample.class(in = 3825) (out= 1443)(deflated 62%)\n",
            "adding: org/openkoreantext/processor/tools/CreatePhraseExtractionExamples$PhraseExample$.class(in = 2974) (out= 1020)(deflated 65%)\n",
            "adding: org/openkoreantext/processor/tools/UpdateAllTheExamples.class(in = 1089) (out= 756)(deflated 30%)\n",
            "adding: org/openkoreantext/processor/tools/CreatePhraseExtractionExamples.class(in = 2516) (out= 1784)(deflated 29%)\n",
            "adding: org/openkoreantext/processor/tools/CreateParsingExamples.class(in = 2427) (out= 1732)(deflated 28%)\n",
            "adding: org/openkoreantext/processor/tools/CreateConjugationExamples$ConjugationExample$.class(in = 2787) (out= 997)(deflated 64%)\n",
            "adding: org/openkoreantext/processor/tools/CreateParsingExamples$.class(in = 5517) (out= 2327)(deflated 57%)\n",
            "adding: org/openkoreantext/processor/tools/CreateConjugationExamples$.class(in = 5881) (out= 2385)(deflated 59%)\n",
            "adding: org/openkoreantext/processor/tools/CreateConjugationExamples$ConjugationExample.class(in = 3569) (out= 1415)(deflated 60%)\n",
            "adding: org/openkoreantext/processor/tools/CreateChunkParsingCandidates$.class(in = 5487) (out= 2305)(deflated 57%)\n",
            "adding: org/openkoreantext/processor/tools/CreateChunkParsingCandidates.class(in = 833) (out= 566)(deflated 32%)\n",
            "adding: org/openkoreantext/processor/tools/CreatePhraseExtractionExamples$.class(in = 5989) (out= 2472)(deflated 58%)\n",
            "adding: org/openkoreantext/processor/KoreanPosJava.class(in = 2457) (out= 1241)(deflated 49%)\n"
          ]
        }
      ]
    },
    {
      "cell_type": "code",
      "source": [
        "# from konlpy.tag import Okt\n",
        "# okt = Okt()\n",
        "# # pos(part of speech) : 품사를 할당해주는 함수\n",
        "okt.pos('닥터 스트레인지는 스파이더맨에 나온다.')"
      ],
      "metadata": {
        "colab": {
          "base_uri": "https://localhost:8080/"
        },
        "id": "bWXH3mehrdnR",
        "outputId": "736946bb-a73c-49fd-fbfa-7fce25496745"
      },
      "execution_count": 32,
      "outputs": [
        {
          "output_type": "execute_result",
          "data": {
            "text/plain": [
              "[('닥터', 'Noun'),\n",
              " ('스', 'Noun'),\n",
              " ('트레인', 'Noun'),\n",
              " ('지는', 'Josa'),\n",
              " ('스파이더맨', 'Noun'),\n",
              " ('에', 'Josa'),\n",
              " ('나온다', 'Verb'),\n",
              " ('.', 'Punctuation')]"
            ]
          },
          "metadata": {},
          "execution_count": 32
        }
      ]
    },
    {
      "cell_type": "markdown",
      "source": [
        "### 5. 영화 한 개에 대한 빈도분석과 워드 클라우드"
      ],
      "metadata": {
        "id": "bVHnurwF3m11"
      }
    },
    {
      "cell_type": "code",
      "source": [
        "one_text = df['text'][0]\n",
        "one_text"
      ],
      "metadata": {
        "colab": {
          "base_uri": "https://localhost:8080/",
          "height": 256
        },
        "id": "Vv2mkb1T3vsE",
        "outputId": "cdbf77bb-fc47-44d7-f4cf-46f730a0e1fd"
      },
      "execution_count": 37,
      "outputs": [
        {
          "output_type": "execute_result",
          "data": {
            "text/plain": [
              "'《스파이더맨: 노 웨이 홈》(영어: Spider-Man: No Way Home)은 2021년 개봉한 미국의 슈퍼히어로 영화이다. 2019년 영화 《스파이더맨: 파 프롬 홈》의 후속작이자, 마블 시네마틱 유니버스(MCU)의 27번째 작품이다. 감독은 전편과 같은 존 왓츠가 맡았으며, 각본 역시 전편에 참여했던 크리스 매케나와 에릭 소머즈가 맡았다.전작 《스파이더맨: 파 프롬 홈》에서 미스테리오가 스파이더맨이 살인자라고 누명을 씌우고, 정체를 공개한 장면부터 시작된다. 주변 사람들로부터 관심이 쏠린 피터 파커와 MJ는 웹스윙으로 현장을 벗어나 집으로 가지만, 집 근처에도 많은 사람들이 온다. 이후, 피터, MJ, 네드, 큰엄마 메이는 경찰에 조사받는다. 변호사 맷 머독이 증거불충분으로 기소되지는 않는다고 말하지만 대중들은 스파이더맨을 살인자라며 비난한다.\\n\\n미스테리오 때문에 자신의 일상이 엉망이 된 피터, 자신이 끌어들인 네드와 MJ까지 논란으로 인해 MIT 진학이 좌절되자 피터는 닥터 스트레인지를 찾아가 과거를 바꿔달라고 하지만 그는 거절한다. 대신 다른 사람들이 피터 파커가 스파이더맨이었다는 기억을 없애주기로 한다. 그러나 피터는 폭로 이전에 자신의 정체를 알던 이들은 예외로 해달라며 주문을 방해하고 스트레인지의 마법은 실패한다. 이로 인해 오히려 스파이더맨의 정체를 알던 평행우주의 인물들이 넘어오게 된다.\\n\\n피터는 플래시 톰슨의 도움으로 MIT에 한 번 더 기회를 요청하기 위해 공항으로 가던 부총장보를 만나려 한다. 부총장보를 만났지만 갑자기 도로에서 스파이더맨: 트릴로지2의 닥터 옥토퍼스가 나타난다. 피터는 닥터 옥토퍼스를 제압하고 부총장보에게 입학 허가를 받았지만, 2002년 작 스파이더맨의 그린 고블린이 나타난다. 그 때 닥터 스트레인지의 도움으로 생텀으로 온 피터는 닥터 옥토퍼스와 함께 잡혀 있던 어메이징 스파이더맨의 리저드도 보게 된다. 스트레인지는 평행우주의 인물들을 막으려 했지만 일부가 우리 차원으로 넘어왔다고 말하며 피터에게 사건 해결을 촉구한다.\\n\\n네드와 MJ의 도움으로 스파이더맨 3의 샌드맨과 어메이징 스파이더맨 2의 일렉트로를 만나고 둘을 모두 잡게 된다. 사악한 그린 고블린의 인격에서 잠시 벗어난 노먼 오스본은 메이의 일터로 가고, 피터와 함께 생텀의 지하로 간다. 닥터 스트레인지는 그들을 되돌려 보내려고 하지만, 죽을 운명이었던 스파이더맨의 숙적들을 지키기 위해 피터와 스트레인지는 마법 상자를 놓고 싸운다. 스트레인지를 미러 디멘션에 고립시키기에 성공한 피터는 빌런들을 풀어주고 그들의 신체적/정신적 이상을 해결하고 돌려보내기위한 연구를 진행하고 닥터 옥토퍼스를 기계팔의 지배로부터 해방시킨다.\\n\\n그러나 그린 고블린, 일렉트로, 리저드, 샌드맨은 스파이더맨을 공격하고 그 결과 그린 고블린에 의해 메이가 죽는다. 그린 고블린은 피터에게 메이가 말하는 도덕적 의무를 지키면서 자신의 재능을 썩힌다고 조롱하고 피터는 분노한다. 메이는 죽기 전에, 피터에게 \"큰 힘에는 큰 책임이 따른다.\"라는 말을 하고 숨을 거둔다. 데일리 뷰글의 J 조나 제임슨은 스파이더맨이 지나간 자리에는 혼란만이 있다며 비난한다. 피터는 자신을 쫓아 온 데미지 컨트롤의 요원들을 피해 도망간다.\\n\\n한편, MJ와 네드는 피터가 준 닥터 스트레인지의 슬링링으로 피터를 찾으려고 한다. 그렇게 찾은 키가 훤칠한 피터 파커는 그들이 알던 피터가 아닌 어메이징 스파이더맨 시리즈의 앤드류 가필드 버전의 스파이더맨이었다. 다시 피터를 찾기 위해 슬링링을 사용하니, 샘 레이미의 스파이더맨 3부작의 토비 맥과이어 버전의 스파이더맨이 등장한다. 두 스파이더맨은 네드와 MJ의 말을 듣고 피터가 힘들 때 도피처로 쓰던 공간을 찾아간다.\\n\\n피터를 찾아간 친구들과 두 스파이더맨의 도움으로 피터는 다시 일어나고 세 스파이더맨은 데일리 뷰글을 통해 빌런들을 자유의 여신상에서 치료시키려는 계획을 세운다. 그리고 벌어진 세 스파이더맨과 샌드맨, 일렉트로, 리저드의 전투를 벌이고 난입한 닥터 옥토퍼스의 도움으로 셋 모두를 치료하게 된다.\\n\\n네드가 슬링링을 돌리다가 다시 현실로 돌아온 닥터 스트레인지는 이방인들을 원래 차원으로 되돌리려 하지만 그린 고블린이 나타난다. 복수심에 가득 찬 피터는 그린 고블린을 죽일 기세로 때리고 그린 고블린의 글라이더로 그를 찔러 죽이려 하지만 토비 맥과이어의 스파이더맨이 저지한다. 그린 고블린은 피터를 막고 있는 토비 맥과이어의 스파이더맨의 등을 찌르지만 다른 스파이더맨의 호흡으로 모든 숙적들을 치료한다.\\n\\n이방인들의 치료는 끝났지만 닥터 스트레인지는 마법 주문을 억누를 수 없는 상황에 처하고 피터는 피터 파커의 존재를 모든 사람들이 잊는다면 더 이상의 불청객이 오지 않게 될 것이라 스트레인지에게 말한다. 스트레인지는 이를 받아들여 모든 사람들에게서 피터 파커라는 존재의 기억을 지우는 마법을 사용한다. 피터는 다른 세계에서 온 스파이더맨들과 두 친구와 작별인사를 나누고 자신의 존재를 다시 말해주겠다고 약속한다. 다른 세계에서 온 사람들도 원래 세계로 돌아간다.\\n\\n그 후, 모두가 피터를 잊게 되었고 피터는 자취를 시작한다. 메이의 무덤에서 그의 기억을 잊은 해피 호건과 대화를 나누고, 네드와 MJ에게 자신에 대해 말하려 하지만 MJ의 이마에 난 상처를 보고 친구들을 위해 진실을 말하기를 포기한다. 피터 파커는 자신만의 새 스파이더맨 슈트를 만들고 스파이더맨으로서 다시 활약한다.'"
            ],
            "application/vnd.google.colaboratory.intrinsic+json": {
              "type": "string"
            }
          },
          "metadata": {},
          "execution_count": 37
        }
      ]
    },
    {
      "cell_type": "code",
      "source": [
        "one_text_tokenized = okt.morphs(one_text)\n",
        "one_text_tokenized[:12]"
      ],
      "metadata": {
        "colab": {
          "base_uri": "https://localhost:8080/"
        },
        "id": "2cbycSKW4JiI",
        "outputId": "d1624734-cd7a-4e7b-b6df-470b8cb57966"
      },
      "execution_count": 38,
      "outputs": [
        {
          "output_type": "execute_result",
          "data": {
            "text/plain": [
              "['《', '스파이더맨', ':', '노', '웨이', '홈', '》', '(', '영어', ':', 'Spider', '-']"
            ]
          },
          "metadata": {},
          "execution_count": 38
        }
      ]
    },
    {
      "cell_type": "code",
      "source": [
        "one_text_tokenized = okt.nouns(one_text)\n",
        "one_text_tokenized[:12]"
      ],
      "metadata": {
        "colab": {
          "base_uri": "https://localhost:8080/"
        },
        "id": "bWcwQgOb4VEe",
        "outputId": "60f06ec0-d5a0-435a-8332-7aacfc41d202"
      },
      "execution_count": 39,
      "outputs": [
        {
          "output_type": "execute_result",
          "data": {
            "text/plain": [
              "['스파이더맨', '노', '웨이', '홈', '영어', '은', '개봉', '미국', '슈퍼히어로', '영화', '영화', '스파이더맨']"
            ]
          },
          "metadata": {},
          "execution_count": 39
        }
      ]
    },
    {
      "cell_type": "code",
      "source": [
        "df_word_count = pd.DataFrame()\n",
        "word_cloud_dict = {}  # key:word, value:word_count\n",
        "\n",
        "word_list = list(set(one_text_tokenized))  # set 사용하면 unique한 단어들만 뽑을 수 있음\n",
        "word_cnt_list = []"
      ],
      "metadata": {
        "id": "KH2x7iID4cOM"
      },
      "execution_count": 40,
      "outputs": []
    },
    {
      "cell_type": "code",
      "source": [
        "from tqdm import tqdm\n",
        "\n",
        "for word in tqdm(word_list) : \n",
        "  word_cnt = one_text_tokenized.count(word)\n",
        "  word_cnt_list.append(word_cnt)\n",
        "  if len(word) == 1 : # 1개의 단어 불용어 처리\n",
        "    continue\n",
        "  word_cloud_dict[word] = word_cnt"
      ],
      "metadata": {
        "colab": {
          "base_uri": "https://localhost:8080/"
        },
        "id": "p_o9xXNe483u",
        "outputId": "501b0204-7aae-4fb0-d4dd-f165aeb8658c"
      },
      "execution_count": 41,
      "outputs": [
        {
          "output_type": "stream",
          "name": "stderr",
          "text": [
            "100%|██████████| 252/252 [00:00<00:00, 45694.72it/s]\n"
          ]
        }
      ]
    },
    {
      "cell_type": "code",
      "source": [
        "df_word_count['word'] = word_list\n",
        "df_word_count['word_cnt'] = word_cnt_list\n",
        "df_word_count = df_word_count.sort_values('word_cnt', ascending=False) \n",
        "df_word_count.head(30)"
      ],
      "metadata": {
        "colab": {
          "base_uri": "https://localhost:8080/",
          "height": 990
        },
        "id": "5knd0ZSb5epa",
        "outputId": "afcfe92d-cdea-4ba6-b78f-4a77be4440bf"
      },
      "execution_count": 42,
      "outputs": [
        {
          "output_type": "execute_result",
          "data": {
            "text/plain": [
              "      word  word_cnt\n",
              "152     피터        34\n",
              "123  스파이더맨        29\n",
              "162  스트레인지        12\n",
              "78      닥터        11\n",
              "94      그린         9\n",
              "45       그         9\n",
              "44       말         9\n",
              "103    고블린         9\n",
              "211      의         8\n",
              "231     자신         8\n",
              "99      파커         6\n",
              "238     네드         6\n",
              "216     사람         6\n",
              "188     메이         6\n",
              "227     다시         5\n",
              "116     옥토         5\n",
              "177     도움         5\n",
              "137     퍼스         5\n",
              "89       온         4\n",
              "21      위해         4\n",
              "23      치료         4\n",
              "8       마법         4\n",
              "69      다른         4\n",
              "64       링         3\n",
              "126   어메이징         3\n",
              "92       홈         3\n",
              "166     존재         3\n",
              "117     정체         3\n",
              "114     장보         3\n",
              "132   일렉트로         3"
            ],
            "text/html": [
              "\n",
              "  <div id=\"df-95c11ded-77dd-4c27-b59e-f7c0231f27e2\">\n",
              "    <div class=\"colab-df-container\">\n",
              "      <div>\n",
              "<style scoped>\n",
              "    .dataframe tbody tr th:only-of-type {\n",
              "        vertical-align: middle;\n",
              "    }\n",
              "\n",
              "    .dataframe tbody tr th {\n",
              "        vertical-align: top;\n",
              "    }\n",
              "\n",
              "    .dataframe thead th {\n",
              "        text-align: right;\n",
              "    }\n",
              "</style>\n",
              "<table border=\"1\" class=\"dataframe\">\n",
              "  <thead>\n",
              "    <tr style=\"text-align: right;\">\n",
              "      <th></th>\n",
              "      <th>word</th>\n",
              "      <th>word_cnt</th>\n",
              "    </tr>\n",
              "  </thead>\n",
              "  <tbody>\n",
              "    <tr>\n",
              "      <th>152</th>\n",
              "      <td>피터</td>\n",
              "      <td>34</td>\n",
              "    </tr>\n",
              "    <tr>\n",
              "      <th>123</th>\n",
              "      <td>스파이더맨</td>\n",
              "      <td>29</td>\n",
              "    </tr>\n",
              "    <tr>\n",
              "      <th>162</th>\n",
              "      <td>스트레인지</td>\n",
              "      <td>12</td>\n",
              "    </tr>\n",
              "    <tr>\n",
              "      <th>78</th>\n",
              "      <td>닥터</td>\n",
              "      <td>11</td>\n",
              "    </tr>\n",
              "    <tr>\n",
              "      <th>94</th>\n",
              "      <td>그린</td>\n",
              "      <td>9</td>\n",
              "    </tr>\n",
              "    <tr>\n",
              "      <th>45</th>\n",
              "      <td>그</td>\n",
              "      <td>9</td>\n",
              "    </tr>\n",
              "    <tr>\n",
              "      <th>44</th>\n",
              "      <td>말</td>\n",
              "      <td>9</td>\n",
              "    </tr>\n",
              "    <tr>\n",
              "      <th>103</th>\n",
              "      <td>고블린</td>\n",
              "      <td>9</td>\n",
              "    </tr>\n",
              "    <tr>\n",
              "      <th>211</th>\n",
              "      <td>의</td>\n",
              "      <td>8</td>\n",
              "    </tr>\n",
              "    <tr>\n",
              "      <th>231</th>\n",
              "      <td>자신</td>\n",
              "      <td>8</td>\n",
              "    </tr>\n",
              "    <tr>\n",
              "      <th>99</th>\n",
              "      <td>파커</td>\n",
              "      <td>6</td>\n",
              "    </tr>\n",
              "    <tr>\n",
              "      <th>238</th>\n",
              "      <td>네드</td>\n",
              "      <td>6</td>\n",
              "    </tr>\n",
              "    <tr>\n",
              "      <th>216</th>\n",
              "      <td>사람</td>\n",
              "      <td>6</td>\n",
              "    </tr>\n",
              "    <tr>\n",
              "      <th>188</th>\n",
              "      <td>메이</td>\n",
              "      <td>6</td>\n",
              "    </tr>\n",
              "    <tr>\n",
              "      <th>227</th>\n",
              "      <td>다시</td>\n",
              "      <td>5</td>\n",
              "    </tr>\n",
              "    <tr>\n",
              "      <th>116</th>\n",
              "      <td>옥토</td>\n",
              "      <td>5</td>\n",
              "    </tr>\n",
              "    <tr>\n",
              "      <th>177</th>\n",
              "      <td>도움</td>\n",
              "      <td>5</td>\n",
              "    </tr>\n",
              "    <tr>\n",
              "      <th>137</th>\n",
              "      <td>퍼스</td>\n",
              "      <td>5</td>\n",
              "    </tr>\n",
              "    <tr>\n",
              "      <th>89</th>\n",
              "      <td>온</td>\n",
              "      <td>4</td>\n",
              "    </tr>\n",
              "    <tr>\n",
              "      <th>21</th>\n",
              "      <td>위해</td>\n",
              "      <td>4</td>\n",
              "    </tr>\n",
              "    <tr>\n",
              "      <th>23</th>\n",
              "      <td>치료</td>\n",
              "      <td>4</td>\n",
              "    </tr>\n",
              "    <tr>\n",
              "      <th>8</th>\n",
              "      <td>마법</td>\n",
              "      <td>4</td>\n",
              "    </tr>\n",
              "    <tr>\n",
              "      <th>69</th>\n",
              "      <td>다른</td>\n",
              "      <td>4</td>\n",
              "    </tr>\n",
              "    <tr>\n",
              "      <th>64</th>\n",
              "      <td>링</td>\n",
              "      <td>3</td>\n",
              "    </tr>\n",
              "    <tr>\n",
              "      <th>126</th>\n",
              "      <td>어메이징</td>\n",
              "      <td>3</td>\n",
              "    </tr>\n",
              "    <tr>\n",
              "      <th>92</th>\n",
              "      <td>홈</td>\n",
              "      <td>3</td>\n",
              "    </tr>\n",
              "    <tr>\n",
              "      <th>166</th>\n",
              "      <td>존재</td>\n",
              "      <td>3</td>\n",
              "    </tr>\n",
              "    <tr>\n",
              "      <th>117</th>\n",
              "      <td>정체</td>\n",
              "      <td>3</td>\n",
              "    </tr>\n",
              "    <tr>\n",
              "      <th>114</th>\n",
              "      <td>장보</td>\n",
              "      <td>3</td>\n",
              "    </tr>\n",
              "    <tr>\n",
              "      <th>132</th>\n",
              "      <td>일렉트로</td>\n",
              "      <td>3</td>\n",
              "    </tr>\n",
              "  </tbody>\n",
              "</table>\n",
              "</div>\n",
              "      <button class=\"colab-df-convert\" onclick=\"convertToInteractive('df-95c11ded-77dd-4c27-b59e-f7c0231f27e2')\"\n",
              "              title=\"Convert this dataframe to an interactive table.\"\n",
              "              style=\"display:none;\">\n",
              "        \n",
              "  <svg xmlns=\"http://www.w3.org/2000/svg\" height=\"24px\"viewBox=\"0 0 24 24\"\n",
              "       width=\"24px\">\n",
              "    <path d=\"M0 0h24v24H0V0z\" fill=\"none\"/>\n",
              "    <path d=\"M18.56 5.44l.94 2.06.94-2.06 2.06-.94-2.06-.94-.94-2.06-.94 2.06-2.06.94zm-11 1L8.5 8.5l.94-2.06 2.06-.94-2.06-.94L8.5 2.5l-.94 2.06-2.06.94zm10 10l.94 2.06.94-2.06 2.06-.94-2.06-.94-.94-2.06-.94 2.06-2.06.94z\"/><path d=\"M17.41 7.96l-1.37-1.37c-.4-.4-.92-.59-1.43-.59-.52 0-1.04.2-1.43.59L10.3 9.45l-7.72 7.72c-.78.78-.78 2.05 0 2.83L4 21.41c.39.39.9.59 1.41.59.51 0 1.02-.2 1.41-.59l7.78-7.78 2.81-2.81c.8-.78.8-2.07 0-2.86zM5.41 20L4 18.59l7.72-7.72 1.47 1.35L5.41 20z\"/>\n",
              "  </svg>\n",
              "      </button>\n",
              "      \n",
              "  <style>\n",
              "    .colab-df-container {\n",
              "      display:flex;\n",
              "      flex-wrap:wrap;\n",
              "      gap: 12px;\n",
              "    }\n",
              "\n",
              "    .colab-df-convert {\n",
              "      background-color: #E8F0FE;\n",
              "      border: none;\n",
              "      border-radius: 50%;\n",
              "      cursor: pointer;\n",
              "      display: none;\n",
              "      fill: #1967D2;\n",
              "      height: 32px;\n",
              "      padding: 0 0 0 0;\n",
              "      width: 32px;\n",
              "    }\n",
              "\n",
              "    .colab-df-convert:hover {\n",
              "      background-color: #E2EBFA;\n",
              "      box-shadow: 0px 1px 2px rgba(60, 64, 67, 0.3), 0px 1px 3px 1px rgba(60, 64, 67, 0.15);\n",
              "      fill: #174EA6;\n",
              "    }\n",
              "\n",
              "    [theme=dark] .colab-df-convert {\n",
              "      background-color: #3B4455;\n",
              "      fill: #D2E3FC;\n",
              "    }\n",
              "\n",
              "    [theme=dark] .colab-df-convert:hover {\n",
              "      background-color: #434B5C;\n",
              "      box-shadow: 0px 1px 3px 1px rgba(0, 0, 0, 0.15);\n",
              "      filter: drop-shadow(0px 1px 2px rgba(0, 0, 0, 0.3));\n",
              "      fill: #FFFFFF;\n",
              "    }\n",
              "  </style>\n",
              "\n",
              "      <script>\n",
              "        const buttonEl =\n",
              "          document.querySelector('#df-95c11ded-77dd-4c27-b59e-f7c0231f27e2 button.colab-df-convert');\n",
              "        buttonEl.style.display =\n",
              "          google.colab.kernel.accessAllowed ? 'block' : 'none';\n",
              "\n",
              "        async function convertToInteractive(key) {\n",
              "          const element = document.querySelector('#df-95c11ded-77dd-4c27-b59e-f7c0231f27e2');\n",
              "          const dataTable =\n",
              "            await google.colab.kernel.invokeFunction('convertToInteractive',\n",
              "                                                     [key], {});\n",
              "          if (!dataTable) return;\n",
              "\n",
              "          const docLinkHtml = 'Like what you see? Visit the ' +\n",
              "            '<a target=\"_blank\" href=https://colab.research.google.com/notebooks/data_table.ipynb>data table notebook</a>'\n",
              "            + ' to learn more about interactive tables.';\n",
              "          element.innerHTML = '';\n",
              "          dataTable['output_type'] = 'display_data';\n",
              "          await google.colab.output.renderOutput(dataTable, element);\n",
              "          const docLink = document.createElement('div');\n",
              "          docLink.innerHTML = docLinkHtml;\n",
              "          element.appendChild(docLink);\n",
              "        }\n",
              "      </script>\n",
              "    </div>\n",
              "  </div>\n",
              "  "
            ]
          },
          "metadata": {},
          "execution_count": 42
        }
      ]
    },
    {
      "cell_type": "code",
      "source": [
        "# 워드클라우드 만들기\n",
        "from wordcloud import WordCloud\n",
        "\n",
        "word_cloud = WordCloud(font_path=font_path, width=1000, height=600)\n",
        "word_cloud.generate_from_frequencies(word_cloud_dict)"
      ],
      "metadata": {
        "id": "v0t9brAN9H5B"
      },
      "execution_count": null,
      "outputs": []
    },
    {
      "cell_type": "code",
      "source": [
        "word_cloud_dict"
      ],
      "metadata": {
        "colab": {
          "base_uri": "https://localhost:8080/"
        },
        "id": "NE62WrWM9hI7",
        "outputId": "cf1027fe-5c7f-4d12-e695-628a9dfbd90c"
      },
      "execution_count": 45,
      "outputs": [
        {
          "output_type": "execute_result",
          "data": {
            "text/plain": [
              "{'고립': 1,\n",
              " '슈트': 1,\n",
              " '누명': 1,\n",
              " '공개': 1,\n",
              " '도로': 1,\n",
              " '우리': 1,\n",
              " '이전': 1,\n",
              " '마법': 4,\n",
              " '증거불충분': 1,\n",
              " '촉구': 1,\n",
              " '인격': 1,\n",
              " '슬링': 3,\n",
              " '토비': 3,\n",
              " '이후': 1,\n",
              " '상자': 1,\n",
              " '조사': 1,\n",
              " '도덕': 1,\n",
              " '감독': 1,\n",
              " '위해': 4,\n",
              " '시리즈': 1,\n",
              " '치료': 4,\n",
              " '거절': 1,\n",
              " '해결': 2,\n",
              " '논란': 1,\n",
              " '의무': 1,\n",
              " '방해': 1,\n",
              " '결과': 1,\n",
              " '앤드류': 1,\n",
              " '살인자': 2,\n",
              " '가득': 1,\n",
              " '차원': 2,\n",
              " '지하': 1,\n",
              " '일리': 2,\n",
              " '혼란': 1,\n",
              " '케나': 1,\n",
              " '도피': 1,\n",
              " '각본': 1,\n",
              " '뷰글': 2,\n",
              " '상황': 1,\n",
              " '시네마': 1,\n",
              " '진실': 1,\n",
              " '평행우주': 2,\n",
              " '기계': 1,\n",
              " '불청객': 1,\n",
              " '연구': 1,\n",
              " '예외': 1,\n",
              " '가필드': 1,\n",
              " '무덤': 1,\n",
              " '오지': 1,\n",
              " '다른': 4,\n",
              " '등장': 1,\n",
              " '계획': 1,\n",
              " '마블': 1,\n",
              " '로부터': 2,\n",
              " '갑자기': 1,\n",
              " '해방': 1,\n",
              " '닥터': 11,\n",
              " '이로': 1,\n",
              " '운명': 1,\n",
              " '호건': 1,\n",
              " '공간': 1,\n",
              " '진행': 1,\n",
              " '좌절': 1,\n",
              " '이상': 2,\n",
              " '오스본': 1,\n",
              " '이방인': 2,\n",
              " '버전': 2,\n",
              " '그린': 9,\n",
              " '기소': 1,\n",
              " '대중': 1,\n",
              " '역시': 1,\n",
              " '파커': 6,\n",
              " '폭로': 1,\n",
              " '비난': 2,\n",
              " '찾기': 1,\n",
              " '고블린': 9,\n",
              " '원래': 2,\n",
              " '머독': 1,\n",
              " '플래시': 1,\n",
              " '노먼': 1,\n",
              " '잠시': 1,\n",
              " '근처': 1,\n",
              " '모두': 3,\n",
              " '때문': 1,\n",
              " '장보': 3,\n",
              " '제압': 1,\n",
              " '옥토': 5,\n",
              " '정체': 3,\n",
              " '생텀': 2,\n",
              " '기회': 1,\n",
              " '대신': 1,\n",
              " '정신': 1,\n",
              " '톰슨': 1,\n",
              " '스파이더맨': 29,\n",
              " '약속': 1,\n",
              " '사건': 1,\n",
              " '어메이징': 3,\n",
              " '썩힌다': 1,\n",
              " '난입': 1,\n",
              " '현장': 1,\n",
              " '자취': 1,\n",
              " '일렉트로': 3,\n",
              " '일어나고': 1,\n",
              " '전편': 2,\n",
              " '여신': 1,\n",
              " '포기': 1,\n",
              " '퍼스': 5,\n",
              " '빌런': 2,\n",
              " '전투': 1,\n",
              " '호흡': 1,\n",
              " '후속작': 1,\n",
              " '엄마': 1,\n",
              " '벌이': 1,\n",
              " '복수심': 1,\n",
              " '경찰': 1,\n",
              " '달라': 1,\n",
              " '미스테리': 2,\n",
              " '멘션': 1,\n",
              " '피터': 34,\n",
              " '과거': 1,\n",
              " '일부': 1,\n",
              " '스윙': 1,\n",
              " '책임': 1,\n",
              " '신체': 1,\n",
              " '기세': 1,\n",
              " '에릭': 1,\n",
              " '이자': 1,\n",
              " '스트레인지': 12,\n",
              " '재능': 1,\n",
              " '참여': 1,\n",
              " '조롱': 1,\n",
              " '존재': 3,\n",
              " '장면': 1,\n",
              " '세계': 3,\n",
              " '공항': 1,\n",
              " '크리스': 1,\n",
              " '해피': 1,\n",
              " '왓츠': 1,\n",
              " '한편': 1,\n",
              " '전작': 1,\n",
              " '소머즈': 1,\n",
              " '대해': 1,\n",
              " '도움': 5,\n",
              " '가지': 1,\n",
              " '제임슨': 1,\n",
              " '보고': 1,\n",
              " '일상': 1,\n",
              " '부총': 3,\n",
              " '지배': 1,\n",
              " '작품': 1,\n",
              " '개봉': 1,\n",
              " '데미지': 1,\n",
              " '메이': 6,\n",
              " '기억': 3,\n",
              " '트릴로지': 1,\n",
              " '부작': 1,\n",
              " '활약': 1,\n",
              " '진학': 1,\n",
              " '공격': 1,\n",
              " '웨이': 1,\n",
              " '입학': 1,\n",
              " '사용': 2,\n",
              " '글라이더': 1,\n",
              " '샌드맨': 3,\n",
              " '유니버스': 1,\n",
              " '컨트롤': 1,\n",
              " '프롬': 2,\n",
              " '영어': 1,\n",
              " '주문': 2,\n",
              " '간다': 1,\n",
              " '저지': 1,\n",
              " '엉망': 1,\n",
              " '주변': 1,\n",
              " '작별인사': 1,\n",
              " '오히려': 1,\n",
              " '리저드': 3,\n",
              " '사람': 6,\n",
              " '모든': 3,\n",
              " '미러': 1,\n",
              " '허가': 1,\n",
              " '인물': 2,\n",
              " '피해': 1,\n",
              " '요청': 1,\n",
              " '대화': 1,\n",
              " '미국': 1,\n",
              " '훤칠': 1,\n",
              " '다시': 5,\n",
              " '관심': 1,\n",
              " '일터': 1,\n",
              " '요원': 1,\n",
              " '자신': 8,\n",
              " '변호사': 1,\n",
              " '자리': 1,\n",
              " '라며': 1,\n",
              " '친구': 3,\n",
              " '네드': 6,\n",
              " '영화': 2,\n",
              " '현실': 1,\n",
              " '시작': 2,\n",
              " '자유': 1,\n",
              " '레이미': 1,\n",
              " '맥과이어': 3,\n",
              " '통해': 1,\n",
              " '슈퍼히어로': 1,\n",
              " '이마': 1,\n",
              " '상처': 1,\n",
              " '숙적': 2}"
            ]
          },
          "metadata": {},
          "execution_count": 45
        }
      ]
    },
    {
      "cell_type": "markdown",
      "source": [
        "### 6. 여러 개의 영화별 빈도 분석과 워드 클라우드 만들기"
      ],
      "metadata": {
        "id": "q9rED5n23qoj"
      }
    },
    {
      "cell_type": "code",
      "source": [
        "df.shape"
      ],
      "metadata": {
        "id": "SLMaZ7DA3xRF",
        "colab": {
          "base_uri": "https://localhost:8080/"
        },
        "outputId": "854f4cd6-d1cc-46b3-9436-5204ff86a457"
      },
      "execution_count": 46,
      "outputs": [
        {
          "output_type": "execute_result",
          "data": {
            "text/plain": [
              "(146, 6)"
            ]
          },
          "metadata": {},
          "execution_count": 46
        }
      ]
    },
    {
      "cell_type": "code",
      "source": [
        "df_87 = df[(df['text'].apply(lambda x: len(x)) > 100)]\n",
        "df_87.reset_index(drop=True, inplace=True)\n",
        "df_87.shape"
      ],
      "metadata": {
        "colab": {
          "base_uri": "https://localhost:8080/"
        },
        "id": "2_uwtS3Phlmk",
        "outputId": "d354b69f-e35e-4609-f707-9336077c9818"
      },
      "execution_count": 48,
      "outputs": [
        {
          "output_type": "execute_result",
          "data": {
            "text/plain": [
              "(87, 6)"
            ]
          },
          "metadata": {},
          "execution_count": 48
        }
      ]
    },
    {
      "cell_type": "code",
      "source": [
        "df_87.head()"
      ],
      "metadata": {
        "colab": {
          "base_uri": "https://localhost:8080/",
          "height": 441
        },
        "id": "MrafLFfgiKYZ",
        "outputId": "fd8f15da-9cd5-4fd1-a59c-f481f06ec339"
      },
      "execution_count": 49,
      "outputs": [
        {
          "output_type": "execute_result",
          "data": {
            "text/plain": [
              "   순위                영화명        개봉일  \\\n",
              "0   1      스파이더맨: 노 웨이 홈 2021-12-15   \n",
              "1   3               이터널스 2021-11-03   \n",
              "2   5    분노의 질주: 더 얼티메이트 2021-05-19   \n",
              "3   7  극장판 귀멸의 칼날: 무한열차편 2021-01-27   \n",
              "4   9                 소울 2021-01-20   \n",
              "\n",
              "                                                  개요  \\\n",
              "0  《스파이더맨: 노 웨이 홈》(영어: Spider-Man: No Way Home)은 ...   \n",
              "1  《이터널스》(영어: The Eternals)는 2021년 공개된 미국의 슈퍼히어로 ...   \n",
              "2  \"분노의 질주: 더 얼티메이트\"(영어: F9)는 2021년 공개된 미국의 액션 영화...   \n",
              "3  《극장판 귀멸의 칼날: 무한열차편》(일본어: 劇場版「鬼滅の刃」無限列車編 영어: De...   \n",
              "4  《소울》(영어: Soul)은 2020년 개봉한 미국의 판타지 애니메이션 영화이다. ...   \n",
              "\n",
              "                                                 줄거리  \\\n",
              "0  전작 《스파이더맨: 파 프롬 홈》에서 미스테리오가 스파이더맨이 살인자라고 누명을 씌...   \n",
              "1  데비안츠라는 괴물들로부터 인류를 지키고 인류를 진화시키기 위해 신과 같은 존재인 셀...   \n",
              "2  도미닉(빈 디젤)은 자신과 가장 가까웠던 형제 제이콥(존 시나)이 사이퍼(샤를리즈 ...   \n",
              "3  혈귀술로 사람들을 잠에 빠뜨리는 오니인 엔무(하현 1)가 무한열차에 나타나 탑승자들...   \n",
              "4  조 가드너는 뉴욕에서 중학교 음악 선생님으로 일한다. 어린 시절 아버지를 따라 피아...   \n",
              "\n",
              "                                                text  \n",
              "0  《스파이더맨: 노 웨이 홈》(영어: Spider-Man: No Way Home)은 ...  \n",
              "1  《이터널스》(영어: The Eternals)는 2021년 공개된 미국의 슈퍼히어로 ...  \n",
              "2  \"분노의 질주: 더 얼티메이트\"(영어: F9)는 2021년 공개된 미국의 액션 영화...  \n",
              "3  《극장판 귀멸의 칼날: 무한열차편》(일본어: 劇場版「鬼滅の刃」無限列車編 영어: De...  \n",
              "4  《소울》(영어: Soul)은 2020년 개봉한 미국의 판타지 애니메이션 영화이다. ...  "
            ],
            "text/html": [
              "\n",
              "  <div id=\"df-b3ee0f51-88c3-4187-b70b-ac752ed222d8\">\n",
              "    <div class=\"colab-df-container\">\n",
              "      <div>\n",
              "<style scoped>\n",
              "    .dataframe tbody tr th:only-of-type {\n",
              "        vertical-align: middle;\n",
              "    }\n",
              "\n",
              "    .dataframe tbody tr th {\n",
              "        vertical-align: top;\n",
              "    }\n",
              "\n",
              "    .dataframe thead th {\n",
              "        text-align: right;\n",
              "    }\n",
              "</style>\n",
              "<table border=\"1\" class=\"dataframe\">\n",
              "  <thead>\n",
              "    <tr style=\"text-align: right;\">\n",
              "      <th></th>\n",
              "      <th>순위</th>\n",
              "      <th>영화명</th>\n",
              "      <th>개봉일</th>\n",
              "      <th>개요</th>\n",
              "      <th>줄거리</th>\n",
              "      <th>text</th>\n",
              "    </tr>\n",
              "  </thead>\n",
              "  <tbody>\n",
              "    <tr>\n",
              "      <th>0</th>\n",
              "      <td>1</td>\n",
              "      <td>스파이더맨: 노 웨이 홈</td>\n",
              "      <td>2021-12-15</td>\n",
              "      <td>《스파이더맨: 노 웨이 홈》(영어: Spider-Man: No Way Home)은 ...</td>\n",
              "      <td>전작 《스파이더맨: 파 프롬 홈》에서 미스테리오가 스파이더맨이 살인자라고 누명을 씌...</td>\n",
              "      <td>《스파이더맨: 노 웨이 홈》(영어: Spider-Man: No Way Home)은 ...</td>\n",
              "    </tr>\n",
              "    <tr>\n",
              "      <th>1</th>\n",
              "      <td>3</td>\n",
              "      <td>이터널스</td>\n",
              "      <td>2021-11-03</td>\n",
              "      <td>《이터널스》(영어: The Eternals)는 2021년 공개된 미국의 슈퍼히어로 ...</td>\n",
              "      <td>데비안츠라는 괴물들로부터 인류를 지키고 인류를 진화시키기 위해 신과 같은 존재인 셀...</td>\n",
              "      <td>《이터널스》(영어: The Eternals)는 2021년 공개된 미국의 슈퍼히어로 ...</td>\n",
              "    </tr>\n",
              "    <tr>\n",
              "      <th>2</th>\n",
              "      <td>5</td>\n",
              "      <td>분노의 질주: 더 얼티메이트</td>\n",
              "      <td>2021-05-19</td>\n",
              "      <td>\"분노의 질주: 더 얼티메이트\"(영어: F9)는 2021년 공개된 미국의 액션 영화...</td>\n",
              "      <td>도미닉(빈 디젤)은 자신과 가장 가까웠던 형제 제이콥(존 시나)이 사이퍼(샤를리즈 ...</td>\n",
              "      <td>\"분노의 질주: 더 얼티메이트\"(영어: F9)는 2021년 공개된 미국의 액션 영화...</td>\n",
              "    </tr>\n",
              "    <tr>\n",
              "      <th>3</th>\n",
              "      <td>7</td>\n",
              "      <td>극장판 귀멸의 칼날: 무한열차편</td>\n",
              "      <td>2021-01-27</td>\n",
              "      <td>《극장판 귀멸의 칼날: 무한열차편》(일본어: 劇場版「鬼滅の刃」無限列車編 영어: De...</td>\n",
              "      <td>혈귀술로 사람들을 잠에 빠뜨리는 오니인 엔무(하현 1)가 무한열차에 나타나 탑승자들...</td>\n",
              "      <td>《극장판 귀멸의 칼날: 무한열차편》(일본어: 劇場版「鬼滅の刃」無限列車編 영어: De...</td>\n",
              "    </tr>\n",
              "    <tr>\n",
              "      <th>4</th>\n",
              "      <td>9</td>\n",
              "      <td>소울</td>\n",
              "      <td>2021-01-20</td>\n",
              "      <td>《소울》(영어: Soul)은 2020년 개봉한 미국의 판타지 애니메이션 영화이다. ...</td>\n",
              "      <td>조 가드너는 뉴욕에서 중학교 음악 선생님으로 일한다. 어린 시절 아버지를 따라 피아...</td>\n",
              "      <td>《소울》(영어: Soul)은 2020년 개봉한 미국의 판타지 애니메이션 영화이다. ...</td>\n",
              "    </tr>\n",
              "  </tbody>\n",
              "</table>\n",
              "</div>\n",
              "      <button class=\"colab-df-convert\" onclick=\"convertToInteractive('df-b3ee0f51-88c3-4187-b70b-ac752ed222d8')\"\n",
              "              title=\"Convert this dataframe to an interactive table.\"\n",
              "              style=\"display:none;\">\n",
              "        \n",
              "  <svg xmlns=\"http://www.w3.org/2000/svg\" height=\"24px\"viewBox=\"0 0 24 24\"\n",
              "       width=\"24px\">\n",
              "    <path d=\"M0 0h24v24H0V0z\" fill=\"none\"/>\n",
              "    <path d=\"M18.56 5.44l.94 2.06.94-2.06 2.06-.94-2.06-.94-.94-2.06-.94 2.06-2.06.94zm-11 1L8.5 8.5l.94-2.06 2.06-.94-2.06-.94L8.5 2.5l-.94 2.06-2.06.94zm10 10l.94 2.06.94-2.06 2.06-.94-2.06-.94-.94-2.06-.94 2.06-2.06.94z\"/><path d=\"M17.41 7.96l-1.37-1.37c-.4-.4-.92-.59-1.43-.59-.52 0-1.04.2-1.43.59L10.3 9.45l-7.72 7.72c-.78.78-.78 2.05 0 2.83L4 21.41c.39.39.9.59 1.41.59.51 0 1.02-.2 1.41-.59l7.78-7.78 2.81-2.81c.8-.78.8-2.07 0-2.86zM5.41 20L4 18.59l7.72-7.72 1.47 1.35L5.41 20z\"/>\n",
              "  </svg>\n",
              "      </button>\n",
              "      \n",
              "  <style>\n",
              "    .colab-df-container {\n",
              "      display:flex;\n",
              "      flex-wrap:wrap;\n",
              "      gap: 12px;\n",
              "    }\n",
              "\n",
              "    .colab-df-convert {\n",
              "      background-color: #E8F0FE;\n",
              "      border: none;\n",
              "      border-radius: 50%;\n",
              "      cursor: pointer;\n",
              "      display: none;\n",
              "      fill: #1967D2;\n",
              "      height: 32px;\n",
              "      padding: 0 0 0 0;\n",
              "      width: 32px;\n",
              "    }\n",
              "\n",
              "    .colab-df-convert:hover {\n",
              "      background-color: #E2EBFA;\n",
              "      box-shadow: 0px 1px 2px rgba(60, 64, 67, 0.3), 0px 1px 3px 1px rgba(60, 64, 67, 0.15);\n",
              "      fill: #174EA6;\n",
              "    }\n",
              "\n",
              "    [theme=dark] .colab-df-convert {\n",
              "      background-color: #3B4455;\n",
              "      fill: #D2E3FC;\n",
              "    }\n",
              "\n",
              "    [theme=dark] .colab-df-convert:hover {\n",
              "      background-color: #434B5C;\n",
              "      box-shadow: 0px 1px 3px 1px rgba(0, 0, 0, 0.15);\n",
              "      filter: drop-shadow(0px 1px 2px rgba(0, 0, 0, 0.3));\n",
              "      fill: #FFFFFF;\n",
              "    }\n",
              "  </style>\n",
              "\n",
              "      <script>\n",
              "        const buttonEl =\n",
              "          document.querySelector('#df-b3ee0f51-88c3-4187-b70b-ac752ed222d8 button.colab-df-convert');\n",
              "        buttonEl.style.display =\n",
              "          google.colab.kernel.accessAllowed ? 'block' : 'none';\n",
              "\n",
              "        async function convertToInteractive(key) {\n",
              "          const element = document.querySelector('#df-b3ee0f51-88c3-4187-b70b-ac752ed222d8');\n",
              "          const dataTable =\n",
              "            await google.colab.kernel.invokeFunction('convertToInteractive',\n",
              "                                                     [key], {});\n",
              "          if (!dataTable) return;\n",
              "\n",
              "          const docLinkHtml = 'Like what you see? Visit the ' +\n",
              "            '<a target=\"_blank\" href=https://colab.research.google.com/notebooks/data_table.ipynb>data table notebook</a>'\n",
              "            + ' to learn more about interactive tables.';\n",
              "          element.innerHTML = '';\n",
              "          dataTable['output_type'] = 'display_data';\n",
              "          await google.colab.output.renderOutput(dataTable, element);\n",
              "          const docLink = document.createElement('div');\n",
              "          docLink.innerHTML = docLinkHtml;\n",
              "          element.appendChild(docLink);\n",
              "        }\n",
              "      </script>\n",
              "    </div>\n",
              "  </div>\n",
              "  "
            ]
          },
          "metadata": {},
          "execution_count": 49
        }
      ]
    },
    {
      "cell_type": "code",
      "source": [
        "tokens_list = [] \n",
        "for i in range(len(df_87)) : \n",
        "  tokens = okt.nouns(df_87['text'][i])\n",
        "  tokens_list.append(tokens)\n",
        "len(tokens_list)"
      ],
      "metadata": {
        "colab": {
          "base_uri": "https://localhost:8080/"
        },
        "id": "UayS661iiNr5",
        "outputId": "9e416541-9103-4d42-c792-1e3d6796a947"
      },
      "execution_count": 50,
      "outputs": [
        {
          "output_type": "execute_result",
          "data": {
            "text/plain": [
              "87"
            ]
          },
          "metadata": {},
          "execution_count": 50
        }
      ]
    },
    {
      "cell_type": "code",
      "source": [
        "tokens_list[0]"
      ],
      "metadata": {
        "colab": {
          "base_uri": "https://localhost:8080/"
        },
        "id": "x81XD86Ei63c",
        "outputId": "33507622-9473-413a-e0d5-54de908f909d"
      },
      "execution_count": 51,
      "outputs": [
        {
          "output_type": "execute_result",
          "data": {
            "text/plain": [
              "['스파이더맨',\n",
              " '노',\n",
              " '웨이',\n",
              " '홈',\n",
              " '영어',\n",
              " '은',\n",
              " '개봉',\n",
              " '미국',\n",
              " '슈퍼히어로',\n",
              " '영화',\n",
              " '영화',\n",
              " '스파이더맨',\n",
              " '파',\n",
              " '프롬',\n",
              " '홈',\n",
              " '의',\n",
              " '후속작',\n",
              " '이자',\n",
              " '마블',\n",
              " '시네마',\n",
              " '유니버스',\n",
              " '의',\n",
              " '작품',\n",
              " '감독',\n",
              " '전편',\n",
              " '존',\n",
              " '왓츠',\n",
              " '각본',\n",
              " '역시',\n",
              " '전편',\n",
              " '참여',\n",
              " '크리스',\n",
              " '케나',\n",
              " '에릭',\n",
              " '소머즈',\n",
              " '전작',\n",
              " '스파이더맨',\n",
              " '파',\n",
              " '프롬',\n",
              " '홈',\n",
              " '미스테리',\n",
              " '스파이더맨',\n",
              " '살인자',\n",
              " '누명',\n",
              " '정체',\n",
              " '공개',\n",
              " '장면',\n",
              " '시작',\n",
              " '주변',\n",
              " '사람',\n",
              " '로부터',\n",
              " '관심',\n",
              " '피터',\n",
              " '파커',\n",
              " '웹',\n",
              " '스윙',\n",
              " '현장',\n",
              " '집',\n",
              " '가지',\n",
              " '집',\n",
              " '근처',\n",
              " '사람',\n",
              " '이후',\n",
              " '피터',\n",
              " '네드',\n",
              " '엄마',\n",
              " '메이',\n",
              " '경찰',\n",
              " '조사',\n",
              " '변호사',\n",
              " '맷',\n",
              " '머독',\n",
              " '증거불충분',\n",
              " '기소',\n",
              " '말',\n",
              " '대중',\n",
              " '스파이더맨',\n",
              " '살인자',\n",
              " '라며',\n",
              " '비난',\n",
              " '미스테리',\n",
              " '오',\n",
              " '때문',\n",
              " '자신',\n",
              " '일상',\n",
              " '엉망',\n",
              " '피터',\n",
              " '자신',\n",
              " '네드',\n",
              " '논란',\n",
              " '진학',\n",
              " '좌절',\n",
              " '피터',\n",
              " '닥터',\n",
              " '스트레인지',\n",
              " '과거',\n",
              " '달라',\n",
              " '그',\n",
              " '거절',\n",
              " '대신',\n",
              " '다른',\n",
              " '사람',\n",
              " '피터',\n",
              " '파커',\n",
              " '스파이더맨',\n",
              " '기억',\n",
              " '피터',\n",
              " '폭로',\n",
              " '이전',\n",
              " '자신',\n",
              " '정체',\n",
              " '이',\n",
              " '예외',\n",
              " '주문',\n",
              " '방해',\n",
              " '스트레인지',\n",
              " '마법',\n",
              " '이로',\n",
              " '오히려',\n",
              " '스파이더맨',\n",
              " '정체',\n",
              " '평행우주',\n",
              " '인물',\n",
              " '피터',\n",
              " '플래시',\n",
              " '톰슨',\n",
              " '도움',\n",
              " '번',\n",
              " '더',\n",
              " '기회',\n",
              " '요청',\n",
              " '위해',\n",
              " '공항',\n",
              " '부총',\n",
              " '장보',\n",
              " '부총',\n",
              " '장보',\n",
              " '갑자기',\n",
              " '도로',\n",
              " '스파이더맨',\n",
              " '트릴로지',\n",
              " '의',\n",
              " '닥터',\n",
              " '옥토',\n",
              " '퍼스',\n",
              " '피터',\n",
              " '닥터',\n",
              " '옥토',\n",
              " '퍼스',\n",
              " '제압',\n",
              " '부총',\n",
              " '장보',\n",
              " '입학',\n",
              " '허가',\n",
              " '작',\n",
              " '스파이더맨',\n",
              " '그린',\n",
              " '고블린',\n",
              " '그',\n",
              " '때',\n",
              " '닥터',\n",
              " '스트레인지',\n",
              " '도움',\n",
              " '생텀',\n",
              " '온',\n",
              " '피터',\n",
              " '닥터',\n",
              " '옥토',\n",
              " '퍼스',\n",
              " '어메이징',\n",
              " '스파이더맨',\n",
              " '리저드',\n",
              " '스트레인지',\n",
              " '평행우주',\n",
              " '인물',\n",
              " '일부',\n",
              " '우리',\n",
              " '차원',\n",
              " '말',\n",
              " '피터',\n",
              " '사건',\n",
              " '해결',\n",
              " '촉구',\n",
              " '네드',\n",
              " '의',\n",
              " '도움',\n",
              " '스파이더맨',\n",
              " '의',\n",
              " '샌드맨',\n",
              " '어메이징',\n",
              " '스파이더맨',\n",
              " '의',\n",
              " '일렉트로',\n",
              " '둘',\n",
              " '모두',\n",
              " '그린',\n",
              " '고블린',\n",
              " '인격',\n",
              " '잠시',\n",
              " '노먼',\n",
              " '오스본',\n",
              " '메이',\n",
              " '일터',\n",
              " '피터',\n",
              " '생텀',\n",
              " '지하',\n",
              " '간다',\n",
              " '닥터',\n",
              " '스트레인지',\n",
              " '그',\n",
              " '죽',\n",
              " '운명',\n",
              " '스파이더맨',\n",
              " '숙적',\n",
              " '위해',\n",
              " '피터',\n",
              " '스트레인지',\n",
              " '마법',\n",
              " '상자',\n",
              " '스트레인지',\n",
              " '미러',\n",
              " '디',\n",
              " '멘션',\n",
              " '고립',\n",
              " '피터',\n",
              " '빌런',\n",
              " '그',\n",
              " '신체',\n",
              " '정신',\n",
              " '이상',\n",
              " '해결',\n",
              " '위',\n",
              " '연구',\n",
              " '진행',\n",
              " '닥터',\n",
              " '옥토',\n",
              " '퍼스',\n",
              " '기계',\n",
              " '팔',\n",
              " '지배',\n",
              " '로부터',\n",
              " '해방',\n",
              " '그린',\n",
              " '고블린',\n",
              " '일렉트로',\n",
              " '리저드',\n",
              " '샌드맨',\n",
              " '스파이더맨',\n",
              " '공격',\n",
              " '그',\n",
              " '결과',\n",
              " '그린',\n",
              " '고블린',\n",
              " '메이',\n",
              " '그린',\n",
              " '고블린',\n",
              " '피터',\n",
              " '메이',\n",
              " '말',\n",
              " '도덕',\n",
              " '의무',\n",
              " '자신',\n",
              " '재능',\n",
              " '썩힌다',\n",
              " '조롱',\n",
              " '피터',\n",
              " '메이',\n",
              " '전',\n",
              " '피터',\n",
              " '힘',\n",
              " '책임',\n",
              " '말',\n",
              " '숨',\n",
              " '데',\n",
              " '일리',\n",
              " '뷰글',\n",
              " '조',\n",
              " '제임슨',\n",
              " '스파이더맨',\n",
              " '자리',\n",
              " '혼란',\n",
              " '비난',\n",
              " '피터',\n",
              " '자신',\n",
              " '온',\n",
              " '데미지',\n",
              " '컨트롤',\n",
              " '요원',\n",
              " '피해',\n",
              " '한편',\n",
              " '네',\n",
              " '피터',\n",
              " '준',\n",
              " '닥터',\n",
              " '스트레인지',\n",
              " '슬링',\n",
              " '링',\n",
              " '피터',\n",
              " '키',\n",
              " '훤칠',\n",
              " '피터',\n",
              " '파커',\n",
              " '그',\n",
              " '피터',\n",
              " '어메이징',\n",
              " '스파이더맨',\n",
              " '시리즈',\n",
              " '앤드류',\n",
              " '가필드',\n",
              " '버전',\n",
              " '스파이더맨',\n",
              " '다시',\n",
              " '피터',\n",
              " '찾기',\n",
              " '위해',\n",
              " '슬링',\n",
              " '링',\n",
              " '사용',\n",
              " '샘',\n",
              " '레이미',\n",
              " '스파이더맨',\n",
              " '부작',\n",
              " '토비',\n",
              " '맥과이어',\n",
              " '버전',\n",
              " '스파이더맨',\n",
              " '등장',\n",
              " '두',\n",
              " '스파이더맨',\n",
              " '네드',\n",
              " '의',\n",
              " '말',\n",
              " '피터',\n",
              " '때',\n",
              " '도피',\n",
              " '처',\n",
              " '공간',\n",
              " '피터',\n",
              " '친구',\n",
              " '두',\n",
              " '스파이더맨',\n",
              " '도움',\n",
              " '피터',\n",
              " '다시',\n",
              " '일어나고',\n",
              " '세',\n",
              " '스파이더맨',\n",
              " '데',\n",
              " '일리',\n",
              " '뷰글',\n",
              " '통해',\n",
              " '빌런',\n",
              " '자유',\n",
              " '여신',\n",
              " '치료',\n",
              " '계획',\n",
              " '세',\n",
              " '스파이더맨',\n",
              " '샌드맨',\n",
              " '일렉트로',\n",
              " '리저드',\n",
              " '전투',\n",
              " '벌이',\n",
              " '난입',\n",
              " '닥터',\n",
              " '옥토',\n",
              " '퍼스',\n",
              " '도움',\n",
              " '셋',\n",
              " '모두',\n",
              " '치료',\n",
              " '네드',\n",
              " '슬링',\n",
              " '링',\n",
              " '다시',\n",
              " '현실',\n",
              " '닥터',\n",
              " '스트레인지',\n",
              " '이방인',\n",
              " '원래',\n",
              " '차원',\n",
              " '그린',\n",
              " '고블린',\n",
              " '복수심',\n",
              " '가득',\n",
              " '찬',\n",
              " '피터',\n",
              " '그린',\n",
              " '고블린',\n",
              " '기세',\n",
              " '그린',\n",
              " '고블린',\n",
              " '글라이더',\n",
              " '그',\n",
              " '토비',\n",
              " '맥과이어',\n",
              " '스파이더맨',\n",
              " '저지',\n",
              " '그린',\n",
              " '고블린',\n",
              " '피터',\n",
              " '토비',\n",
              " '맥과이어',\n",
              " '스파이더맨',\n",
              " '등',\n",
              " '다른',\n",
              " '스파이더맨',\n",
              " '호흡',\n",
              " '모든',\n",
              " '숙적',\n",
              " '치료',\n",
              " '이방인',\n",
              " '치료',\n",
              " '닥터',\n",
              " '스트레인지',\n",
              " '마법',\n",
              " '주문',\n",
              " '누',\n",
              " '수',\n",
              " '상황',\n",
              " '처',\n",
              " '피터',\n",
              " '피터',\n",
              " '파커',\n",
              " '존재',\n",
              " '모든',\n",
              " '사람',\n",
              " '더',\n",
              " '이상',\n",
              " '불청객',\n",
              " '오지',\n",
              " '것',\n",
              " '스트레인지',\n",
              " '말',\n",
              " '스트레인지',\n",
              " '모든',\n",
              " '사람',\n",
              " '피터',\n",
              " '파커',\n",
              " '존재',\n",
              " '기억',\n",
              " '마법',\n",
              " '사용',\n",
              " '피터',\n",
              " '다른',\n",
              " '세계',\n",
              " '온',\n",
              " '스파이더맨',\n",
              " '두',\n",
              " '친구',\n",
              " '작별인사',\n",
              " '자신',\n",
              " '존재',\n",
              " '다시',\n",
              " '말',\n",
              " '약속',\n",
              " '다른',\n",
              " '세계',\n",
              " '온',\n",
              " '사람',\n",
              " '원래',\n",
              " '세계',\n",
              " '그',\n",
              " '후',\n",
              " '모두',\n",
              " '피터',\n",
              " '피터',\n",
              " '자취',\n",
              " '시작',\n",
              " '메이',\n",
              " '무덤',\n",
              " '그',\n",
              " '기억',\n",
              " '해피',\n",
              " '호건',\n",
              " '대화',\n",
              " '네드',\n",
              " '자신',\n",
              " '대해',\n",
              " '말',\n",
              " '의',\n",
              " '이마',\n",
              " '난',\n",
              " '상처',\n",
              " '보고',\n",
              " '친구',\n",
              " '위해',\n",
              " '진실',\n",
              " '말',\n",
              " '포기',\n",
              " '피터',\n",
              " '파커',\n",
              " '자신',\n",
              " '새',\n",
              " '스파이더맨',\n",
              " '슈트',\n",
              " '스파이더맨',\n",
              " '다시',\n",
              " '활약']"
            ]
          },
          "metadata": {},
          "execution_count": 51
        }
      ]
    },
    {
      "cell_type": "code",
      "source": [
        "def get_word_count(tokens) : \n",
        "  df_word_count = pd.DataFrame()\n",
        "  word_list = list(set(tokens))\n",
        "\n",
        "  word_cnt_list = []\n",
        "  word_cloud_dict = {}\n",
        "  for word in word_list : \n",
        "    word_cnt = tokens.count(word)\n",
        "    word_cnt_list.append(word_cnt)\n",
        "    if (len(word) == 1) | (word in ['영화','개봉']) : \n",
        "      continue\n",
        "    word_cloud_dict[word] = word_cnt\n",
        "\n",
        "  df_word_count['word'] = word_list\n",
        "  df_word_count['word_cnt'] = word_cnt_list\n",
        "  df_word_count = df_word_count.sort_values('word_cnt', ascending=False)\n",
        "\n",
        "  return word_cloud_dict, df_word_count"
      ],
      "metadata": {
        "id": "hlzFb4Z5jM-C"
      },
      "execution_count": 59,
      "outputs": []
    },
    {
      "cell_type": "code",
      "source": [
        "def save_word_cloud(word_cloud_dict, save_path) : \n",
        "  word_cloud = WordCloud(font_path=font_path, width=1000, height=600)\n",
        "  word_cloud.generate_from_frequencies(word_cloud_dict)\n",
        "  word_cloud.to_file(save_path)"
      ],
      "metadata": {
        "id": "LsTzFj3pkN20"
      },
      "execution_count": 60,
      "outputs": []
    },
    {
      "cell_type": "code",
      "source": [
        "for i, tokens in enumerate(tqdm(tokens_list)) : \n",
        "  word_cloud_dict, df_word_count = get_word_count(tokens)\n",
        "  movie_name = str(df_87['영화명'][i]).replace(':', ' ').replace('.', '')\n",
        "  df_word_count.to_csv(ROOT_PATH + movie_name + '.csv')\n",
        "  save_path = ROOT_PATH + movie_name + '.png'\n",
        "  # save_word_cloud(word_cloud_dict, save_path)"
      ],
      "metadata": {
        "colab": {
          "base_uri": "https://localhost:8080/"
        },
        "id": "eDfc-xgxkubq",
        "outputId": "8625039d-5e05-4e1c-c75d-b8127742459f"
      },
      "execution_count": 65,
      "outputs": [
        {
          "output_type": "stream",
          "name": "stderr",
          "text": [
            "100%|██████████| 87/87 [00:02<00:00, 43.02it/s]\n"
          ]
        }
      ]
    },
    {
      "cell_type": "code",
      "source": [
        "ROOT_PATH"
      ],
      "metadata": {
        "id": "bX1mAh8Ol-zy"
      },
      "execution_count": null,
      "outputs": []
    }
  ]
}