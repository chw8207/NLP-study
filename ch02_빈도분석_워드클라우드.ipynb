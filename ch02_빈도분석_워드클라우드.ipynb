{
  "nbformat": 4,
  "nbformat_minor": 0,
  "metadata": {
    "colab": {
      "provenance": [],
      "mount_file_id": "1mn9pD0iArvYYgvI_0yzs34XPbkpqlcvH",
      "authorship_tag": "ABX9TyNBdyHGR0qnIpE7pGYdDVHu",
      "include_colab_link": true
    },
    "kernelspec": {
      "name": "python3",
      "display_name": "Python 3"
    },
    "language_info": {
      "name": "python"
    }
  },
  "cells": [
    {
      "cell_type": "markdown",
      "metadata": {
        "id": "view-in-github",
        "colab_type": "text"
      },
      "source": [
        "<a href=\"https://colab.research.google.com/github/chw8207/NLP-study/blob/main/ch02_%EB%B9%88%EB%8F%84%EB%B6%84%EC%84%9D_%EC%9B%8C%EB%93%9C%ED%81%B4%EB%9D%BC%EC%9A%B0%EB%93%9C.ipynb\" target=\"_parent\"><img src=\"https://colab.research.google.com/assets/colab-badge.svg\" alt=\"Open In Colab\"/></a>"
      ]
    },
    {
      "cell_type": "markdown",
      "source": [
        "### 1. 필요한 라이브러리 다운로드"
      ],
      "metadata": {
        "id": "VRopkI2akSSR"
      }
    },
    {
      "cell_type": "code",
      "execution_count": 1,
      "metadata": {
        "id": "xiEBGlSIkLJE",
        "colab": {
          "base_uri": "https://localhost:8080/"
        },
        "outputId": "1c3d9e54-954a-431f-e8a7-cfee62ae67c1"
      },
      "outputs": [
        {
          "output_type": "stream",
          "name": "stdout",
          "text": [
            "Looking in indexes: https://pypi.org/simple, https://us-python.pkg.dev/colab-wheels/public/simple/\n",
            "Collecting konlpy\n",
            "  Downloading konlpy-0.6.0-py2.py3-none-any.whl (19.4 MB)\n",
            "\u001b[2K     \u001b[90m━━━━━━━━━━━━━━━━━━━━━━━━━━━━━━━━━━━━━━━━\u001b[0m \u001b[32m19.4/19.4 MB\u001b[0m \u001b[31m38.6 MB/s\u001b[0m eta \u001b[36m0:00:00\u001b[0m\n",
            "\u001b[?25hCollecting JPype1>=0.7.0\n",
            "  Downloading JPype1-1.4.1-cp39-cp39-manylinux_2_12_x86_64.manylinux2010_x86_64.whl (465 kB)\n",
            "\u001b[2K     \u001b[90m━━━━━━━━━━━━━━━━━━━━━━━━━━━━━━━━━━━━━━\u001b[0m \u001b[32m465.3/465.3 KB\u001b[0m \u001b[31m39.3 MB/s\u001b[0m eta \u001b[36m0:00:00\u001b[0m\n",
            "\u001b[?25hRequirement already satisfied: lxml>=4.1.0 in /usr/local/lib/python3.9/dist-packages (from konlpy) (4.9.2)\n",
            "Requirement already satisfied: numpy>=1.6 in /usr/local/lib/python3.9/dist-packages (from konlpy) (1.22.4)\n",
            "Requirement already satisfied: packaging in /usr/local/lib/python3.9/dist-packages (from JPype1>=0.7.0->konlpy) (23.0)\n",
            "Installing collected packages: JPype1, konlpy\n",
            "Successfully installed JPype1-1.4.1 konlpy-0.6.0\n"
          ]
        }
      ],
      "source": [
        "!pip install konlpy"
      ]
    },
    {
      "cell_type": "code",
      "source": [
        "!pip install wordcloud"
      ],
      "metadata": {
        "colab": {
          "base_uri": "https://localhost:8080/"
        },
        "id": "5oYY2K-js4Zz",
        "outputId": "c41e7d53-8fb0-48cc-92bc-c45b5577a131"
      },
      "execution_count": 2,
      "outputs": [
        {
          "output_type": "stream",
          "name": "stdout",
          "text": [
            "Looking in indexes: https://pypi.org/simple, https://us-python.pkg.dev/colab-wheels/public/simple/\n",
            "Requirement already satisfied: wordcloud in /usr/local/lib/python3.9/dist-packages (1.8.2.2)\n",
            "Requirement already satisfied: numpy>=1.6.1 in /usr/local/lib/python3.9/dist-packages (from wordcloud) (1.22.4)\n",
            "Requirement already satisfied: matplotlib in /usr/local/lib/python3.9/dist-packages (from wordcloud) (3.7.1)\n",
            "Requirement already satisfied: pillow in /usr/local/lib/python3.9/dist-packages (from wordcloud) (8.4.0)\n",
            "Requirement already satisfied: packaging>=20.0 in /usr/local/lib/python3.9/dist-packages (from matplotlib->wordcloud) (23.0)\n",
            "Requirement already satisfied: importlib-resources>=3.2.0 in /usr/local/lib/python3.9/dist-packages (from matplotlib->wordcloud) (5.12.0)\n",
            "Requirement already satisfied: contourpy>=1.0.1 in /usr/local/lib/python3.9/dist-packages (from matplotlib->wordcloud) (1.0.7)\n",
            "Requirement already satisfied: kiwisolver>=1.0.1 in /usr/local/lib/python3.9/dist-packages (from matplotlib->wordcloud) (1.4.4)\n",
            "Requirement already satisfied: fonttools>=4.22.0 in /usr/local/lib/python3.9/dist-packages (from matplotlib->wordcloud) (4.39.3)\n",
            "Requirement already satisfied: pyparsing>=2.3.1 in /usr/local/lib/python3.9/dist-packages (from matplotlib->wordcloud) (3.0.9)\n",
            "Requirement already satisfied: python-dateutil>=2.7 in /usr/local/lib/python3.9/dist-packages (from matplotlib->wordcloud) (2.8.2)\n",
            "Requirement already satisfied: cycler>=0.10 in /usr/local/lib/python3.9/dist-packages (from matplotlib->wordcloud) (0.11.0)\n",
            "Requirement already satisfied: zipp>=3.1.0 in /usr/local/lib/python3.9/dist-packages (from importlib-resources>=3.2.0->matplotlib->wordcloud) (3.15.0)\n",
            "Requirement already satisfied: six>=1.5 in /usr/local/lib/python3.9/dist-packages (from python-dateutil>=2.7->matplotlib->wordcloud) (1.16.0)\n"
          ]
        }
      ]
    },
    {
      "cell_type": "markdown",
      "source": [
        "### 2. matplotlib에 한글 폰트 사용 설정"
      ],
      "metadata": {
        "id": "jy5MVGYOs8AP"
      }
    },
    {
      "cell_type": "code",
      "source": [
        "!apt -qq -y install fonts-nanum"
      ],
      "metadata": {
        "colab": {
          "base_uri": "https://localhost:8080/"
        },
        "id": "xJsYGm1ms7DZ",
        "outputId": "964536d5-b0b9-48a2-8748-59206a5b26c0"
      },
      "execution_count": 3,
      "outputs": [
        {
          "output_type": "stream",
          "name": "stdout",
          "text": [
            "The following package was automatically installed and is no longer required:\n",
            "  libnvidia-common-525\n",
            "Use 'apt autoremove' to remove it.\n",
            "The following NEW packages will be installed:\n",
            "  fonts-nanum\n",
            "0 upgraded, 1 newly installed, 0 to remove and 23 not upgraded.\n",
            "Need to get 9,599 kB of archives.\n",
            "After this operation, 29.6 MB of additional disk space will be used.\n",
            "Selecting previously unselected package fonts-nanum.\n",
            "(Reading database ... 128293 files and directories currently installed.)\n",
            "Preparing to unpack .../fonts-nanum_20180306-3_all.deb ...\n",
            "Unpacking fonts-nanum (20180306-3) ...\n",
            "Setting up fonts-nanum (20180306-3) ...\n",
            "Processing triggers for fontconfig (2.13.1-2ubuntu3) ...\n"
          ]
        }
      ]
    },
    {
      "cell_type": "code",
      "source": [
        "import matplotlib.font_manager as fm\n",
        "from pathlib import Path\n",
        "from matplotlib import rc\n",
        "\n",
        "font_path = Path('/usr/share/fonts/truetype/nanum/NanumGothic.ttf') \n",
        "fontprop = fm.FontProperties(fname=font_path)\n",
        "rc('font', family=fontprop.get_name(), size=16)\n",
        "# fm._rebuild()"
      ],
      "metadata": {
        "id": "N-UqXUOWtAOV"
      },
      "execution_count": 4,
      "outputs": []
    },
    {
      "cell_type": "markdown",
      "source": [
        "### 3. pandas를 활용하여 엑셀파일 데이터 읽기기"
      ],
      "metadata": {
        "id": "SMj5rdWS0wQY"
      }
    },
    {
      "cell_type": "code",
      "source": [
        "from glob import glob\n",
        "glob('/content/drive/MyDrive/Colab Notebooks/자연어처리공부/NLP-study/NLP-study/data/*')"
      ],
      "metadata": {
        "colab": {
          "base_uri": "https://localhost:8080/"
        },
        "id": "47awkPOr0zfG",
        "outputId": "a3d7a964-3295-441b-91ab-1dd4ebd1857d"
      },
      "execution_count": 5,
      "outputs": [
        {
          "output_type": "execute_result",
          "data": {
            "text/plain": [
              "['/content/drive/MyDrive/Colab Notebooks/자연어처리공부/NLP-study/NLP-study/data/spam.csv',\n",
              " '/content/drive/MyDrive/Colab Notebooks/자연어처리공부/NLP-study/NLP-study/data/영화_위키피디아_최근5년.xlsx']"
            ]
          },
          "metadata": {},
          "execution_count": 5
        }
      ]
    },
    {
      "cell_type": "code",
      "source": [
        "import pandas as pd\n",
        "ROOT_PATH = '/content/drive/MyDrive/Colab Notebooks/자연어처리공부/NLP-study/NLP-study/data/'\n",
        "df = pd.read_excel(ROOT_PATH + '영화_위키피디아_최근5년.xlsx', sheet_name='2021')\n",
        "df.head()"
      ],
      "metadata": {
        "colab": {
          "base_uri": "https://localhost:8080/",
          "height": 354
        },
        "id": "QGow7ZkL0-5w",
        "outputId": "8296e99a-2297-4c46-ff5e-3da8c4cfac77"
      },
      "execution_count": 6,
      "outputs": [
        {
          "output_type": "execute_result",
          "data": {
            "text/plain": [
              "   순위              영화명        개봉일  \\\n",
              "0   1    스파이더맨: 노 웨이 홈 2021-12-15   \n",
              "1   2             모가디슈 2021-07-28   \n",
              "2   3             이터널스 2021-11-03   \n",
              "3   4           블랙 위도우 2021-07-07   \n",
              "4   5  분노의 질주: 더 얼티메이트 2021-05-19   \n",
              "\n",
              "                                                  개요  \\\n",
              "0  《스파이더맨: 노 웨이 홈》(영어: Spider-Man: No Way Home)은 ...   \n",
              "1  《모가디슈》는 2021년에 개봉한 대한민국의 영화이다. 류승완 감독의 작품으로, 7...   \n",
              "2  《이터널스》(영어: The Eternals)는 2021년 공개된 미국의 슈퍼히어로 ...   \n",
              "3  《블랙 위도우》(영어: Black Widow)는 2021년 개봉한 미국의 슈퍼히어로...   \n",
              "4  \"분노의 질주: 더 얼티메이트\"(영어: F9)는 2021년 공개된 미국의 액션 영화...   \n",
              "\n",
              "                                                 줄거리  \n",
              "0  전작 《스파이더맨: 파 프롬 홈》에서 미스테리오가 스파이더맨이 살인자라고 누명을 씌...  \n",
              "1                                                NaN  \n",
              "2  데비안츠라는 괴물들로부터 인류를 지키고 인류를 진화시키기 위해 신과 같은 존재인 셀...  \n",
              "3                                                NaN  \n",
              "4  도미닉(빈 디젤)은 자신과 가장 가까웠던 형제 제이콥(존 시나)이 사이퍼(샤를리즈 ...  "
            ],
            "text/html": [
              "\n",
              "  <div id=\"df-c09839ea-d5e0-46d1-9f37-23399d325373\">\n",
              "    <div class=\"colab-df-container\">\n",
              "      <div>\n",
              "<style scoped>\n",
              "    .dataframe tbody tr th:only-of-type {\n",
              "        vertical-align: middle;\n",
              "    }\n",
              "\n",
              "    .dataframe tbody tr th {\n",
              "        vertical-align: top;\n",
              "    }\n",
              "\n",
              "    .dataframe thead th {\n",
              "        text-align: right;\n",
              "    }\n",
              "</style>\n",
              "<table border=\"1\" class=\"dataframe\">\n",
              "  <thead>\n",
              "    <tr style=\"text-align: right;\">\n",
              "      <th></th>\n",
              "      <th>순위</th>\n",
              "      <th>영화명</th>\n",
              "      <th>개봉일</th>\n",
              "      <th>개요</th>\n",
              "      <th>줄거리</th>\n",
              "    </tr>\n",
              "  </thead>\n",
              "  <tbody>\n",
              "    <tr>\n",
              "      <th>0</th>\n",
              "      <td>1</td>\n",
              "      <td>스파이더맨: 노 웨이 홈</td>\n",
              "      <td>2021-12-15</td>\n",
              "      <td>《스파이더맨: 노 웨이 홈》(영어: Spider-Man: No Way Home)은 ...</td>\n",
              "      <td>전작 《스파이더맨: 파 프롬 홈》에서 미스테리오가 스파이더맨이 살인자라고 누명을 씌...</td>\n",
              "    </tr>\n",
              "    <tr>\n",
              "      <th>1</th>\n",
              "      <td>2</td>\n",
              "      <td>모가디슈</td>\n",
              "      <td>2021-07-28</td>\n",
              "      <td>《모가디슈》는 2021년에 개봉한 대한민국의 영화이다. 류승완 감독의 작품으로, 7...</td>\n",
              "      <td>NaN</td>\n",
              "    </tr>\n",
              "    <tr>\n",
              "      <th>2</th>\n",
              "      <td>3</td>\n",
              "      <td>이터널스</td>\n",
              "      <td>2021-11-03</td>\n",
              "      <td>《이터널스》(영어: The Eternals)는 2021년 공개된 미국의 슈퍼히어로 ...</td>\n",
              "      <td>데비안츠라는 괴물들로부터 인류를 지키고 인류를 진화시키기 위해 신과 같은 존재인 셀...</td>\n",
              "    </tr>\n",
              "    <tr>\n",
              "      <th>3</th>\n",
              "      <td>4</td>\n",
              "      <td>블랙 위도우</td>\n",
              "      <td>2021-07-07</td>\n",
              "      <td>《블랙 위도우》(영어: Black Widow)는 2021년 개봉한 미국의 슈퍼히어로...</td>\n",
              "      <td>NaN</td>\n",
              "    </tr>\n",
              "    <tr>\n",
              "      <th>4</th>\n",
              "      <td>5</td>\n",
              "      <td>분노의 질주: 더 얼티메이트</td>\n",
              "      <td>2021-05-19</td>\n",
              "      <td>\"분노의 질주: 더 얼티메이트\"(영어: F9)는 2021년 공개된 미국의 액션 영화...</td>\n",
              "      <td>도미닉(빈 디젤)은 자신과 가장 가까웠던 형제 제이콥(존 시나)이 사이퍼(샤를리즈 ...</td>\n",
              "    </tr>\n",
              "  </tbody>\n",
              "</table>\n",
              "</div>\n",
              "      <button class=\"colab-df-convert\" onclick=\"convertToInteractive('df-c09839ea-d5e0-46d1-9f37-23399d325373')\"\n",
              "              title=\"Convert this dataframe to an interactive table.\"\n",
              "              style=\"display:none;\">\n",
              "        \n",
              "  <svg xmlns=\"http://www.w3.org/2000/svg\" height=\"24px\"viewBox=\"0 0 24 24\"\n",
              "       width=\"24px\">\n",
              "    <path d=\"M0 0h24v24H0V0z\" fill=\"none\"/>\n",
              "    <path d=\"M18.56 5.44l.94 2.06.94-2.06 2.06-.94-2.06-.94-.94-2.06-.94 2.06-2.06.94zm-11 1L8.5 8.5l.94-2.06 2.06-.94-2.06-.94L8.5 2.5l-.94 2.06-2.06.94zm10 10l.94 2.06.94-2.06 2.06-.94-2.06-.94-.94-2.06-.94 2.06-2.06.94z\"/><path d=\"M17.41 7.96l-1.37-1.37c-.4-.4-.92-.59-1.43-.59-.52 0-1.04.2-1.43.59L10.3 9.45l-7.72 7.72c-.78.78-.78 2.05 0 2.83L4 21.41c.39.39.9.59 1.41.59.51 0 1.02-.2 1.41-.59l7.78-7.78 2.81-2.81c.8-.78.8-2.07 0-2.86zM5.41 20L4 18.59l7.72-7.72 1.47 1.35L5.41 20z\"/>\n",
              "  </svg>\n",
              "      </button>\n",
              "      \n",
              "  <style>\n",
              "    .colab-df-container {\n",
              "      display:flex;\n",
              "      flex-wrap:wrap;\n",
              "      gap: 12px;\n",
              "    }\n",
              "\n",
              "    .colab-df-convert {\n",
              "      background-color: #E8F0FE;\n",
              "      border: none;\n",
              "      border-radius: 50%;\n",
              "      cursor: pointer;\n",
              "      display: none;\n",
              "      fill: #1967D2;\n",
              "      height: 32px;\n",
              "      padding: 0 0 0 0;\n",
              "      width: 32px;\n",
              "    }\n",
              "\n",
              "    .colab-df-convert:hover {\n",
              "      background-color: #E2EBFA;\n",
              "      box-shadow: 0px 1px 2px rgba(60, 64, 67, 0.3), 0px 1px 3px 1px rgba(60, 64, 67, 0.15);\n",
              "      fill: #174EA6;\n",
              "    }\n",
              "\n",
              "    [theme=dark] .colab-df-convert {\n",
              "      background-color: #3B4455;\n",
              "      fill: #D2E3FC;\n",
              "    }\n",
              "\n",
              "    [theme=dark] .colab-df-convert:hover {\n",
              "      background-color: #434B5C;\n",
              "      box-shadow: 0px 1px 3px 1px rgba(0, 0, 0, 0.15);\n",
              "      filter: drop-shadow(0px 1px 2px rgba(0, 0, 0, 0.3));\n",
              "      fill: #FFFFFF;\n",
              "    }\n",
              "  </style>\n",
              "\n",
              "      <script>\n",
              "        const buttonEl =\n",
              "          document.querySelector('#df-c09839ea-d5e0-46d1-9f37-23399d325373 button.colab-df-convert');\n",
              "        buttonEl.style.display =\n",
              "          google.colab.kernel.accessAllowed ? 'block' : 'none';\n",
              "\n",
              "        async function convertToInteractive(key) {\n",
              "          const element = document.querySelector('#df-c09839ea-d5e0-46d1-9f37-23399d325373');\n",
              "          const dataTable =\n",
              "            await google.colab.kernel.invokeFunction('convertToInteractive',\n",
              "                                                     [key], {});\n",
              "          if (!dataTable) return;\n",
              "\n",
              "          const docLinkHtml = 'Like what you see? Visit the ' +\n",
              "            '<a target=\"_blank\" href=https://colab.research.google.com/notebooks/data_table.ipynb>data table notebook</a>'\n",
              "            + ' to learn more about interactive tables.';\n",
              "          element.innerHTML = '';\n",
              "          dataTable['output_type'] = 'display_data';\n",
              "          await google.colab.output.renderOutput(dataTable, element);\n",
              "          const docLink = document.createElement('div');\n",
              "          docLink.innerHTML = docLinkHtml;\n",
              "          element.appendChild(docLink);\n",
              "        }\n",
              "      </script>\n",
              "    </div>\n",
              "  </div>\n",
              "  "
            ]
          },
          "metadata": {},
          "execution_count": 6
        }
      ]
    },
    {
      "cell_type": "code",
      "source": [
        "df.info()"
      ],
      "metadata": {
        "colab": {
          "base_uri": "https://localhost:8080/"
        },
        "id": "xoZJAfU81kPn",
        "outputId": "e5335002-6aa5-4ac0-ba97-54115f08e382"
      },
      "execution_count": 7,
      "outputs": [
        {
          "output_type": "stream",
          "name": "stdout",
          "text": [
            "<class 'pandas.core.frame.DataFrame'>\n",
            "RangeIndex: 30 entries, 0 to 29\n",
            "Data columns (total 5 columns):\n",
            " #   Column  Non-Null Count  Dtype         \n",
            "---  ------  --------------  -----         \n",
            " 0   순위      30 non-null     int64         \n",
            " 1   영화명     30 non-null     object        \n",
            " 2   개봉일     30 non-null     datetime64[ns]\n",
            " 3   개요      30 non-null     object        \n",
            " 4   줄거리     26 non-null     object        \n",
            "dtypes: datetime64[ns](1), int64(1), object(3)\n",
            "memory usage: 1.3+ KB\n"
          ]
        }
      ]
    },
    {
      "cell_type": "code",
      "source": [
        "# 5개년 데이터 가져오기기\n",
        "df_list = []\n",
        "for year in ['2021', '2020', '2019', '2018', '2017'] : \n",
        "  df_tmp = pd.read_excel(ROOT_PATH + '영화_위키피디아_최근5년.xlsx', sheet_name=year)\n",
        "  df_list.append(df_tmp)\n",
        "len(df_list)"
      ],
      "metadata": {
        "colab": {
          "base_uri": "https://localhost:8080/"
        },
        "id": "nm9zVMcq11wq",
        "outputId": "f53ab01a-0d64-4185-8257-74d7257a1d74"
      },
      "execution_count": 8,
      "outputs": [
        {
          "output_type": "execute_result",
          "data": {
            "text/plain": [
              "5"
            ]
          },
          "metadata": {},
          "execution_count": 8
        }
      ]
    },
    {
      "cell_type": "code",
      "source": [
        "df_list[4].head()"
      ],
      "metadata": {
        "colab": {
          "base_uri": "https://localhost:8080/",
          "height": 354
        },
        "id": "rnCAxvQe2YqP",
        "outputId": "a99a462d-69ba-462c-cf0c-d38e91a62ffe"
      },
      "execution_count": 9,
      "outputs": [
        {
          "output_type": "execute_result",
          "data": {
            "text/plain": [
              "   순위          영화명        개봉일  \\\n",
              "0   1        택시운전사 2017-08-02   \n",
              "1   2    신과함께-죄와 벌 2017-12-20   \n",
              "2   3           공조 2017-01-18   \n",
              "3   4  스파이더맨: 홈 커밍 2017-07-05   \n",
              "4   5         범죄도시 2017-10-03   \n",
              "\n",
              "                                                  개요  \\\n",
              "0  《택시운전사》는 2017년에 개봉한 대한민국의 영화이다. 실화를 바탕으로 하였으며,...   \n",
              "1  《신과함께-죄와 벌》은 2017년 12월 20일에 개봉한 대한민국의 영화로, 주호민...   \n",
              "2                       《공조》는 2017년에 개봉한 대한민국의 영화이다.   \n",
              "3  《스파이더맨: 홈커밍》(영어: Spider-Man: Homecoming)은 마블 코...   \n",
              "4  \"범죄도시\"는 2017년에 개봉한 대한민국의 영화이다.\\n\\n서울 구로구 가리봉동 ...   \n",
              "\n",
              "                                                 줄거리  \n",
              "0  1980년 5월, 서울에서 택시기사일을 하며 하나 뿐인 딸과 착실하게 살아가는 만섭...  \n",
              "1  김자홍(차태현)이 삼차사와 49일 동안 7개의 지옥에서 7개의 재판을 받으며 자신의...  \n",
              "2  특수부대 출신 형사 림철령은 작전수행 도중 지원을 기다리자는 동료들의 말도 무시하고...  \n",
              "3                                                  -  \n",
              "4  통쾌하고, 화끈하고, 살벌하게 나쁜놈들 때려잡는 강력반 형사들의 ‘조폭소탕작전’ 이...  "
            ],
            "text/html": [
              "\n",
              "  <div id=\"df-7528a5ff-9821-49c7-9c1d-7fcb127d952f\">\n",
              "    <div class=\"colab-df-container\">\n",
              "      <div>\n",
              "<style scoped>\n",
              "    .dataframe tbody tr th:only-of-type {\n",
              "        vertical-align: middle;\n",
              "    }\n",
              "\n",
              "    .dataframe tbody tr th {\n",
              "        vertical-align: top;\n",
              "    }\n",
              "\n",
              "    .dataframe thead th {\n",
              "        text-align: right;\n",
              "    }\n",
              "</style>\n",
              "<table border=\"1\" class=\"dataframe\">\n",
              "  <thead>\n",
              "    <tr style=\"text-align: right;\">\n",
              "      <th></th>\n",
              "      <th>순위</th>\n",
              "      <th>영화명</th>\n",
              "      <th>개봉일</th>\n",
              "      <th>개요</th>\n",
              "      <th>줄거리</th>\n",
              "    </tr>\n",
              "  </thead>\n",
              "  <tbody>\n",
              "    <tr>\n",
              "      <th>0</th>\n",
              "      <td>1</td>\n",
              "      <td>택시운전사</td>\n",
              "      <td>2017-08-02</td>\n",
              "      <td>《택시운전사》는 2017년에 개봉한 대한민국의 영화이다. 실화를 바탕으로 하였으며,...</td>\n",
              "      <td>1980년 5월, 서울에서 택시기사일을 하며 하나 뿐인 딸과 착실하게 살아가는 만섭...</td>\n",
              "    </tr>\n",
              "    <tr>\n",
              "      <th>1</th>\n",
              "      <td>2</td>\n",
              "      <td>신과함께-죄와 벌</td>\n",
              "      <td>2017-12-20</td>\n",
              "      <td>《신과함께-죄와 벌》은 2017년 12월 20일에 개봉한 대한민국의 영화로, 주호민...</td>\n",
              "      <td>김자홍(차태현)이 삼차사와 49일 동안 7개의 지옥에서 7개의 재판을 받으며 자신의...</td>\n",
              "    </tr>\n",
              "    <tr>\n",
              "      <th>2</th>\n",
              "      <td>3</td>\n",
              "      <td>공조</td>\n",
              "      <td>2017-01-18</td>\n",
              "      <td>《공조》는 2017년에 개봉한 대한민국의 영화이다.</td>\n",
              "      <td>특수부대 출신 형사 림철령은 작전수행 도중 지원을 기다리자는 동료들의 말도 무시하고...</td>\n",
              "    </tr>\n",
              "    <tr>\n",
              "      <th>3</th>\n",
              "      <td>4</td>\n",
              "      <td>스파이더맨: 홈 커밍</td>\n",
              "      <td>2017-07-05</td>\n",
              "      <td>《스파이더맨: 홈커밍》(영어: Spider-Man: Homecoming)은 마블 코...</td>\n",
              "      <td>-</td>\n",
              "    </tr>\n",
              "    <tr>\n",
              "      <th>4</th>\n",
              "      <td>5</td>\n",
              "      <td>범죄도시</td>\n",
              "      <td>2017-10-03</td>\n",
              "      <td>\"범죄도시\"는 2017년에 개봉한 대한민국의 영화이다.\\n\\n서울 구로구 가리봉동 ...</td>\n",
              "      <td>통쾌하고, 화끈하고, 살벌하게 나쁜놈들 때려잡는 강력반 형사들의 ‘조폭소탕작전’ 이...</td>\n",
              "    </tr>\n",
              "  </tbody>\n",
              "</table>\n",
              "</div>\n",
              "      <button class=\"colab-df-convert\" onclick=\"convertToInteractive('df-7528a5ff-9821-49c7-9c1d-7fcb127d952f')\"\n",
              "              title=\"Convert this dataframe to an interactive table.\"\n",
              "              style=\"display:none;\">\n",
              "        \n",
              "  <svg xmlns=\"http://www.w3.org/2000/svg\" height=\"24px\"viewBox=\"0 0 24 24\"\n",
              "       width=\"24px\">\n",
              "    <path d=\"M0 0h24v24H0V0z\" fill=\"none\"/>\n",
              "    <path d=\"M18.56 5.44l.94 2.06.94-2.06 2.06-.94-2.06-.94-.94-2.06-.94 2.06-2.06.94zm-11 1L8.5 8.5l.94-2.06 2.06-.94-2.06-.94L8.5 2.5l-.94 2.06-2.06.94zm10 10l.94 2.06.94-2.06 2.06-.94-2.06-.94-.94-2.06-.94 2.06-2.06.94z\"/><path d=\"M17.41 7.96l-1.37-1.37c-.4-.4-.92-.59-1.43-.59-.52 0-1.04.2-1.43.59L10.3 9.45l-7.72 7.72c-.78.78-.78 2.05 0 2.83L4 21.41c.39.39.9.59 1.41.59.51 0 1.02-.2 1.41-.59l7.78-7.78 2.81-2.81c.8-.78.8-2.07 0-2.86zM5.41 20L4 18.59l7.72-7.72 1.47 1.35L5.41 20z\"/>\n",
              "  </svg>\n",
              "      </button>\n",
              "      \n",
              "  <style>\n",
              "    .colab-df-container {\n",
              "      display:flex;\n",
              "      flex-wrap:wrap;\n",
              "      gap: 12px;\n",
              "    }\n",
              "\n",
              "    .colab-df-convert {\n",
              "      background-color: #E8F0FE;\n",
              "      border: none;\n",
              "      border-radius: 50%;\n",
              "      cursor: pointer;\n",
              "      display: none;\n",
              "      fill: #1967D2;\n",
              "      height: 32px;\n",
              "      padding: 0 0 0 0;\n",
              "      width: 32px;\n",
              "    }\n",
              "\n",
              "    .colab-df-convert:hover {\n",
              "      background-color: #E2EBFA;\n",
              "      box-shadow: 0px 1px 2px rgba(60, 64, 67, 0.3), 0px 1px 3px 1px rgba(60, 64, 67, 0.15);\n",
              "      fill: #174EA6;\n",
              "    }\n",
              "\n",
              "    [theme=dark] .colab-df-convert {\n",
              "      background-color: #3B4455;\n",
              "      fill: #D2E3FC;\n",
              "    }\n",
              "\n",
              "    [theme=dark] .colab-df-convert:hover {\n",
              "      background-color: #434B5C;\n",
              "      box-shadow: 0px 1px 3px 1px rgba(0, 0, 0, 0.15);\n",
              "      filter: drop-shadow(0px 1px 2px rgba(0, 0, 0, 0.3));\n",
              "      fill: #FFFFFF;\n",
              "    }\n",
              "  </style>\n",
              "\n",
              "      <script>\n",
              "        const buttonEl =\n",
              "          document.querySelector('#df-7528a5ff-9821-49c7-9c1d-7fcb127d952f button.colab-df-convert');\n",
              "        buttonEl.style.display =\n",
              "          google.colab.kernel.accessAllowed ? 'block' : 'none';\n",
              "\n",
              "        async function convertToInteractive(key) {\n",
              "          const element = document.querySelector('#df-7528a5ff-9821-49c7-9c1d-7fcb127d952f');\n",
              "          const dataTable =\n",
              "            await google.colab.kernel.invokeFunction('convertToInteractive',\n",
              "                                                     [key], {});\n",
              "          if (!dataTable) return;\n",
              "\n",
              "          const docLinkHtml = 'Like what you see? Visit the ' +\n",
              "            '<a target=\"_blank\" href=https://colab.research.google.com/notebooks/data_table.ipynb>data table notebook</a>'\n",
              "            + ' to learn more about interactive tables.';\n",
              "          element.innerHTML = '';\n",
              "          dataTable['output_type'] = 'display_data';\n",
              "          await google.colab.output.renderOutput(dataTable, element);\n",
              "          const docLink = document.createElement('div');\n",
              "          docLink.innerHTML = docLinkHtml;\n",
              "          element.appendChild(docLink);\n",
              "        }\n",
              "      </script>\n",
              "    </div>\n",
              "  </div>\n",
              "  "
            ]
          },
          "metadata": {},
          "execution_count": 9
        }
      ]
    },
    {
      "cell_type": "code",
      "source": [
        "# 5개년 데이터 하나로 합치기 \n",
        "df = pd.concat(df_list)\n",
        "df.shape"
      ],
      "metadata": {
        "colab": {
          "base_uri": "https://localhost:8080/"
        },
        "id": "fDiMOztX2heG",
        "outputId": "14f97a06-bb0e-4588-ea5f-60841c65bf56"
      },
      "execution_count": 10,
      "outputs": [
        {
          "output_type": "execute_result",
          "data": {
            "text/plain": [
              "(150, 5)"
            ]
          },
          "metadata": {},
          "execution_count": 10
        }
      ]
    },
    {
      "cell_type": "code",
      "source": [
        "df.info()"
      ],
      "metadata": {
        "colab": {
          "base_uri": "https://localhost:8080/"
        },
        "id": "0aFhWk8B3lFD",
        "outputId": "be327d0c-1f9f-4224-e69d-b13268c5cd74"
      },
      "execution_count": 11,
      "outputs": [
        {
          "output_type": "stream",
          "name": "stdout",
          "text": [
            "<class 'pandas.core.frame.DataFrame'>\n",
            "Int64Index: 150 entries, 0 to 29\n",
            "Data columns (total 5 columns):\n",
            " #   Column  Non-Null Count  Dtype         \n",
            "---  ------  --------------  -----         \n",
            " 0   순위      150 non-null    int64         \n",
            " 1   영화명     150 non-null    object        \n",
            " 2   개봉일     150 non-null    datetime64[ns]\n",
            " 3   개요      150 non-null    object        \n",
            " 4   줄거리     146 non-null    object        \n",
            "dtypes: datetime64[ns](1), int64(1), object(3)\n",
            "memory usage: 7.0+ KB\n"
          ]
        }
      ]
    },
    {
      "cell_type": "code",
      "source": [
        "# null값 제거하기\n",
        "# 개요와 줄거리 구분하지 않기\n",
        "df.dropna(inplace=True)\n",
        "# drop=True : 이전에 있었던 인덱스가 칼럼으로 들어가는데 사용하지 않음\n",
        "df.reset_index(drop=True, inplace=True)  \n",
        "df.info()"
      ],
      "metadata": {
        "colab": {
          "base_uri": "https://localhost:8080/"
        },
        "id": "m5_YrMMR22xb",
        "outputId": "e5b49500-756b-48f4-9c55-c734678926f6"
      },
      "execution_count": 12,
      "outputs": [
        {
          "output_type": "stream",
          "name": "stdout",
          "text": [
            "<class 'pandas.core.frame.DataFrame'>\n",
            "RangeIndex: 146 entries, 0 to 145\n",
            "Data columns (total 5 columns):\n",
            " #   Column  Non-Null Count  Dtype         \n",
            "---  ------  --------------  -----         \n",
            " 0   순위      146 non-null    int64         \n",
            " 1   영화명     146 non-null    object        \n",
            " 2   개봉일     146 non-null    datetime64[ns]\n",
            " 3   개요      146 non-null    object        \n",
            " 4   줄거리     146 non-null    object        \n",
            "dtypes: datetime64[ns](1), int64(1), object(3)\n",
            "memory usage: 5.8+ KB\n"
          ]
        }
      ]
    },
    {
      "cell_type": "code",
      "source": [
        "df['text'] = df['개요'] + df['줄거리']\n",
        "df.head()"
      ],
      "metadata": {
        "colab": {
          "base_uri": "https://localhost:8080/",
          "height": 424
        },
        "id": "cZ087JQy3rsi",
        "outputId": "e0ddc79c-2335-47c1-d2c9-e3669dee0214"
      },
      "execution_count": 13,
      "outputs": [
        {
          "output_type": "execute_result",
          "data": {
            "text/plain": [
              "   순위                영화명        개봉일  \\\n",
              "0   1      스파이더맨: 노 웨이 홈 2021-12-15   \n",
              "1   3               이터널스 2021-11-03   \n",
              "2   5    분노의 질주: 더 얼티메이트 2021-05-19   \n",
              "3   6                싱크홀 2021-08-11   \n",
              "4   7  극장판 귀멸의 칼날: 무한열차편 2021-01-27   \n",
              "\n",
              "                                                  개요  \\\n",
              "0  《스파이더맨: 노 웨이 홈》(영어: Spider-Man: No Way Home)은 ...   \n",
              "1  《이터널스》(영어: The Eternals)는 2021년 공개된 미국의 슈퍼히어로 ...   \n",
              "2  \"분노의 질주: 더 얼티메이트\"(영어: F9)는 2021년 공개된 미국의 액션 영화...   \n",
              "3                                                  -   \n",
              "4  《극장판 귀멸의 칼날: 무한열차편》(일본어: 劇場版「鬼滅の刃」無限列車編 영어: De...   \n",
              "\n",
              "                                                 줄거리  \\\n",
              "0  전작 《스파이더맨: 파 프롬 홈》에서 미스테리오가 스파이더맨이 살인자라고 누명을 씌...   \n",
              "1  데비안츠라는 괴물들로부터 인류를 지키고 인류를 진화시키기 위해 신과 같은 존재인 셀...   \n",
              "2  도미닉(빈 디젤)은 자신과 가장 가까웠던 형제 제이콥(존 시나)이 사이퍼(샤를리즈 ...   \n",
              "3                                                  -   \n",
              "4  혈귀술로 사람들을 잠에 빠뜨리는 오니인 엔무(하현 1)가 무한열차에 나타나 탑승자들...   \n",
              "\n",
              "                                                text  \n",
              "0  《스파이더맨: 노 웨이 홈》(영어: Spider-Man: No Way Home)은 ...  \n",
              "1  《이터널스》(영어: The Eternals)는 2021년 공개된 미국의 슈퍼히어로 ...  \n",
              "2  \"분노의 질주: 더 얼티메이트\"(영어: F9)는 2021년 공개된 미국의 액션 영화...  \n",
              "3                                                 --  \n",
              "4  《극장판 귀멸의 칼날: 무한열차편》(일본어: 劇場版「鬼滅の刃」無限列車編 영어: De...  "
            ],
            "text/html": [
              "\n",
              "  <div id=\"df-ef6f7a74-708e-4b02-aab4-8985bfd28017\">\n",
              "    <div class=\"colab-df-container\">\n",
              "      <div>\n",
              "<style scoped>\n",
              "    .dataframe tbody tr th:only-of-type {\n",
              "        vertical-align: middle;\n",
              "    }\n",
              "\n",
              "    .dataframe tbody tr th {\n",
              "        vertical-align: top;\n",
              "    }\n",
              "\n",
              "    .dataframe thead th {\n",
              "        text-align: right;\n",
              "    }\n",
              "</style>\n",
              "<table border=\"1\" class=\"dataframe\">\n",
              "  <thead>\n",
              "    <tr style=\"text-align: right;\">\n",
              "      <th></th>\n",
              "      <th>순위</th>\n",
              "      <th>영화명</th>\n",
              "      <th>개봉일</th>\n",
              "      <th>개요</th>\n",
              "      <th>줄거리</th>\n",
              "      <th>text</th>\n",
              "    </tr>\n",
              "  </thead>\n",
              "  <tbody>\n",
              "    <tr>\n",
              "      <th>0</th>\n",
              "      <td>1</td>\n",
              "      <td>스파이더맨: 노 웨이 홈</td>\n",
              "      <td>2021-12-15</td>\n",
              "      <td>《스파이더맨: 노 웨이 홈》(영어: Spider-Man: No Way Home)은 ...</td>\n",
              "      <td>전작 《스파이더맨: 파 프롬 홈》에서 미스테리오가 스파이더맨이 살인자라고 누명을 씌...</td>\n",
              "      <td>《스파이더맨: 노 웨이 홈》(영어: Spider-Man: No Way Home)은 ...</td>\n",
              "    </tr>\n",
              "    <tr>\n",
              "      <th>1</th>\n",
              "      <td>3</td>\n",
              "      <td>이터널스</td>\n",
              "      <td>2021-11-03</td>\n",
              "      <td>《이터널스》(영어: The Eternals)는 2021년 공개된 미국의 슈퍼히어로 ...</td>\n",
              "      <td>데비안츠라는 괴물들로부터 인류를 지키고 인류를 진화시키기 위해 신과 같은 존재인 셀...</td>\n",
              "      <td>《이터널스》(영어: The Eternals)는 2021년 공개된 미국의 슈퍼히어로 ...</td>\n",
              "    </tr>\n",
              "    <tr>\n",
              "      <th>2</th>\n",
              "      <td>5</td>\n",
              "      <td>분노의 질주: 더 얼티메이트</td>\n",
              "      <td>2021-05-19</td>\n",
              "      <td>\"분노의 질주: 더 얼티메이트\"(영어: F9)는 2021년 공개된 미국의 액션 영화...</td>\n",
              "      <td>도미닉(빈 디젤)은 자신과 가장 가까웠던 형제 제이콥(존 시나)이 사이퍼(샤를리즈 ...</td>\n",
              "      <td>\"분노의 질주: 더 얼티메이트\"(영어: F9)는 2021년 공개된 미국의 액션 영화...</td>\n",
              "    </tr>\n",
              "    <tr>\n",
              "      <th>3</th>\n",
              "      <td>6</td>\n",
              "      <td>싱크홀</td>\n",
              "      <td>2021-08-11</td>\n",
              "      <td>-</td>\n",
              "      <td>-</td>\n",
              "      <td>--</td>\n",
              "    </tr>\n",
              "    <tr>\n",
              "      <th>4</th>\n",
              "      <td>7</td>\n",
              "      <td>극장판 귀멸의 칼날: 무한열차편</td>\n",
              "      <td>2021-01-27</td>\n",
              "      <td>《극장판 귀멸의 칼날: 무한열차편》(일본어: 劇場版「鬼滅の刃」無限列車編 영어: De...</td>\n",
              "      <td>혈귀술로 사람들을 잠에 빠뜨리는 오니인 엔무(하현 1)가 무한열차에 나타나 탑승자들...</td>\n",
              "      <td>《극장판 귀멸의 칼날: 무한열차편》(일본어: 劇場版「鬼滅の刃」無限列車編 영어: De...</td>\n",
              "    </tr>\n",
              "  </tbody>\n",
              "</table>\n",
              "</div>\n",
              "      <button class=\"colab-df-convert\" onclick=\"convertToInteractive('df-ef6f7a74-708e-4b02-aab4-8985bfd28017')\"\n",
              "              title=\"Convert this dataframe to an interactive table.\"\n",
              "              style=\"display:none;\">\n",
              "        \n",
              "  <svg xmlns=\"http://www.w3.org/2000/svg\" height=\"24px\"viewBox=\"0 0 24 24\"\n",
              "       width=\"24px\">\n",
              "    <path d=\"M0 0h24v24H0V0z\" fill=\"none\"/>\n",
              "    <path d=\"M18.56 5.44l.94 2.06.94-2.06 2.06-.94-2.06-.94-.94-2.06-.94 2.06-2.06.94zm-11 1L8.5 8.5l.94-2.06 2.06-.94-2.06-.94L8.5 2.5l-.94 2.06-2.06.94zm10 10l.94 2.06.94-2.06 2.06-.94-2.06-.94-.94-2.06-.94 2.06-2.06.94z\"/><path d=\"M17.41 7.96l-1.37-1.37c-.4-.4-.92-.59-1.43-.59-.52 0-1.04.2-1.43.59L10.3 9.45l-7.72 7.72c-.78.78-.78 2.05 0 2.83L4 21.41c.39.39.9.59 1.41.59.51 0 1.02-.2 1.41-.59l7.78-7.78 2.81-2.81c.8-.78.8-2.07 0-2.86zM5.41 20L4 18.59l7.72-7.72 1.47 1.35L5.41 20z\"/>\n",
              "  </svg>\n",
              "      </button>\n",
              "      \n",
              "  <style>\n",
              "    .colab-df-container {\n",
              "      display:flex;\n",
              "      flex-wrap:wrap;\n",
              "      gap: 12px;\n",
              "    }\n",
              "\n",
              "    .colab-df-convert {\n",
              "      background-color: #E8F0FE;\n",
              "      border: none;\n",
              "      border-radius: 50%;\n",
              "      cursor: pointer;\n",
              "      display: none;\n",
              "      fill: #1967D2;\n",
              "      height: 32px;\n",
              "      padding: 0 0 0 0;\n",
              "      width: 32px;\n",
              "    }\n",
              "\n",
              "    .colab-df-convert:hover {\n",
              "      background-color: #E2EBFA;\n",
              "      box-shadow: 0px 1px 2px rgba(60, 64, 67, 0.3), 0px 1px 3px 1px rgba(60, 64, 67, 0.15);\n",
              "      fill: #174EA6;\n",
              "    }\n",
              "\n",
              "    [theme=dark] .colab-df-convert {\n",
              "      background-color: #3B4455;\n",
              "      fill: #D2E3FC;\n",
              "    }\n",
              "\n",
              "    [theme=dark] .colab-df-convert:hover {\n",
              "      background-color: #434B5C;\n",
              "      box-shadow: 0px 1px 3px 1px rgba(0, 0, 0, 0.15);\n",
              "      filter: drop-shadow(0px 1px 2px rgba(0, 0, 0, 0.3));\n",
              "      fill: #FFFFFF;\n",
              "    }\n",
              "  </style>\n",
              "\n",
              "      <script>\n",
              "        const buttonEl =\n",
              "          document.querySelector('#df-ef6f7a74-708e-4b02-aab4-8985bfd28017 button.colab-df-convert');\n",
              "        buttonEl.style.display =\n",
              "          google.colab.kernel.accessAllowed ? 'block' : 'none';\n",
              "\n",
              "        async function convertToInteractive(key) {\n",
              "          const element = document.querySelector('#df-ef6f7a74-708e-4b02-aab4-8985bfd28017');\n",
              "          const dataTable =\n",
              "            await google.colab.kernel.invokeFunction('convertToInteractive',\n",
              "                                                     [key], {});\n",
              "          if (!dataTable) return;\n",
              "\n",
              "          const docLinkHtml = 'Like what you see? Visit the ' +\n",
              "            '<a target=\"_blank\" href=https://colab.research.google.com/notebooks/data_table.ipynb>data table notebook</a>'\n",
              "            + ' to learn more about interactive tables.';\n",
              "          element.innerHTML = '';\n",
              "          dataTable['output_type'] = 'display_data';\n",
              "          await google.colab.output.renderOutput(dataTable, element);\n",
              "          const docLink = document.createElement('div');\n",
              "          docLink.innerHTML = docLinkHtml;\n",
              "          element.appendChild(docLink);\n",
              "        }\n",
              "      </script>\n",
              "    </div>\n",
              "  </div>\n",
              "  "
            ]
          },
          "metadata": {},
          "execution_count": 13
        }
      ]
    },
    {
      "cell_type": "code",
      "source": [
        "df['개요'][0]"
      ],
      "metadata": {
        "colab": {
          "base_uri": "https://localhost:8080/",
          "height": 72
        },
        "id": "-T3gIkP551mK",
        "outputId": "a43e8a25-8fc1-4f00-834a-06b052e041ee"
      },
      "execution_count": 14,
      "outputs": [
        {
          "output_type": "execute_result",
          "data": {
            "text/plain": [
              "'《스파이더맨: 노 웨이 홈》(영어: Spider-Man: No Way Home)은 2021년 개봉한 미국의 슈퍼히어로 영화이다. 2019년 영화 《스파이더맨: 파 프롬 홈》의 후속작이자, 마블 시네마틱 유니버스(MCU)의 27번째 작품이다. 감독은 전편과 같은 존 왓츠가 맡았으며, 각본 역시 전편에 참여했던 크리스 매케나와 에릭 소머즈가 맡았다.'"
            ],
            "application/vnd.google.colaboratory.intrinsic+json": {
              "type": "string"
            }
          },
          "metadata": {},
          "execution_count": 14
        }
      ]
    },
    {
      "cell_type": "code",
      "source": [
        "df['줄거리'][0]"
      ],
      "metadata": {
        "colab": {
          "base_uri": "https://localhost:8080/",
          "height": 256
        },
        "id": "V-MS66QT53wl",
        "outputId": "1955898f-2ae9-4f20-c25f-63e1bef760b5"
      },
      "execution_count": 15,
      "outputs": [
        {
          "output_type": "execute_result",
          "data": {
            "text/plain": [
              "'전작 《스파이더맨: 파 프롬 홈》에서 미스테리오가 스파이더맨이 살인자라고 누명을 씌우고, 정체를 공개한 장면부터 시작된다. 주변 사람들로부터 관심이 쏠린 피터 파커와 MJ는 웹스윙으로 현장을 벗어나 집으로 가지만, 집 근처에도 많은 사람들이 온다. 이후, 피터, MJ, 네드, 큰엄마 메이는 경찰에 조사받는다. 변호사 맷 머독이 증거불충분으로 기소되지는 않는다고 말하지만 대중들은 스파이더맨을 살인자라며 비난한다.\\n\\n미스테리오 때문에 자신의 일상이 엉망이 된 피터, 자신이 끌어들인 네드와 MJ까지 논란으로 인해 MIT 진학이 좌절되자 피터는 닥터 스트레인지를 찾아가 과거를 바꿔달라고 하지만 그는 거절한다. 대신 다른 사람들이 피터 파커가 스파이더맨이었다는 기억을 없애주기로 한다. 그러나 피터는 폭로 이전에 자신의 정체를 알던 이들은 예외로 해달라며 주문을 방해하고 스트레인지의 마법은 실패한다. 이로 인해 오히려 스파이더맨의 정체를 알던 평행우주의 인물들이 넘어오게 된다.\\n\\n피터는 플래시 톰슨의 도움으로 MIT에 한 번 더 기회를 요청하기 위해 공항으로 가던 부총장보를 만나려 한다. 부총장보를 만났지만 갑자기 도로에서 스파이더맨: 트릴로지2의 닥터 옥토퍼스가 나타난다. 피터는 닥터 옥토퍼스를 제압하고 부총장보에게 입학 허가를 받았지만, 2002년 작 스파이더맨의 그린 고블린이 나타난다. 그 때 닥터 스트레인지의 도움으로 생텀으로 온 피터는 닥터 옥토퍼스와 함께 잡혀 있던 어메이징 스파이더맨의 리저드도 보게 된다. 스트레인지는 평행우주의 인물들을 막으려 했지만 일부가 우리 차원으로 넘어왔다고 말하며 피터에게 사건 해결을 촉구한다.\\n\\n네드와 MJ의 도움으로 스파이더맨 3의 샌드맨과 어메이징 스파이더맨 2의 일렉트로를 만나고 둘을 모두 잡게 된다. 사악한 그린 고블린의 인격에서 잠시 벗어난 노먼 오스본은 메이의 일터로 가고, 피터와 함께 생텀의 지하로 간다. 닥터 스트레인지는 그들을 되돌려 보내려고 하지만, 죽을 운명이었던 스파이더맨의 숙적들을 지키기 위해 피터와 스트레인지는 마법 상자를 놓고 싸운다. 스트레인지를 미러 디멘션에 고립시키기에 성공한 피터는 빌런들을 풀어주고 그들의 신체적/정신적 이상을 해결하고 돌려보내기위한 연구를 진행하고 닥터 옥토퍼스를 기계팔의 지배로부터 해방시킨다.\\n\\n그러나 그린 고블린, 일렉트로, 리저드, 샌드맨은 스파이더맨을 공격하고 그 결과 그린 고블린에 의해 메이가 죽는다. 그린 고블린은 피터에게 메이가 말하는 도덕적 의무를 지키면서 자신의 재능을 썩힌다고 조롱하고 피터는 분노한다. 메이는 죽기 전에, 피터에게 \"큰 힘에는 큰 책임이 따른다.\"라는 말을 하고 숨을 거둔다. 데일리 뷰글의 J 조나 제임슨은 스파이더맨이 지나간 자리에는 혼란만이 있다며 비난한다. 피터는 자신을 쫓아 온 데미지 컨트롤의 요원들을 피해 도망간다.\\n\\n한편, MJ와 네드는 피터가 준 닥터 스트레인지의 슬링링으로 피터를 찾으려고 한다. 그렇게 찾은 키가 훤칠한 피터 파커는 그들이 알던 피터가 아닌 어메이징 스파이더맨 시리즈의 앤드류 가필드 버전의 스파이더맨이었다. 다시 피터를 찾기 위해 슬링링을 사용하니, 샘 레이미의 스파이더맨 3부작의 토비 맥과이어 버전의 스파이더맨이 등장한다. 두 스파이더맨은 네드와 MJ의 말을 듣고 피터가 힘들 때 도피처로 쓰던 공간을 찾아간다.\\n\\n피터를 찾아간 친구들과 두 스파이더맨의 도움으로 피터는 다시 일어나고 세 스파이더맨은 데일리 뷰글을 통해 빌런들을 자유의 여신상에서 치료시키려는 계획을 세운다. 그리고 벌어진 세 스파이더맨과 샌드맨, 일렉트로, 리저드의 전투를 벌이고 난입한 닥터 옥토퍼스의 도움으로 셋 모두를 치료하게 된다.\\n\\n네드가 슬링링을 돌리다가 다시 현실로 돌아온 닥터 스트레인지는 이방인들을 원래 차원으로 되돌리려 하지만 그린 고블린이 나타난다. 복수심에 가득 찬 피터는 그린 고블린을 죽일 기세로 때리고 그린 고블린의 글라이더로 그를 찔러 죽이려 하지만 토비 맥과이어의 스파이더맨이 저지한다. 그린 고블린은 피터를 막고 있는 토비 맥과이어의 스파이더맨의 등을 찌르지만 다른 스파이더맨의 호흡으로 모든 숙적들을 치료한다.\\n\\n이방인들의 치료는 끝났지만 닥터 스트레인지는 마법 주문을 억누를 수 없는 상황에 처하고 피터는 피터 파커의 존재를 모든 사람들이 잊는다면 더 이상의 불청객이 오지 않게 될 것이라 스트레인지에게 말한다. 스트레인지는 이를 받아들여 모든 사람들에게서 피터 파커라는 존재의 기억을 지우는 마법을 사용한다. 피터는 다른 세계에서 온 스파이더맨들과 두 친구와 작별인사를 나누고 자신의 존재를 다시 말해주겠다고 약속한다. 다른 세계에서 온 사람들도 원래 세계로 돌아간다.\\n\\n그 후, 모두가 피터를 잊게 되었고 피터는 자취를 시작한다. 메이의 무덤에서 그의 기억을 잊은 해피 호건과 대화를 나누고, 네드와 MJ에게 자신에 대해 말하려 하지만 MJ의 이마에 난 상처를 보고 친구들을 위해 진실을 말하기를 포기한다. 피터 파커는 자신만의 새 스파이더맨 슈트를 만들고 스파이더맨으로서 다시 활약한다.'"
            ],
            "application/vnd.google.colaboratory.intrinsic+json": {
              "type": "string"
            }
          },
          "metadata": {},
          "execution_count": 15
        }
      ]
    },
    {
      "cell_type": "code",
      "source": [
        "df['text'][0]"
      ],
      "metadata": {
        "colab": {
          "base_uri": "https://localhost:8080/",
          "height": 256
        },
        "id": "xavmjep657qr",
        "outputId": "8c184410-d4bf-42bd-86d5-55e3b22eb3fb"
      },
      "execution_count": 16,
      "outputs": [
        {
          "output_type": "execute_result",
          "data": {
            "text/plain": [
              "'《스파이더맨: 노 웨이 홈》(영어: Spider-Man: No Way Home)은 2021년 개봉한 미국의 슈퍼히어로 영화이다. 2019년 영화 《스파이더맨: 파 프롬 홈》의 후속작이자, 마블 시네마틱 유니버스(MCU)의 27번째 작품이다. 감독은 전편과 같은 존 왓츠가 맡았으며, 각본 역시 전편에 참여했던 크리스 매케나와 에릭 소머즈가 맡았다.전작 《스파이더맨: 파 프롬 홈》에서 미스테리오가 스파이더맨이 살인자라고 누명을 씌우고, 정체를 공개한 장면부터 시작된다. 주변 사람들로부터 관심이 쏠린 피터 파커와 MJ는 웹스윙으로 현장을 벗어나 집으로 가지만, 집 근처에도 많은 사람들이 온다. 이후, 피터, MJ, 네드, 큰엄마 메이는 경찰에 조사받는다. 변호사 맷 머독이 증거불충분으로 기소되지는 않는다고 말하지만 대중들은 스파이더맨을 살인자라며 비난한다.\\n\\n미스테리오 때문에 자신의 일상이 엉망이 된 피터, 자신이 끌어들인 네드와 MJ까지 논란으로 인해 MIT 진학이 좌절되자 피터는 닥터 스트레인지를 찾아가 과거를 바꿔달라고 하지만 그는 거절한다. 대신 다른 사람들이 피터 파커가 스파이더맨이었다는 기억을 없애주기로 한다. 그러나 피터는 폭로 이전에 자신의 정체를 알던 이들은 예외로 해달라며 주문을 방해하고 스트레인지의 마법은 실패한다. 이로 인해 오히려 스파이더맨의 정체를 알던 평행우주의 인물들이 넘어오게 된다.\\n\\n피터는 플래시 톰슨의 도움으로 MIT에 한 번 더 기회를 요청하기 위해 공항으로 가던 부총장보를 만나려 한다. 부총장보를 만났지만 갑자기 도로에서 스파이더맨: 트릴로지2의 닥터 옥토퍼스가 나타난다. 피터는 닥터 옥토퍼스를 제압하고 부총장보에게 입학 허가를 받았지만, 2002년 작 스파이더맨의 그린 고블린이 나타난다. 그 때 닥터 스트레인지의 도움으로 생텀으로 온 피터는 닥터 옥토퍼스와 함께 잡혀 있던 어메이징 스파이더맨의 리저드도 보게 된다. 스트레인지는 평행우주의 인물들을 막으려 했지만 일부가 우리 차원으로 넘어왔다고 말하며 피터에게 사건 해결을 촉구한다.\\n\\n네드와 MJ의 도움으로 스파이더맨 3의 샌드맨과 어메이징 스파이더맨 2의 일렉트로를 만나고 둘을 모두 잡게 된다. 사악한 그린 고블린의 인격에서 잠시 벗어난 노먼 오스본은 메이의 일터로 가고, 피터와 함께 생텀의 지하로 간다. 닥터 스트레인지는 그들을 되돌려 보내려고 하지만, 죽을 운명이었던 스파이더맨의 숙적들을 지키기 위해 피터와 스트레인지는 마법 상자를 놓고 싸운다. 스트레인지를 미러 디멘션에 고립시키기에 성공한 피터는 빌런들을 풀어주고 그들의 신체적/정신적 이상을 해결하고 돌려보내기위한 연구를 진행하고 닥터 옥토퍼스를 기계팔의 지배로부터 해방시킨다.\\n\\n그러나 그린 고블린, 일렉트로, 리저드, 샌드맨은 스파이더맨을 공격하고 그 결과 그린 고블린에 의해 메이가 죽는다. 그린 고블린은 피터에게 메이가 말하는 도덕적 의무를 지키면서 자신의 재능을 썩힌다고 조롱하고 피터는 분노한다. 메이는 죽기 전에, 피터에게 \"큰 힘에는 큰 책임이 따른다.\"라는 말을 하고 숨을 거둔다. 데일리 뷰글의 J 조나 제임슨은 스파이더맨이 지나간 자리에는 혼란만이 있다며 비난한다. 피터는 자신을 쫓아 온 데미지 컨트롤의 요원들을 피해 도망간다.\\n\\n한편, MJ와 네드는 피터가 준 닥터 스트레인지의 슬링링으로 피터를 찾으려고 한다. 그렇게 찾은 키가 훤칠한 피터 파커는 그들이 알던 피터가 아닌 어메이징 스파이더맨 시리즈의 앤드류 가필드 버전의 스파이더맨이었다. 다시 피터를 찾기 위해 슬링링을 사용하니, 샘 레이미의 스파이더맨 3부작의 토비 맥과이어 버전의 스파이더맨이 등장한다. 두 스파이더맨은 네드와 MJ의 말을 듣고 피터가 힘들 때 도피처로 쓰던 공간을 찾아간다.\\n\\n피터를 찾아간 친구들과 두 스파이더맨의 도움으로 피터는 다시 일어나고 세 스파이더맨은 데일리 뷰글을 통해 빌런들을 자유의 여신상에서 치료시키려는 계획을 세운다. 그리고 벌어진 세 스파이더맨과 샌드맨, 일렉트로, 리저드의 전투를 벌이고 난입한 닥터 옥토퍼스의 도움으로 셋 모두를 치료하게 된다.\\n\\n네드가 슬링링을 돌리다가 다시 현실로 돌아온 닥터 스트레인지는 이방인들을 원래 차원으로 되돌리려 하지만 그린 고블린이 나타난다. 복수심에 가득 찬 피터는 그린 고블린을 죽일 기세로 때리고 그린 고블린의 글라이더로 그를 찔러 죽이려 하지만 토비 맥과이어의 스파이더맨이 저지한다. 그린 고블린은 피터를 막고 있는 토비 맥과이어의 스파이더맨의 등을 찌르지만 다른 스파이더맨의 호흡으로 모든 숙적들을 치료한다.\\n\\n이방인들의 치료는 끝났지만 닥터 스트레인지는 마법 주문을 억누를 수 없는 상황에 처하고 피터는 피터 파커의 존재를 모든 사람들이 잊는다면 더 이상의 불청객이 오지 않게 될 것이라 스트레인지에게 말한다. 스트레인지는 이를 받아들여 모든 사람들에게서 피터 파커라는 존재의 기억을 지우는 마법을 사용한다. 피터는 다른 세계에서 온 스파이더맨들과 두 친구와 작별인사를 나누고 자신의 존재를 다시 말해주겠다고 약속한다. 다른 세계에서 온 사람들도 원래 세계로 돌아간다.\\n\\n그 후, 모두가 피터를 잊게 되었고 피터는 자취를 시작한다. 메이의 무덤에서 그의 기억을 잊은 해피 호건과 대화를 나누고, 네드와 MJ에게 자신에 대해 말하려 하지만 MJ의 이마에 난 상처를 보고 친구들을 위해 진실을 말하기를 포기한다. 피터 파커는 자신만의 새 스파이더맨 슈트를 만들고 스파이더맨으로서 다시 활약한다.'"
            ],
            "application/vnd.google.colaboratory.intrinsic+json": {
              "type": "string"
            }
          },
          "metadata": {},
          "execution_count": 16
        }
      ]
    },
    {
      "cell_type": "markdown",
      "source": [
        "### 4. 분리하지 않기 원하는 단어 설정"
      ],
      "metadata": {
        "id": "XEG1H25T2x3k"
      }
    },
    {
      "cell_type": "code",
      "source": [
        "from konlpy.tag import Okt\n",
        "okt = Okt()\n",
        "# pos(part of speech) : 품사를 할당해주는 함수\n",
        "okt.pos('닥터 스트레인지는 스파이더맨에 나온다.')"
      ],
      "metadata": {
        "colab": {
          "base_uri": "https://localhost:8080/"
        },
        "id": "t22SEo9T22c3",
        "outputId": "7674b5cc-c251-405d-ce97-319a70722402"
      },
      "execution_count": 17,
      "outputs": [
        {
          "output_type": "execute_result",
          "data": {
            "text/plain": [
              "[('닥터', 'Noun'),\n",
              " ('스', 'Noun'),\n",
              " ('트레인', 'Noun'),\n",
              " ('지는', 'Josa'),\n",
              " ('스파이더맨', 'Noun'),\n",
              " ('에', 'Josa'),\n",
              " ('나온다', 'Verb'),\n",
              " ('.', 'Punctuation')]"
            ]
          },
          "metadata": {},
          "execution_count": 17
        }
      ]
    },
    {
      "cell_type": "code",
      "source": [
        "# 경로 확인\n",
        "import konlpy\n",
        "konlpy.__path__"
      ],
      "metadata": {
        "colab": {
          "base_uri": "https://localhost:8080/"
        },
        "id": "ZlN9Oyu6iTdA",
        "outputId": "973251bb-3574-4e26-f55d-7973af96ba28"
      },
      "execution_count": 20,
      "outputs": [
        {
          "output_type": "execute_result",
          "data": {
            "text/plain": [
              "['/usr/local/lib/python3.9/dist-packages/konlpy']"
            ]
          },
          "metadata": {},
          "execution_count": 20
        }
      ]
    },
    {
      "cell_type": "code",
      "source": [
        "# 임시 폴더 생성\n",
        "!mkdir tmp"
      ],
      "metadata": {
        "id": "Yqg5257hnUq2"
      },
      "execution_count": 23,
      "outputs": []
    },
    {
      "cell_type": "code",
      "source": [
        "import os\n",
        "os.chdir('/usr/local/lib/python3.9/dist-packages/konlpy/java/tmp')\n",
        "os.getcwd()"
      ],
      "metadata": {
        "colab": {
          "base_uri": "https://localhost:8080/",
          "height": 35
        },
        "id": "qrbuidTU6i6b",
        "outputId": "324a68b2-d3d1-400b-cbf7-51f3142a9b1c"
      },
      "execution_count": 25,
      "outputs": [
        {
          "output_type": "execute_result",
          "data": {
            "text/plain": [
              "'/usr/local/lib/python3.9/dist-packages/konlpy/java/tmp'"
            ],
            "application/vnd.google.colaboratory.intrinsic+json": {
              "type": "string"
            }
          },
          "metadata": {},
          "execution_count": 25
        }
      ]
    },
    {
      "cell_type": "code",
      "source": [
        "# 상위 폴더 확인하기\n",
        "!ls ../"
      ],
      "metadata": {
        "colab": {
          "base_uri": "https://localhost:8080/"
        },
        "id": "w0KCoYzZnxhY",
        "outputId": "2c840576-11ac-4f9a-d92f-83fb85f33781"
      },
      "execution_count": 26,
      "outputs": [
        {
          "output_type": "stream",
          "name": "stdout",
          "text": [
            "aho-corasick.jar     kkma-2.0.jar\t\t shineware-ds-1.0.jar\n",
            "bin\t\t     komoran-3.0.jar\t\t snakeyaml-1.12.jar\n",
            "conf\t\t     open-korean-text-2.1.0.jar  tmp\n",
            "data\t\t     scala-library-2.12.3.jar\t twitter-text-1.14.7.jar\n",
            "jhannanum-0.8.4.jar  shineware-common-1.0.jar\n"
          ]
        }
      ]
    },
    {
      "cell_type": "code",
      "source": [
        "!jar xvf ../open-korean-text-2.1.0.jar"
      ],
      "metadata": {
        "colab": {
          "base_uri": "https://localhost:8080/"
        },
        "id": "RdL200Hzn56m",
        "outputId": "fc163a52-2f39-4000-e2e3-78a28d92e4b6"
      },
      "execution_count": 27,
      "outputs": [
        {
          "output_type": "stream",
          "name": "stdout",
          "text": [
            "  created: META-INF/\n",
            " inflated: META-INF/MANIFEST.MF\n",
            "  created: org/\n",
            "  created: org/openkoreantext/\n",
            "  created: org/openkoreantext/processor/\n",
            "  created: org/openkoreantext/processor/normalizer/\n",
            "  created: org/openkoreantext/processor/phrase_extractor/\n",
            "  created: org/openkoreantext/processor/qa/\n",
            "  created: org/openkoreantext/processor/stemmer/\n",
            "  created: org/openkoreantext/processor/tokenizer/\n",
            "  created: org/openkoreantext/processor/tools/\n",
            "  created: org/openkoreantext/processor/util/\n",
            "  created: org/openkoreantext/processor/util/adjective/\n",
            "  created: org/openkoreantext/processor/util/adverb/\n",
            "  created: org/openkoreantext/processor/util/auxiliary/\n",
            "  created: org/openkoreantext/processor/util/freq/\n",
            "  created: org/openkoreantext/processor/util/josa/\n",
            "  created: org/openkoreantext/processor/util/noun/\n",
            "  created: org/openkoreantext/processor/util/substantives/\n",
            "  created: org/openkoreantext/processor/util/typos/\n",
            "  created: org/openkoreantext/processor/util/verb/\n",
            " inflated: org/openkoreantext/processor/KoreanPosJava.class\n",
            " inflated: org/openkoreantext/processor/KoreanTokenJava.class\n",
            " inflated: org/openkoreantext/processor/normalizer/KoreanNormalizer$.class\n",
            " inflated: org/openkoreantext/processor/normalizer/KoreanNormalizer$Segment$.class\n",
            " inflated: org/openkoreantext/processor/normalizer/KoreanNormalizer$Segment.class\n",
            " inflated: org/openkoreantext/processor/normalizer/KoreanNormalizer.class\n",
            " inflated: org/openkoreantext/processor/OpenKoreanTextProcessor$.class\n",
            " inflated: org/openkoreantext/processor/OpenKoreanTextProcessor.class\n",
            " inflated: org/openkoreantext/processor/OpenKoreanTextProcessorJava.class\n",
            " inflated: org/openkoreantext/processor/phrase_extractor/KoreanPhraseExtractor$.class\n",
            " inflated: org/openkoreantext/processor/phrase_extractor/KoreanPhraseExtractor$KoreanPhrase$.class\n",
            " inflated: org/openkoreantext/processor/phrase_extractor/KoreanPhraseExtractor$KoreanPhrase.class\n",
            " inflated: org/openkoreantext/processor/phrase_extractor/KoreanPhraseExtractor$PhraseBuffer$.class\n",
            " inflated: org/openkoreantext/processor/phrase_extractor/KoreanPhraseExtractor$PhraseBuffer.class\n",
            " inflated: org/openkoreantext/processor/phrase_extractor/KoreanPhraseExtractor.class\n",
            " inflated: org/openkoreantext/processor/qa/BatchGetUnknownNouns$.class\n",
            " inflated: org/openkoreantext/processor/qa/BatchGetUnknownNouns$ChunkWithTweet$.class\n",
            " inflated: org/openkoreantext/processor/qa/BatchGetUnknownNouns$ChunkWithTweet.class\n",
            " inflated: org/openkoreantext/processor/qa/BatchGetUnknownNouns.class\n",
            " inflated: org/openkoreantext/processor/qa/BatchTokenizeTweets$.class\n",
            " inflated: org/openkoreantext/processor/qa/BatchTokenizeTweets$ParseTime$.class\n",
            " inflated: org/openkoreantext/processor/qa/BatchTokenizeTweets$ParseTime.class\n",
            " inflated: org/openkoreantext/processor/qa/BatchTokenizeTweets.class\n",
            " inflated: org/openkoreantext/processor/qa/KoreanProcessorSandbox$.class\n",
            " inflated: org/openkoreantext/processor/qa/KoreanProcessorSandbox.class\n",
            " inflated: org/openkoreantext/processor/stemmer/KoreanStemmer$.class\n",
            " inflated: org/openkoreantext/processor/stemmer/KoreanStemmer.class\n",
            " inflated: org/openkoreantext/processor/tokenizer/KoreanChunk$.class\n",
            " inflated: org/openkoreantext/processor/tokenizer/KoreanChunk.class\n",
            " inflated: org/openkoreantext/processor/tokenizer/KoreanChunker$.class\n",
            " inflated: org/openkoreantext/processor/tokenizer/KoreanChunker$ChunkMatch$.class\n",
            " inflated: org/openkoreantext/processor/tokenizer/KoreanChunker$ChunkMatch.class\n",
            " inflated: org/openkoreantext/processor/tokenizer/KoreanChunker.class\n",
            " inflated: org/openkoreantext/processor/tokenizer/KoreanDetokenizer$.class\n",
            " inflated: org/openkoreantext/processor/tokenizer/KoreanDetokenizer.class\n",
            " inflated: org/openkoreantext/processor/tokenizer/KoreanSentenceSplitter$.class\n",
            " inflated: org/openkoreantext/processor/tokenizer/KoreanSentenceSplitter.class\n",
            " inflated: org/openkoreantext/processor/tokenizer/KoreanTokenizer$.class\n",
            " inflated: org/openkoreantext/processor/tokenizer/KoreanTokenizer$CandidateParse$.class\n",
            " inflated: org/openkoreantext/processor/tokenizer/KoreanTokenizer$CandidateParse.class\n",
            " inflated: org/openkoreantext/processor/tokenizer/KoreanTokenizer$KoreanToken$.class\n",
            " inflated: org/openkoreantext/processor/tokenizer/KoreanTokenizer$KoreanToken.class\n",
            " inflated: org/openkoreantext/processor/tokenizer/KoreanTokenizer$PossibleTrie$.class\n",
            " inflated: org/openkoreantext/processor/tokenizer/KoreanTokenizer$PossibleTrie.class\n",
            " inflated: org/openkoreantext/processor/tokenizer/KoreanTokenizer.class\n",
            " inflated: org/openkoreantext/processor/tokenizer/ParsedChunk$.class\n",
            " inflated: org/openkoreantext/processor/tokenizer/ParsedChunk.class\n",
            " inflated: org/openkoreantext/processor/tokenizer/Sentence$.class\n",
            " inflated: org/openkoreantext/processor/tokenizer/Sentence.class\n",
            " inflated: org/openkoreantext/processor/tokenizer/TokenizerProfile$.class\n",
            " inflated: org/openkoreantext/processor/tokenizer/TokenizerProfile.class\n",
            " inflated: org/openkoreantext/processor/tools/CreateChunkParsingCandidates$.class\n",
            " inflated: org/openkoreantext/processor/tools/CreateChunkParsingCandidates.class\n",
            " inflated: org/openkoreantext/processor/tools/CreateConjugationExamples$.class\n",
            " inflated: org/openkoreantext/processor/tools/CreateConjugationExamples$ConjugationExample$.class\n",
            " inflated: org/openkoreantext/processor/tools/CreateConjugationExamples$ConjugationExample.class\n",
            " inflated: org/openkoreantext/processor/tools/CreateConjugationExamples.class\n",
            " inflated: org/openkoreantext/processor/tools/CreateParsingExamples$.class\n",
            " inflated: org/openkoreantext/processor/tools/CreateParsingExamples$ParsingExample$.class\n",
            " inflated: org/openkoreantext/processor/tools/CreateParsingExamples$ParsingExample.class\n",
            " inflated: org/openkoreantext/processor/tools/CreateParsingExamples.class\n",
            " inflated: org/openkoreantext/processor/tools/CreatePhraseExtractionExamples$.class\n",
            " inflated: org/openkoreantext/processor/tools/CreatePhraseExtractionExamples$PhraseExample$.class\n",
            " inflated: org/openkoreantext/processor/tools/CreatePhraseExtractionExamples$PhraseExample.class\n",
            " inflated: org/openkoreantext/processor/tools/CreatePhraseExtractionExamples.class\n",
            " inflated: org/openkoreantext/processor/tools/DeduplicateAndSortDictionaries$.class\n",
            " inflated: org/openkoreantext/processor/tools/DeduplicateAndSortDictionaries.class\n",
            " inflated: org/openkoreantext/processor/tools/Runnable.class\n",
            " inflated: org/openkoreantext/processor/tools/UpdateAllTheExamples$.class\n",
            " inflated: org/openkoreantext/processor/tools/UpdateAllTheExamples.class\n",
            " inflated: org/openkoreantext/processor/util/adjective/adjective.txt\n",
            " inflated: org/openkoreantext/processor/util/adverb/adverb.txt\n",
            " inflated: org/openkoreantext/processor/util/auxiliary/conjunctions.txt\n",
            " inflated: org/openkoreantext/processor/util/auxiliary/determiner.txt\n",
            " inflated: org/openkoreantext/processor/util/auxiliary/exclamation.txt\n",
            " inflated: org/openkoreantext/processor/util/CharacterUtils$CharacterBuffer.class\n",
            " inflated: org/openkoreantext/processor/util/CharacterUtils$Java4CharacterUtils.class\n",
            " inflated: org/openkoreantext/processor/util/CharacterUtils$Java5CharacterUtils.class\n",
            " inflated: org/openkoreantext/processor/util/CharacterUtils.class\n",
            " inflated: org/openkoreantext/processor/util/CharArrayMap$1.class\n",
            " inflated: org/openkoreantext/processor/util/CharArrayMap$EmptyCharArrayMap.class\n",
            " inflated: org/openkoreantext/processor/util/CharArrayMap$EntryIterator.class\n",
            " inflated: org/openkoreantext/processor/util/CharArrayMap$EntrySet.class\n",
            " inflated: org/openkoreantext/processor/util/CharArrayMap$MapEntry.class\n",
            " inflated: org/openkoreantext/processor/util/CharArrayMap$UnmodifiableCharArrayMap.class\n",
            " inflated: org/openkoreantext/processor/util/CharArrayMap.class\n",
            " inflated: org/openkoreantext/processor/util/CharArraySet.class\n",
            " inflated: org/openkoreantext/processor/util/example_chunks.txt\n",
            " inflated: org/openkoreantext/processor/util/example_tweets.txt\n",
            " inflated: org/openkoreantext/processor/util/freq/entity-freq.txt.gz\n",
            " inflated: org/openkoreantext/processor/util/Hangul$.class\n",
            " inflated: org/openkoreantext/processor/util/Hangul$DoubleCoda$.class\n",
            " inflated: org/openkoreantext/processor/util/Hangul$DoubleCoda.class\n",
            " inflated: org/openkoreantext/processor/util/Hangul$HangulChar$.class\n",
            " inflated: org/openkoreantext/processor/util/Hangul$HangulChar.class\n",
            " inflated: org/openkoreantext/processor/util/Hangul.class\n",
            " inflated: org/openkoreantext/processor/util/josa/josa.txt\n",
            " inflated: org/openkoreantext/processor/util/KoreanConjugation$.class\n",
            " inflated: org/openkoreantext/processor/util/KoreanConjugation.class\n",
            " inflated: org/openkoreantext/processor/util/KoreanDictionaryProvider$.class\n",
            " inflated: org/openkoreantext/processor/util/KoreanDictionaryProvider.class\n",
            " inflated: org/openkoreantext/processor/util/KoreanPos$.class\n",
            " inflated: org/openkoreantext/processor/util/KoreanPos$KoreanPosTrie$.class\n",
            " inflated: org/openkoreantext/processor/util/KoreanPos$KoreanPosTrie.class\n",
            " inflated: org/openkoreantext/processor/util/KoreanPos.class\n",
            " inflated: org/openkoreantext/processor/util/KoreanSubstantive$.class\n",
            " inflated: org/openkoreantext/processor/util/KoreanSubstantive.class\n",
            " inflated: org/openkoreantext/processor/util/noun/bible.txt\n",
            " inflated: org/openkoreantext/processor/util/noun/company_names.txt\n",
            " inflated: org/openkoreantext/processor/util/noun/congress.txt\n",
            " inflated: org/openkoreantext/processor/util/noun/entities.txt\n",
            " inflated: org/openkoreantext/processor/util/noun/foreign.txt\n",
            " inflated: org/openkoreantext/processor/util/noun/geolocations.txt\n",
            " inflated: org/openkoreantext/processor/util/noun/kpop.txt\n",
            " inflated: org/openkoreantext/processor/util/noun/lol.txt\n",
            " inflated: org/openkoreantext/processor/util/noun/names.txt\n",
            " inflated: org/openkoreantext/processor/util/noun/nouns.txt\n",
            " inflated: org/openkoreantext/processor/util/noun/pokemon.txt\n",
            " inflated: org/openkoreantext/processor/util/noun/profane.txt\n",
            " inflated: org/openkoreantext/processor/util/noun/slangs.txt\n",
            " inflated: org/openkoreantext/processor/util/noun/spam.txt\n",
            " inflated: org/openkoreantext/processor/util/noun/twitter.txt\n",
            " inflated: org/openkoreantext/processor/util/noun/wikipedia_title_nouns.txt\n",
            " inflated: org/openkoreantext/processor/util/substantives/family_names.txt\n",
            " inflated: org/openkoreantext/processor/util/substantives/given_names.txt\n",
            " inflated: org/openkoreantext/processor/util/substantives/modifier.txt\n",
            " inflated: org/openkoreantext/processor/util/substantives/suffix.txt\n",
            " inflated: org/openkoreantext/processor/util/typos/typos.txt\n",
            " inflated: org/openkoreantext/processor/util/verb/eomi.txt\n",
            " inflated: org/openkoreantext/processor/util/verb/pre_eomi.txt\n",
            " inflated: org/openkoreantext/processor/util/verb/verb.txt\n",
            " inflated: org/openkoreantext/processor/util/verb/verb_prefix.txt\n",
            "  created: META-INF/maven/\n",
            "  created: META-INF/maven/org.openkoreantext/\n",
            "  created: META-INF/maven/org.openkoreantext/open-korean-text/\n",
            " inflated: META-INF/maven/org.openkoreantext/open-korean-text/pom.xml\n",
            " inflated: META-INF/maven/org.openkoreantext/open-korean-text/pom.properties\n"
          ]
        }
      ]
    },
    {
      "cell_type": "code",
      "source": [],
      "metadata": {
        "id": "wIBZZXhGoLBV"
      },
      "execution_count": null,
      "outputs": []
    }
  ]
}