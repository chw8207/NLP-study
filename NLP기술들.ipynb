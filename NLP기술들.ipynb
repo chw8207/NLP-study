{
  "nbformat": 4,
  "nbformat_minor": 0,
  "metadata": {
    "colab": {
      "provenance": [],
      "mount_file_id": "1nH_xeIHFBrB0Qat3_q2nA4BJuZVS1sA_",
      "authorship_tag": "ABX9TyOmy+B+7zyGvg7kE3ZEroSz",
      "include_colab_link": true
    },
    "kernelspec": {
      "name": "python3",
      "display_name": "Python 3"
    },
    "language_info": {
      "name": "python"
    }
  },
  "cells": [
    {
      "cell_type": "markdown",
      "metadata": {
        "id": "view-in-github",
        "colab_type": "text"
      },
      "source": [
        "<a href=\"https://colab.research.google.com/github/chw8207/NLP-study/blob/main/NLP%EA%B8%B0%EC%88%A0%EB%93%A4.ipynb\" target=\"_parent\"><img src=\"https://colab.research.google.com/assets/colab-badge.svg\" alt=\"Open In Colab\"/></a>"
      ]
    },
    {
      "cell_type": "markdown",
      "source": [
        "### 텍스트 토큰화"
      ],
      "metadata": {
        "id": "7JhyKiAbZsjv"
      }
    },
    {
      "cell_type": "code",
      "execution_count": 4,
      "metadata": {
        "colab": {
          "base_uri": "https://localhost:8080/"
        },
        "id": "0Nl0d1LvZmRX",
        "outputId": "9fdc3b5a-e55a-4faf-f5b5-7a8d36361d25"
      },
      "outputs": [
        {
          "output_type": "stream",
          "name": "stdout",
          "text": [
            "['mary', ',', 'do', \"n't\", 'slap', 'the', 'green', 'witch', '.']\n"
          ]
        }
      ],
      "source": [
        "import spacy\n",
        "nlp = spacy.load('en_core_web_sm')\n",
        "text = \"Mary, don't slap the green witch.\"\n",
        "print([str(token) for token in nlp(text.lower())])"
      ]
    },
    {
      "cell_type": "code",
      "source": [
        "from nltk.tokenize import TweetTokenizer\n",
        "tweet = u\"Snow White and the Seven Degrees #MakeAMovieCold@midnight:-)\"\n",
        "tokenizer = TweetTokenizer()\n",
        "print(tokenizer.tokenize(tweet.lower()))"
      ],
      "metadata": {
        "colab": {
          "base_uri": "https://localhost:8080/"
        },
        "id": "cnkH9rWfaael",
        "outputId": "cc29630f-d9b4-45c2-f715-eabed9c5d041"
      },
      "execution_count": 6,
      "outputs": [
        {
          "output_type": "stream",
          "name": "stdout",
          "text": [
            "['snow', 'white', 'and', 'the', 'seven', 'degrees', '#makeamoviecold', '@midnight', ':-)']\n"
          ]
        }
      ]
    },
    {
      "cell_type": "markdown",
      "source": [
        "### 유니그램, 바이그램, ... n그램"
      ],
      "metadata": {
        "id": "3sncbpl2blF6"
      }
    },
    {
      "cell_type": "code",
      "source": [
        "# 텍스트에서 n그램 만들기\n",
        "def n_grams(text, n) : \n",
        "  '''\n",
        "  takes tokens or text, returns a list of n-grams\n",
        "  '''\n",
        "  return [text[i:i+n] for i in range(len(text)-n+1)]\n",
        "\n",
        "cleaned = ['mary', ',', \"n't\", 'slap', 'the', 'green', 'witch', '.']\n",
        "print(n_grams(cleaned,3))"
      ],
      "metadata": {
        "colab": {
          "base_uri": "https://localhost:8080/"
        },
        "id": "wZ00dL4Zbpm0",
        "outputId": "74e334d8-d420-4274-94da-c5044db3e17b"
      },
      "execution_count": 9,
      "outputs": [
        {
          "output_type": "stream",
          "name": "stdout",
          "text": [
            "[['mary', ',', \"n't\"], [',', \"n't\", 'slap'], [\"n't\", 'slap', 'the'], ['slap', 'the', 'green'], ['the', 'green', 'witch'], ['green', 'witch', '.']]\n"
          ]
        }
      ]
    },
    {
      "cell_type": "markdown",
      "source": [
        "### 표제어와 어간"
      ],
      "metadata": {
        "id": "yU0RMKpRfkad"
      }
    },
    {
      "cell_type": "code",
      "source": [
        "# 표제어 추출 : 단어를 표제어로 바꾼다.\n",
        "import spacy\n",
        "nlp = spacy.load('en_core_web_sm')\n",
        "doc = nlp(u'he was running late')\n",
        "for token in doc : \n",
        "  print(f'{token} --> {token.lemma_}')"
      ],
      "metadata": {
        "colab": {
          "base_uri": "https://localhost:8080/"
        },
        "id": "ENvOrH3Tbp8J",
        "outputId": "47fbae4c-df9b-48b5-8cc1-75f16a81a77e"
      },
      "execution_count": 14,
      "outputs": [
        {
          "output_type": "stream",
          "name": "stdout",
          "text": [
            "he --> he\n",
            "was --> be\n",
            "running --> run\n",
            "late --> late\n"
          ]
        }
      ]
    },
    {
      "cell_type": "code",
      "source": [
        "# 어간추출 기법 찾아보기"
      ],
      "metadata": {
        "id": "1Q4Xdf_0gQtE"
      },
      "execution_count": null,
      "outputs": []
    },
    {
      "cell_type": "markdown",
      "source": [
        "### 단어 분류하기 : 품사 태깅"
      ],
      "metadata": {
        "id": "7Rz3ePJcgjdB"
      }
    },
    {
      "cell_type": "code",
      "source": [
        "# 품사(part-of-speech(POS)) 태깅\n",
        "import spacy\n",
        "nlp = spacy.load('en_core_web_sm')\n",
        "doc = nlp(u'Marry slapped the green witch.')\n",
        "for token in doc : \n",
        "  print(f'{token} --> {token.pos_}')"
      ],
      "metadata": {
        "colab": {
          "base_uri": "https://localhost:8080/"
        },
        "id": "Qs3V82eNfmLc",
        "outputId": "a15fb53b-396c-43f4-ca17-2dc8e3b02f7c"
      },
      "execution_count": 17,
      "outputs": [
        {
          "output_type": "stream",
          "name": "stdout",
          "text": [
            "Marry --> PROPN\n",
            "slapped --> VERB\n",
            "the --> DET\n",
            "green --> ADJ\n",
            "witch --> NOUN\n",
            ". --> PUNCT\n"
          ]
        }
      ]
    }
  ]
}