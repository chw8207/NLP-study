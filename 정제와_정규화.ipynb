{
  "nbformat": 4,
  "nbformat_minor": 0,
  "metadata": {
    "colab": {
      "provenance": [],
      "authorship_tag": "ABX9TyN57h6vkVSWYfxYe2Jz9H+r",
      "include_colab_link": true
    },
    "kernelspec": {
      "name": "python3",
      "display_name": "Python 3"
    },
    "language_info": {
      "name": "python"
    }
  },
  "cells": [
    {
      "cell_type": "markdown",
      "metadata": {
        "id": "view-in-github",
        "colab_type": "text"
      },
      "source": [
        "<a href=\"https://colab.research.google.com/github/chw8207/NLP-study/blob/main/%EC%A0%95%EC%A0%9C%EC%99%80_%EC%A0%95%EA%B7%9C%ED%99%94.ipynb\" target=\"_parent\"><img src=\"https://colab.research.google.com/assets/colab-badge.svg\" alt=\"Open In Colab\"/></a>"
      ]
    },
    {
      "cell_type": "markdown",
      "source": [],
      "metadata": {
        "id": "p7e-5LQgc7xM"
      }
    },
    {
      "cell_type": "markdown",
      "source": [
        "- 정제(cleansing) : 코퍼스로부터 노이즈 데이터 제거\n",
        "- 정규화(normalization) : 표현 방법이 다른 단어들을 통합하여 같은 단어로 만들어주기"
      ],
      "metadata": {
        "id": "qJSkEjrac9yX"
      }
    },
    {
      "cell_type": "markdown",
      "source": [
        "### 길이가 짧은 단어"
      ],
      "metadata": {
        "id": "wOcZHWFJeACQ"
      }
    },
    {
      "cell_type": "code",
      "source": [],
      "metadata": {
        "id": "r_259Q_8d-4t"
      },
      "execution_count": null,
      "outputs": []
    },
    {
      "cell_type": "code",
      "execution_count": null,
      "metadata": {
        "id": "Kb6LdRdhc1HN"
      },
      "outputs": [],
      "source": []
    }
  ]
}